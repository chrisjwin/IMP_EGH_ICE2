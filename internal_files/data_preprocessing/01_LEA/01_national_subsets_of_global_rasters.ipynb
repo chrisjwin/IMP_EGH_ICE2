{
 "cells": [
  {
   "cell_type": "code",
   "execution_count": 4,
   "metadata": {},
   "outputs": [],
   "source": [
    "import geokit as gk\n",
    "import countrydata\n",
    "from copy import copy\n",
    "import math"
   ]
  },
  {
   "cell_type": "code",
   "execution_count": 2,
   "metadata": {},
   "outputs": [],
   "source": [
    "output_folder = \"/storage/internal/home/c-winkler/Research/02_Projects/02_WASCAL_graduate_school/data/01_LEA_data/00_exclusion_datasets/CGLS\"\n",
    "output_folder = \"/storage/internal/home/c-winkler/Research/02_Projects/02_WASCAL_graduate_school/data/01_LEA_data/00_exclusion_datasets/GLWD\""
   ]
  },
  {
   "cell_type": "code",
   "execution_count": 10,
   "metadata": {},
   "outputs": [],
   "source": [
    "base_raster=\"/storage/internal/data/c-winkler/04_Data/01_Geodata/Landcover/Copernicus_CGLS_LC100m_V3.0/2019/PROBAV_LC100_global_v3.0.1_2019-nrt_Discrete-Classification-map_EPSG-4326.tif\"\n",
    "base_raster=\"/storage/internal/data/c-winkler/04_Data/01_Geodata/WaterCourses/GLWD_GlobalLakesAndWetlandsDatabase/GLWD-level3/glwd_3/GLWD.tif\""
   ]
  },
  {
   "cell_type": "code",
   "execution_count": 13,
   "metadata": {},
   "outputs": [],
   "source": [
    "# extract raster info and base matrix (full data matrix)\n",
    "raster_info=gk.raster.rasterInfo(base_raster)\n",
    "base_mx = gk.raster.extractMatrix(base_raster)\n",
    "base_shape = base_mx.shape"
   ]
  },
  {
   "cell_type": "code",
   "execution_count": 14,
   "metadata": {},
   "outputs": [
    {
     "data": {
      "text/html": [
       "<div>\n",
       "<style scoped>\n",
       "    .dataframe tbody tr th:only-of-type {\n",
       "        vertical-align: middle;\n",
       "    }\n",
       "\n",
       "    .dataframe tbody tr th {\n",
       "        vertical-align: top;\n",
       "    }\n",
       "\n",
       "    .dataframe thead th {\n",
       "        text-align: right;\n",
       "    }\n",
       "</style>\n",
       "<table border=\"1\" class=\"dataframe\">\n",
       "  <thead>\n",
       "    <tr style=\"text-align: right;\">\n",
       "      <th></th>\n",
       "      <th>geom</th>\n",
       "      <th>GID_0</th>\n",
       "      <th>NAME_0</th>\n",
       "    </tr>\n",
       "  </thead>\n",
       "  <tbody>\n",
       "    <tr>\n",
       "      <th>0</th>\n",
       "      <td>MULTIPOLYGON (((1.94152796 6.30013895,1.941527...</td>\n",
       "      <td>BEN</td>\n",
       "      <td>Benin</td>\n",
       "    </tr>\n",
       "    <tr>\n",
       "      <th>1</th>\n",
       "      <td>POLYGON ((0.76395154 10.99730682,0.75827003 10...</td>\n",
       "      <td>BFA</td>\n",
       "      <td>Burkina Faso</td>\n",
       "    </tr>\n",
       "    <tr>\n",
       "      <th>2</th>\n",
       "      <td>MULTIPOLYGON (((-6.66930389 4.72958422,-6.6693...</td>\n",
       "      <td>CIV</td>\n",
       "      <td>Côte d'Ivoire</td>\n",
       "    </tr>\n",
       "    <tr>\n",
       "      <th>3</th>\n",
       "      <td>MULTIPOLYGON (((-24.68680573 14.81264019,-24.6...</td>\n",
       "      <td>CPV</td>\n",
       "      <td>Cape Verde</td>\n",
       "    </tr>\n",
       "    <tr>\n",
       "      <th>4</th>\n",
       "      <td>MULTIPOLYGON (((-2.03541589 4.75180483,-2.0354...</td>\n",
       "      <td>GHA</td>\n",
       "      <td>Ghana</td>\n",
       "    </tr>\n",
       "    <tr>\n",
       "      <th>5</th>\n",
       "      <td>MULTIPOLYGON (((-13.79485989 9.46847153,-13.79...</td>\n",
       "      <td>GIN</td>\n",
       "      <td>Guinea</td>\n",
       "    </tr>\n",
       "    <tr>\n",
       "      <th>6</th>\n",
       "      <td>MULTIPOLYGON (((-16.8148613 13.38819313,-16.81...</td>\n",
       "      <td>GMB</td>\n",
       "      <td>Gambia</td>\n",
       "    </tr>\n",
       "    <tr>\n",
       "      <th>7</th>\n",
       "      <td>MULTIPOLYGON (((-15.72069263 10.87430668,-15.7...</td>\n",
       "      <td>GNB</td>\n",
       "      <td>Guinea-Bissau</td>\n",
       "    </tr>\n",
       "    <tr>\n",
       "      <th>8</th>\n",
       "      <td>MULTIPOLYGON (((-10.81263924 6.34902811,-10.81...</td>\n",
       "      <td>LBR</td>\n",
       "      <td>Liberia</td>\n",
       "    </tr>\n",
       "    <tr>\n",
       "      <th>9</th>\n",
       "      <td>POLYGON ((-3.43877888 13.16110611,-3.448838 13...</td>\n",
       "      <td>MLI</td>\n",
       "      <td>Mali</td>\n",
       "    </tr>\n",
       "    <tr>\n",
       "      <th>10</th>\n",
       "      <td>POLYGON ((12.38640499 13.07677174,12.3781414 1...</td>\n",
       "      <td>NER</td>\n",
       "      <td>Niger</td>\n",
       "    </tr>\n",
       "    <tr>\n",
       "      <th>11</th>\n",
       "      <td>MULTIPOLYGON (((6.44041586 4.30875111,6.440415...</td>\n",
       "      <td>NGA</td>\n",
       "      <td>Nigeria</td>\n",
       "    </tr>\n",
       "    <tr>\n",
       "      <th>12</th>\n",
       "      <td>MULTIPOLYGON (((-16.65374947 13.64958286,-16.6...</td>\n",
       "      <td>SEN</td>\n",
       "      <td>Senegal</td>\n",
       "    </tr>\n",
       "    <tr>\n",
       "      <th>13</th>\n",
       "      <td>MULTIPOLYGON (((-11.53458214 6.94402885,-11.53...</td>\n",
       "      <td>SLE</td>\n",
       "      <td>Sierra Leone</td>\n",
       "    </tr>\n",
       "    <tr>\n",
       "      <th>14</th>\n",
       "      <td>MULTIPOLYGON (((1.28819501 6.13486004,1.288195...</td>\n",
       "      <td>TGO</td>\n",
       "      <td>Togo</td>\n",
       "    </tr>\n",
       "  </tbody>\n",
       "</table>\n",
       "</div>"
      ],
      "text/plain": [
       "                                                 geom GID_0         NAME_0\n",
       "0   MULTIPOLYGON (((1.94152796 6.30013895,1.941527...   BEN          Benin\n",
       "1   POLYGON ((0.76395154 10.99730682,0.75827003 10...   BFA   Burkina Faso\n",
       "2   MULTIPOLYGON (((-6.66930389 4.72958422,-6.6693...   CIV  Côte d'Ivoire\n",
       "3   MULTIPOLYGON (((-24.68680573 14.81264019,-24.6...   CPV     Cape Verde\n",
       "4   MULTIPOLYGON (((-2.03541589 4.75180483,-2.0354...   GHA          Ghana\n",
       "5   MULTIPOLYGON (((-13.79485989 9.46847153,-13.79...   GIN         Guinea\n",
       "6   MULTIPOLYGON (((-16.8148613 13.38819313,-16.81...   GMB         Gambia\n",
       "7   MULTIPOLYGON (((-15.72069263 10.87430668,-15.7...   GNB  Guinea-Bissau\n",
       "8   MULTIPOLYGON (((-10.81263924 6.34902811,-10.81...   LBR        Liberia\n",
       "9   POLYGON ((-3.43877888 13.16110611,-3.448838 13...   MLI           Mali\n",
       "10  POLYGON ((12.38640499 13.07677174,12.3781414 1...   NER          Niger\n",
       "11  MULTIPOLYGON (((6.44041586 4.30875111,6.440415...   NGA        Nigeria\n",
       "12  MULTIPOLYGON (((-16.65374947 13.64958286,-16.6...   SEN        Senegal\n",
       "13  MULTIPOLYGON (((-11.53458214 6.94402885,-11.53...   SLE   Sierra Leone\n",
       "14  MULTIPOLYGON (((1.28819501 6.13486004,1.288195...   TGO           Togo"
      ]
     },
     "execution_count": 14,
     "metadata": {},
     "output_type": "execute_result"
    }
   ],
   "source": [
    "# load all country shapes\n",
    "gid_shp=\"/storage/internal/data/gears/lecture_heidi_niger/data/00_general_data/00_geospatial_data/GADM_country_shapes/gadm36_0.shp\"\n",
    "\n",
    "countries = countrydata.Political.get_union('ECOWAS')\n",
    "\n",
    "countries_str=\"','\".join(countries)\n",
    "country_df=gk.vector.extractFeatures(\n",
    "    source=gid_shp,\n",
    "    where=f\"GID_0 in ('{countries_str}')\"\n",
    ")\n",
    "country_df"
   ]
  },
  {
   "cell_type": "code",
   "execution_count": 15,
   "metadata": {},
   "outputs": [
    {
     "name": "stdout",
     "output_type": "stream",
     "text": [
      "Now process BEN\n",
      "Now process BFA\n",
      "Now process CIV\n",
      "Now process CPV\n",
      "Now process GHA\n",
      "Now process GIN\n",
      "Now process GMB\n",
      "Now process GNB\n",
      "Now process LBR\n",
      "Now process MLI\n",
      "Now process NER\n",
      "Now process NGA\n",
      "Now process SEN\n",
      "Now process SLE\n",
      "Now process TGO\n"
     ]
    },
    {
     "name": "stderr",
     "output_type": "stream",
     "text": [
      "ERROR 1: /storage/internal/home/c-winkler/Research/02_Projects/02_WASCAL_graduate_school/data/01_LEA_data/00_exclusion_datasets/GLWD/CPV/CPV_warped_GLWD.tif, band 1: Failed to compute min/max, no valid pixels found in sampling.\n"
     ]
    }
   ],
   "source": [
    "for country in countries:\n",
    "    print(\"Now process\", country)\n",
    "    # extract and calculate country data\n",
    "    country_shape = country_df[country_df.GID_0==country].geom.iloc[0]\n",
    "    # calculate the \"cell number extent\" of the country shape when applied to the raster resolution and bounds\n",
    "    edge_cell_numbers={\n",
    "        'left': math.floor((country_shape.GetEnvelope()[0]-raster_info.bounds[0])/raster_info.pixelWidth),\n",
    "        'right': math.ceil((country_shape.GetEnvelope()[1]-raster_info.bounds[0])/raster_info.pixelWidth),\n",
    "        'bottom': base_shape[0] - math.floor((country_shape.GetEnvelope()[2]-raster_info.bounds[1])/raster_info.pixelHeight),\n",
    "        'top': base_shape[0] - math.ceil((country_shape.GetEnvelope()[3]-raster_info.bounds[1])/raster_info.pixelHeight),\n",
    "    }\n",
    "    # extract the country shape matrix based on the cell number slices\n",
    "    mx = copy(base_mx[edge_cell_numbers['top']:edge_cell_numbers['bottom'], edge_cell_numbers['left']:edge_cell_numbers['right']])\n",
    "    # create the folder path\n",
    "    os.mkdir(os.path.join(output_folder, country))\n",
    "    # generate the new bounds, in line with original raster bounds and resolution\n",
    "    bounds=(\n",
    "        raster_info.bounds[0]+edge_cell_numbers['left']*raster_info.pixelWidth,\n",
    "        raster_info.bounds[3]-edge_cell_numbers['bottom']*raster_info.pixelHeight,\n",
    "        raster_info.bounds[0]+edge_cell_numbers['right']*raster_info.pixelWidth,\n",
    "        raster_info.bounds[3]-edge_cell_numbers['top']*raster_info.pixelHeight,\n",
    "    )\n",
    "    # generate the raster while saving to disk\n",
    "    rstr = gk.raster.createRaster(\n",
    "        data=mx,\n",
    "        bounds=bounds,\n",
    "        output=os.path.join(\n",
    "            output_folder,\n",
    "            country,\n",
    "            f'{country}_warped_{os.path.basename(base_raster)}',\n",
    "        ),\n",
    "        pixelWidth=raster_info.pixelWidth,\n",
    "        pixelHeight=raster_info.pixelHeight,\n",
    "        srs=raster_info.srs,\n",
    "        noData=raster_info.noData,\n",
    "        meta=({'warping_info':'Warped to new bounds with unchanged parameters, based on raw data (see other keys'} | raster_info.meta),\n",
    "    )"
   ]
  },
  {
   "cell_type": "code",
   "execution_count": 16,
   "metadata": {},
   "outputs": [
    {
     "data": {
      "text/plain": [
       "AxHands(ax=<Axes:>, handles=<matplotlib.image.AxesImage object at 0x7f172fd021d0>, cbar=<matplotlib.colorbar.Colorbar object at 0x7f172fd02500>)"
      ]
     },
     "execution_count": 16,
     "metadata": {},
     "output_type": "execute_result"
    },
    {
     "data": {
      "image/png": "[encoded data removed]",
      "text/plain": [
       "<Figure size 864x864 with 2 Axes>"
      ]
     },
     "metadata": {
      "needs_background": "light"
     },
     "output_type": "display_data"
    }
   ],
   "source": [
    "gk.drawRaster(\"/storage/internal/home/c-winkler/Research/02_Projects/02_WASCAL_graduate_school/data/01_LEA_data/00_exclusion_datasets/GLWD/CPV/CPV_warped_GLWD.tif\")"
   ]
  },
  {
   "cell_type": "code",
   "execution_count": null,
   "metadata": {},
   "outputs": [],
   "source": [
    "# # THIS IS A DRAFT FOR A GEOKIT FUNCTION\n",
    "\n",
    "# def extract_subset(source, geom, output=None, meta=None):\n",
    "    # \"\"\"\n",
    "    # Extracts an unchanged subset of a raster over a geometry, with zero shift or resolution change.\n",
    "    # Note: All cells touching the geom will be extracted, touching geoms will hence produce rasters with slight overlaps.\n",
    "    \n",
    "#     source: str or numpy.ndarray or GDAL RASTERDATASET?? #TODO\n",
    "#     \"\"\"\n",
    "#     if isinstance(source, str):\n",
    "#         assert os.path.isfile(str), f\"If source is passed as a str, it must point to an existing raster file.\"\n",
    "#         raster_info = gk.raster.rasterInfo(source)\n",
    "#         source = gk.raster.extractMatrix(source)\n",
    "#     elif isinstance(source, np.ndarray): \n",
    "#         assert isinstance(meta, dict), f\"If source is passed as a pre-loaded matrix, 'meta' data must be provided as a dictionary\"\n",
    "#         required_keys=['bounds', 'pixelWidth', 'pixelHeight', 'srs', 'noData']\n",
    "#         assert all(x in meta.keys() for x in required_keys), f\"If metadata is passed as a dict, it must contain: {', '.join(required_keys)}\"\n",
    "#         raster_info = meta\n",
    "#     else:\n",
    "#         assert isinstance(source, raster), f\"If the source argument is not a str or a numpy array, it must be a GDAL RASTERDATASET??\" #TODO\n",
    "#         raster_info = gk.raster.rasterInfo(source)\n",
    "    \n",
    "#     assert isinstance(geom, osgeo.ogr.Geometry), f\"'geom' must be an instance of osgeo.ogr.Geometry.\"\n",
    "\n",
    "#     # calculate the \"cell number extent\" of the country shape when applied to the raster resolution and bounds\n",
    "#     edge_cell_numbers={\n",
    "#         'left': math.floor((geom.GetEnvelope()[0]-raster_info.bounds[0])/raster_info.pixelWidth),\n",
    "#         'right': math.ceil((geom.GetEnvelope()[1]-raster_info.bounds[0])/raster_info.pixelWidth),\n",
    "#         'bottom': base_shape[0] - math.floor((geom.GetEnvelope()[2]-raster_info.bounds[1])/raster_info.pixelHeight),\n",
    "#         'top': base_shape[0] - math.ceil((geom.GetEnvelope()[3]-raster_info.bounds[1])/raster_info.pixelHeight),\n",
    "#     }\n",
    "    \n",
    "#     # extract the country shape matrix based on the cell number slices\n",
    "#     mx = copy(base_mx[edge_cell_numbers['top']:edge_cell_numbers['bottom'], edge_cell_numbers['left']:edge_cell_numbers['right']])\n",
    "    \n",
    "#     # generate the new bounds, in line with original raster bounds and resolution\n",
    "#     bounds=(\n",
    "#         raster_info.bounds[0]+edge_cell_numbers['left']*raster_info.pixelWidth,\n",
    "#         raster_info.bounds[3]-edge_cell_numbers['bottom']*raster_info.pixelHeight,\n",
    "#         raster_info.bounds[0]+edge_cell_numbers['right']*raster_info.pixelWidth,\n",
    "#         raster_info.bounds[3]-edge_cell_numbers['top']*raster_info.pixelHeight,\n",
    "#     )\n",
    "\n",
    "#     # generate and return the raster while saving to disk\n",
    "#     return gk.raster.createRaster(\n",
    "#         data=mx,\n",
    "#         bounds=bounds,\n",
    "#         output=os.path.join(\n",
    "#             output_folder,\n",
    "#             country,\n",
    "#             f'{country}_warped_{os.path.basename(base_raster)}',\n",
    "#         ),\n",
    "#         pixelWidth=raster_info.pixelWidth,\n",
    "#         pixelHeight=raster_info.pixelHeight,\n",
    "#         srs=raster_info.srs,\n",
    "#         noData=raster_info.noData,\n",
    "#         meta=({'warping_info':'Subset with new bounds with unchanged parameters, based on raw data (see other keys)'} | raster_info.meta),\n",
    "#     )"
   ]
  }
 ],
 "metadata": {
  "kernelspec": {
   "display_name": "Python 3.10.4 ('geoFINE')",
   "language": "python",
   "name": "python3"
  },
  "language_info": {
   "codemirror_mode": {
    "name": "ipython",
    "version": 3
   },
   "file_extension": ".py",
   "mimetype": "text/x-python",
   "name": "python",
   "nbconvert_exporter": "python",
   "pygments_lexer": "ipython3",
   "version": "3.10.4"
  },
  "orig_nbformat": 4,
  "vscode": {
   "interpreter": {
    "hash": "3b31be43a51194f7da5424f0fb067c7ecc046e4a66f5655c230472e6ce1af7d0"
   }
  }
 },
 "nbformat": 4,
 "nbformat_minor": 2
}
