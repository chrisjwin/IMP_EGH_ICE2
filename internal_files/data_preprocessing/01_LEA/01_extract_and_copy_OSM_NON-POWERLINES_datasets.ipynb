{
 "cells": [
  {
   "cell_type": "code",
   "execution_count": 2,
   "metadata": {},
   "outputs": [],
   "source": [
    "import geokit as gk\n",
    "import shutil\n",
    "import os\n",
    "import countrydata"
   ]
  },
  {
   "cell_type": "code",
   "execution_count": 3,
   "metadata": {},
   "outputs": [],
   "source": [
    "output_folder=\"/storage/internal/home/c-winkler/Research/02_Projects/02_WASCAL_graduate_school/data/01_LEA_data/00_exclusion_datasets/OSM\""
   ]
  },
  {
   "cell_type": "code",
   "execution_count": 4,
   "metadata": {},
   "outputs": [
    {
     "data": {
      "text/plain": [
       "['BEN',\n",
       " 'BFA',\n",
       " 'CIV',\n",
       " 'CPV',\n",
       " 'GHA',\n",
       " 'GIN',\n",
       " 'GMB',\n",
       " 'GNB',\n",
       " 'LBR',\n",
       " 'MLI',\n",
       " 'NER',\n",
       " 'NGA',\n",
       " 'SEN',\n",
       " 'SLE',\n",
       " 'TGO']"
      ]
     },
     "execution_count": 4,
     "metadata": {},
     "output_type": "execute_result"
    }
   ],
   "source": [
    "countrydata.Political.get_union(\"ECOWAS\")"
   ]
  },
  {
   "cell_type": "code",
   "execution_count": null,
   "metadata": {},
   "outputs": [],
   "source": []
  },
  {
   "cell_type": "code",
   "execution_count": 5,
   "metadata": {},
   "outputs": [],
   "source": [
    "osm_basepaths=[\n",
    "    \"/storage/internal/data/c-winkler/04_Data/01_Geodata/Infrastructure/osm_data/COUNTRY/COU-NTRY_gis_osm_roads_free_1.shp\",\n",
    "    \"/storage/internal/data/c-winkler/04_Data/01_Geodata/Infrastructure/osm_data/COUNTRY/COU-NTRY_gis_osm_railways_free_1.shp\",\n",
    "    \"/storage/internal/data/c-winkler/04_Data/01_Geodata/Infrastructure/osm_data/COUNTRY/COU-NTRY_gis_osm_landuse_a_free_1.shp\",\n",
    "    \"/storage/internal/data/c-winkler/04_Data/01_Geodata/Infrastructure/osm_data/COUNTRY/COU-NTRY_gis_osm_pois_free_1.shp\",\n",
    "    \"/storage/internal/data/c-winkler/04_Data/01_Geodata/Infrastructure/osm_data/COUNTRY/COU-NTRY_gis_osm_pois_a_free_1.shp\",\n",
    "]"
   ]
  },
  {
   "cell_type": "code",
   "execution_count": 6,
   "metadata": {},
   "outputs": [],
   "source": [
    "osm_countries={\n",
    "    'BEN':('benin','benin'),\n",
    "    'BFA':('burkina faso','burkina-faso'),\n",
    "    'CIV':('ivory coast','ivory-coast'),\n",
    "    'CPV':('cape verde','cape-verde'),\n",
    "    'GHA':('ghana','ghana'),\n",
    "    'GIN':('guinea','guinea'),\n",
    "    'GMB':('senegal_gambia','senegal-and-gambia'), #Note: OSM geofabrik merges Senegal and Gambia country data\n",
    "    'GNB':('guinea-bissau','guinea-bissau'),\n",
    "    'LBR':('liberia','liberia'),\n",
    "    'MLI':('mali','mali'),\n",
    "    'NER':('niger','niger'),\n",
    "    'NGA':('nigeria','nigeria'),\n",
    "    'SEN':('senegal_gambia','senegal-and-gambia'), #Note: OSM geofabrik merges Senegal and Gambia country data\n",
    "    'SLE':('sierra leone','sierra-leone'),\n",
    "    'TGO':('togo','togo'),\n",
    "}"
   ]
  },
  {
   "cell_type": "code",
   "execution_count": 7,
   "metadata": {},
   "outputs": [],
   "source": [
    "def get_all_shp_subfiles(shp_path, verbose=False):\n",
    "    import glob\n",
    "    pathlist= glob.glob(shp_path.replace('.shp', '.*'))\n",
    "    if verbose: print(len(pathlist), \"files found for basepath\", shp_path.replace('.shp', '.*'))\n",
    "    return pathlist"
   ]
  },
  {
   "cell_type": "code",
   "execution_count": 8,
   "metadata": {},
   "outputs": [],
   "source": [
    "for country, osm_country in osm_countries.items():\n",
    "    if not os.path.exists(os.path.join(output_folder, country)):\n",
    "        os.mkdir(os.path.join(output_folder, country))\n",
    "    for osm_path in osm_basepaths:\n",
    "        filepath=osm_path.replace(\"COUNTRY\", osm_country[0]).replace('COU-NTRY', osm_country[1])\n",
    "        for subfilepath in get_all_shp_subfiles(filepath):\n",
    "            if os.path.isfile(os.path.join(\n",
    "                    output_folder,\n",
    "                    country,\n",
    "                    os.path.basename(subfilepath)\n",
    "                )):\n",
    "                continue\n",
    "            assert os.path.isfile(subfilepath), f\"Not a file: {subfilepath}\"\n",
    "            shutil.copy(\n",
    "                subfilepath, \n",
    "                os.path.join(\n",
    "                    output_folder,\n",
    "                    country,\n",
    "                    os.path.basename(subfilepath.replace(osm_country[1], country))\n",
    "                ),\n",
    "            )"
   ]
  },
  {
   "cell_type": "code",
   "execution_count": null,
   "metadata": {},
   "outputs": [],
   "source": []
  },
  {
   "cell_type": "code",
   "execution_count": null,
   "metadata": {},
   "outputs": [],
   "source": []
  }
 ],
 "metadata": {
  "kernelspec": {
   "display_name": "Python 3.10.4 ('geoFINE')",
   "language": "python",
   "name": "python3"
  },
  "language_info": {
   "codemirror_mode": {
    "name": "ipython",
    "version": 3
   },
   "file_extension": ".py",
   "mimetype": "text/x-python",
   "name": "python",
   "nbconvert_exporter": "python",
   "pygments_lexer": "ipython3",
   "version": "3.10.4"
  },
  "orig_nbformat": 4,
  "vscode": {
   "interpreter": {
    "hash": "3b31be43a51194f7da5424f0fb067c7ecc046e4a66f5655c230472e6ce1af7d0"
   }
  }
 },
 "nbformat": 4,
 "nbformat_minor": 2
}
