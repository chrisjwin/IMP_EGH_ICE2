{
 "cells": [
  {
   "cell_type": "code",
   "execution_count": 10,
   "metadata": {},
   "outputs": [],
   "source": [
    "import geokit as gk\n",
    "import countrydata\n",
    "import os"
   ]
  },
  {
   "cell_type": "code",
   "execution_count": 9,
   "metadata": {},
   "outputs": [],
   "source": [
    "data_folder=\"/storage/internal/home/c-winkler/Research/02_Projects/02_WASCAL_graduate_school/data/country_shapefiles\""
   ]
  },
  {
   "cell_type": "code",
   "execution_count": 3,
   "metadata": {},
   "outputs": [],
   "source": [
    "ecowas_countries = countrydata.Political.get_union('ecowas')"
   ]
  },
  {
   "cell_type": "code",
   "execution_count": 6,
   "metadata": {},
   "outputs": [],
   "source": [
    "gid_shp=\"/storage/internal/data/gears/lecture_heidi_niger/data/00_general_data/00_geospatial_data/GADM_country_shapes/gadm36_LEVEL.shp\""
   ]
  },
  {
   "cell_type": "code",
   "execution_count": 12,
   "metadata": {},
   "outputs": [
    {
     "name": "stdout",
     "output_type": "stream",
     "text": [
      "Now processing BEN\n",
      "No level 3 in BEN, continue.\n",
      "No level 4 in BEN, continue.\n",
      "No level 5 in BEN, continue.\n",
      "Now processing BFA\n",
      "No level 4 in BFA, continue.\n",
      "No level 5 in BFA, continue.\n",
      "Now processing CIV\n"
     ]
    },
    {
     "name": "stderr",
     "output_type": "stream",
     "text": [
      "Warning 1: One or several characters couldn't be converted correctly from UTF-8 to ISO-8859-1.  This warning will not be emitted anymore.\n",
      "Warning 1: One or several characters couldn't be converted correctly from UTF-8 to ISO-8859-1.  This warning will not be emitted anymore.\n"
     ]
    },
    {
     "name": "stdout",
     "output_type": "stream",
     "text": [
      "No level 5 in CIV, continue.\n",
      "Now processing CPV\n",
      "No level 2 in CPV, continue.\n",
      "No level 3 in CPV, continue.\n",
      "No level 4 in CPV, continue.\n",
      "No level 5 in CPV, continue.\n",
      "Now processing GHA\n",
      "No level 3 in GHA, continue.\n",
      "No level 4 in GHA, continue.\n",
      "No level 5 in GHA, continue.\n",
      "Now processing GIN\n",
      "No level 4 in GIN, continue.\n",
      "No level 5 in GIN, continue.\n",
      "Now processing GMB\n",
      "No level 3 in GMB, continue.\n",
      "No level 4 in GMB, continue.\n",
      "No level 5 in GMB, continue.\n",
      "Now processing GNB\n",
      "No level 3 in GNB, continue.\n",
      "No level 4 in GNB, continue.\n",
      "No level 5 in GNB, continue.\n",
      "Now processing LBR\n",
      "No level 4 in LBR, continue.\n",
      "No level 5 in LBR, continue.\n",
      "Now processing MLI\n",
      "No level 5 in MLI, continue.\n",
      "Now processing NER\n",
      "No level 4 in NER, continue.\n",
      "No level 5 in NER, continue.\n",
      "Now processing NGA\n",
      "No level 3 in NGA, continue.\n",
      "No level 4 in NGA, continue.\n",
      "No level 5 in NGA, continue.\n",
      "Now processing SEN\n",
      "No level 5 in SEN, continue.\n",
      "Now processing SLE\n",
      "No level 4 in SLE, continue.\n",
      "No level 5 in SLE, continue.\n",
      "Now processing TGO\n",
      "No level 3 in TGO, continue.\n",
      "No level 4 in TGO, continue.\n",
      "No level 5 in TGO, continue.\n",
      "ALL COMPLETE!\n"
     ]
    }
   ],
   "source": [
    "for country in ecowas_countries:\n",
    "    print(\"Now processing\", country)\n",
    "    for lvl in [0,1,2,3,4,5]:\n",
    "        df = gk.vector.extractFeatures(\n",
    "            gid_shp.replace(\"LEVEL\", str(lvl)),\n",
    "            where=f\"GID_0='{country}'\"\n",
    "        )\n",
    "        if len(df)==0:\n",
    "            print(f\"No level {lvl} in {country}, continue.\")\n",
    "            continue\n",
    "        gk.vector.createVector(\n",
    "            df,\n",
    "            os.path.join(data_folder, f\"{country}_gadm_shapes_GID_level_{lvl}.shp\")\n",
    "        )\n",
    "\n",
    "print(\"ALL COMPLETE!\")\n"
   ]
  }
 ],
 "metadata": {
  "kernelspec": {
   "display_name": "Python 3.10.4 ('geoFINE')",
   "language": "python",
   "name": "python3"
  },
  "language_info": {
   "codemirror_mode": {
    "name": "ipython",
    "version": 3
   },
   "file_extension": ".py",
   "mimetype": "text/x-python",
   "name": "python",
   "nbconvert_exporter": "python",
   "pygments_lexer": "ipython3",
   "version": "3.10.4"
  },
  "orig_nbformat": 4,
  "vscode": {
   "interpreter": {
    "hash": "3b31be43a51194f7da5424f0fb067c7ecc046e4a66f5655c230472e6ce1af7d0"
   }
  }
 },
 "nbformat": 4,
 "nbformat_minor": 2
}
