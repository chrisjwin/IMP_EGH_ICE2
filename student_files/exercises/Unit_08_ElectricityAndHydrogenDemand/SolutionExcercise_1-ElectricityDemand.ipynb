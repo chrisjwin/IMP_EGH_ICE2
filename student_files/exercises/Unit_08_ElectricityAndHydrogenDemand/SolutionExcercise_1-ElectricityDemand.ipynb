{
 "cells": [
  {
   "cell_type": "markdown",
   "metadata": {},
   "source": [
    "### Unit 08: Final Energy Demands\n",
    "## Welcome to your 8-Region-Renewable-Energy System Model of Niger\n",
    "\n",
    "#### Solution exercise 1 - Adding and changing electricity demands\n",
    "\n"
   ]
  },
  {
   "cell_type": "markdown",
   "metadata": {},
   "source": [
    "#### 1. Import FINE and further modules to run the model "
   ]
  },
  {
   "cell_type": "code",
   "execution_count": 2,
   "metadata": {},
   "outputs": [],
   "source": [
    "import FINE as fn\n",
    "import geopandas as gpd\n",
    "import pandas as pd\n",
    "import numpy as np\n",
    "import geokit as gk\n",
    "from os.path import dirname, abspath, join\n",
    "import matplotlib.pyplot as plt\n",
    "import os\n",
    "\n",
    "%matplotlib inline\n",
    "%load_ext autoreload\n",
    "%autoreload 2\n",
    "\n"
   ]
  },
  {
   "cell_type": "markdown",
   "metadata": {},
   "source": [
    "#### 2. Set paths as input data for the model "
   ]
  },
  {
   "cell_type": "code",
   "execution_count": 3,
   "metadata": {},
   "outputs": [],
   "source": [
    "#set paths\n",
    "cwd = os.getcwd()\n",
    "data_dir = join(cwd, \"data\")\n",
    "\n",
    "path_to_regions = join(data_dir, \"regions\", \"region_shape_NER.shp\")\n",
    "\n",
    "path_to_pv_ts = join(data_dir, \"sources\", \"solar_ts_NER.csv\")\n",
    "path_to_onshore_ts = join(data_dir, \"sources\", \"onshore_ts_NER.csv\")\n",
    "\n",
    "path_to_pv_cap = join(data_dir, \"sources\", \"solar_cap_NER.csv\")\n",
    "path_to_onshore_cap = join(data_dir, \"sources\", \"onshore_cap_NER.csv\")\n",
    "\n",
    "path_to_el_dem = join(data_dir, \"sinks\", \"electricity_dem_NER.xlsx\")"
   ]
  },
  {
   "cell_type": "markdown",
   "metadata": {},
   "source": [
    "#### Hint: Where is the \"data\" folder? "
   ]
  },
  {
   "cell_type": "code",
   "execution_count": 4,
   "metadata": {},
   "outputs": [
    {
     "data": {
      "text/plain": [
       "'c:\\\\Programming\\\\GradSchool2022\\\\wascal_graduate_school\\\\student_files\\\\exercises\\\\Unit_08_ElectricityAndHydrogenDemand\\\\data'"
      ]
     },
     "execution_count": 4,
     "metadata": {},
     "output_type": "execute_result"
    }
   ],
   "source": [
    "## Show path to data folder\n",
    "data_dir"
   ]
  },
  {
   "cell_type": "markdown",
   "metadata": {},
   "source": [
    "#### 2.1 Set up the regions and the commodities of the model"
   ]
  },
  {
   "cell_type": "code",
   "execution_count": 5,
   "metadata": {},
   "outputs": [],
   "source": [
    "locations_shape = gpd.read_file(path_to_regions)\n",
    "locations = locations_shape.GID_1.to_list() #will be [\"NER.1_1\", \"NER.2_1\", ... \"NER.8_1\"]\n",
    "\n",
    "commodities = {\"electricity\", \"hydrogen_gas\"}\n",
    "commodityUnitsDict = {\n",
    "                \"electricity\": r\"GW$_{el}$\",\n",
    "                \"hydrogen_gas\": r\"GW$_{H_{2},LHV}$\",\n",
    "            }\n",
    "            "
   ]
  },
  {
   "cell_type": "markdown",
   "metadata": {},
   "source": [
    "#### 3 Set up the energy system model class"
   ]
  },
  {
   "cell_type": "code",
   "execution_count": 6,
   "metadata": {},
   "outputs": [],
   "source": [
    "#Set up esm Model\n",
    "\n",
    "esM = fn.EnergySystemModel(\n",
    "    locations=set(locations),\n",
    "    commodities=commodities,\n",
    "    numberOfTimeSteps=8760, #hours per year\n",
    "    commodityUnitsDict=commodityUnitsDict,\n",
    "    hoursPerTimeStep=1, #time step is one hour\n",
    "    costUnit=\"1e9 Euro\",\n",
    "    lengthUnit=\"km\",\n",
    "    verboseLogLevel=0, #what is printed, just keep it\n",
    ")\n"
   ]
  },
  {
   "cell_type": "markdown",
   "metadata": {},
   "source": [
    "#### 4 Add the electricity \"sources\" to the model"
   ]
  },
  {
   "cell_type": "markdown",
   "metadata": {},
   "source": [
    "Wind Onshore"
   ]
  },
  {
   "cell_type": "code",
   "execution_count": 7,
   "metadata": {},
   "outputs": [],
   "source": [
    "# to add pv, the maximum capacity and the time series of each region must first be loaded as input data\n",
    "pv_time_series=pd.read_csv(path_to_pv_ts, index_col=[0]).reset_index(drop=True) #capacity factor [1]\n",
    "pv_capacity_max=pd.read_csv(path_to_pv_cap, index_col=[0])['capacity_kW'] / 1e6 #capacity [GW]\n",
    "# add PV\n",
    "esM.add(\n",
    "    fn.Source(\n",
    "        esM=esM, \n",
    "        name=\"PV\", \n",
    "        commodity=\"electricity\", \n",
    "        hasCapacityVariable=True,\n",
    "        operationRateMax=pv_time_series,\n",
    "        capacityMax=pv_capacity_max,\n",
    "        investPerCapacity=0.45, #1e9EUR/GW, 2030\n",
    "        opexPerCapacity=0.017*0.45, #1e9EUR/a\n",
    "        interestRate=0.08,  #1\n",
    "        economicLifetime=20, #a\n",
    "        ),\n",
    ")\n"
   ]
  },
  {
   "cell_type": "markdown",
   "metadata": {},
   "source": [
    "Solar PV"
   ]
  },
  {
   "cell_type": "code",
   "execution_count": 8,
   "metadata": {},
   "outputs": [],
   "source": [
    "# to add wind, the maximum capacity and the time series of each region must first be loaded as input data\n",
    "onshore_time_series=pd.read_csv(path_to_onshore_ts, index_col=[0]).reset_index(drop=True) #capacity factor [1]\n",
    "onshore_capacity_max=pd.read_csv(path_to_onshore_cap, index_col=[0])['capacity_kW'] / 1e6 #capacity [GW]\n",
    "#add Wind Onshore\n",
    "esM.add(\n",
    "    fn.Source(\n",
    "        esM=esM, \n",
    "        name=\"Onshore\", \n",
    "        commodity=\"electricity\", \n",
    "        hasCapacityVariable=True,\n",
    "        operationRateMax=onshore_time_series,\n",
    "        capacityMax=onshore_capacity_max,\n",
    "        investPerCapacity=1.13, #1e9EUR/GW, 2030\n",
    "        opexPerCapacity=0.025*1.13, #1e9EUR/a\n",
    "        interestRate=0.08, #1\n",
    "        economicLifetime=20, #years\n",
    "        ),\n",
    ")"
   ]
  },
  {
   "cell_type": "markdown",
   "metadata": {},
   "source": [
    "4.1 Add super expensive power source, so that the electricity demand also can be compensated when the sun is not shining and the wind is not blowing. If you would not add this, the model would not be solveable! "
   ]
  },
  {
   "cell_type": "code",
   "execution_count": 9,
   "metadata": {},
   "outputs": [],
   "source": [
    "# Add SuperExpensiveElectricity\n",
    "esM.add(\n",
    "    fn.Source(\n",
    "        esM=esM, \n",
    "        name=\"SuperExpensiveElectricity\", \n",
    "        commodity=\"electricity\", \n",
    "        hasCapacityVariable=True,\n",
    "        investPerCapacity=10e10, \n",
    "        opexPerCapacity=10e10,\n",
    "        opexPerOperation=10e10, \n",
    "        interestRate=0.08, \n",
    "        economicLifetime=20, #years\n",
    "        ),\n",
    ")"
   ]
  },
  {
   "cell_type": "markdown",
   "metadata": {},
   "source": [
    "#### 6 Add the Demand"
   ]
  },
  {
   "cell_type": "markdown",
   "metadata": {},
   "source": [
    "Electricity Demand"
   ]
  },
  {
   "cell_type": "code",
   "execution_count": 10,
   "metadata": {},
   "outputs": [
    {
     "name": "stdout",
     "output_type": "stream",
     "text": [
      "Here you can find the electricity demands: c:\\Programming\\GradSchool2022\\wascal_graduate_school\\student_files\\exercises\\Unit_08_ElectricityAndHydrogenDemand\\data\\sinks\\electricity_dem_NER.xlsx\n"
     ]
    }
   ],
   "source": [
    "#add electricity Demands\n",
    "electricity_demand_operationRateFix=pd.read_excel(path_to_el_dem, index_col=[0], engine=\"openpyxl\")*3 #elec demand GW\n",
    "\n",
    "esM.add(\n",
    "    fn.Sink(\n",
    "        esM=esM, \n",
    "        name=\"electricity_demand\", \n",
    "        commodity=\"electricity\",\n",
    "        hasCapacityVariable=False, \n",
    "        operationRateFix=electricity_demand_operationRateFix, #GW\n",
    "    ),\n",
    ")\n",
    "\n",
    "# Hint\n",
    "print(f\"Here you can find the electricity demands: {path_to_el_dem}\") "
   ]
  },
  {
   "cell_type": "markdown",
   "metadata": {},
   "source": [
    "#### 7 Right now you have 8760 time steps. Aggregation to 7 typical time periods with the \"aggregateTemporally\" method"
   ]
  },
  {
   "cell_type": "code",
   "execution_count": 11,
   "metadata": {},
   "outputs": [
    {
     "name": "stdout",
     "output_type": "stream",
     "text": [
      "\n",
      "Clustering time series data with 7 typical periods and 24 time steps per period \n",
      "further clustered to 24 segments per period...\n",
      "\t\t(3.5999 sec)\n",
      "\n"
     ]
    }
   ],
   "source": [
    "# use time aggregation tool to reduce the calculation time to 7 typical time periods\n",
    "esM.aggregateTemporally(numberOfTypicalPeriods=7, segmentation=True)"
   ]
  },
  {
   "cell_type": "markdown",
   "metadata": {},
   "source": [
    "#### 8 Start the optimization"
   ]
  },
  {
   "cell_type": "code",
   "execution_count": 12,
   "metadata": {},
   "outputs": [
    {
     "name": "stdout",
     "output_type": "stream",
     "text": [
      "Optimize\n",
      "Time series aggregation specifications:\n",
      "Number of typical periods:7, number of time steps per period:24, number of segments per period:24\n",
      "\n",
      "Declaring sets, variables and constraints for SourceSinkModel\n",
      "\tdeclaring sets... \n",
      "\tdeclaring variables... \n",
      "\tdeclaring constraints... \n",
      "\t\t(0.2671 sec)\n",
      "\n",
      "Declaring shared potential constraint...\n",
      "\t\t(0.0000 sec)\n",
      "\n",
      "Declaring linked component quantity constraint...\n",
      "\t\t(0.0000 sec)\n",
      "\n",
      "Declaring commodity balances...\n",
      "\t\t(0.0289 sec)\n",
      "\n",
      "\t\t(0.0000 sec)\n",
      "\n",
      "Declaring objective function...\n",
      "\t\t(0.1295 sec)\n",
      "\n",
      "GLPSOL--GLPK LP/MIP Solver 5.0\n",
      "Parameter(s) specified in the command line:\n",
      " --write C:\\Users\\A0C9B~1.BUR\\AppData\\Local\\Temp\\tmp9m50kqb5.glpk.raw --wglp\n",
      " C:\\Users\\A0C9B~1.BUR\\AppData\\Local\\Temp\\tmpauhdm8j2.glpk.glp --cpxlp C:\\Users\\A0C9B~1.BUR\\AppData\\Local\\Temp\\tmpx5itvyrp.pyomo.lp\n",
      "Reading problem data from 'C:\\Users\\A0C9B~1.BUR\\AppData\\Local\\Temp\\tmpx5itvyrp.pyomo.lp'...\n",
      "6745 rows, 5425 columns, 13611 non-zeros\n",
      "40646 lines were read\n",
      "Writing problem data to 'C:\\Users\\A0C9B~1.BUR\\AppData\\Local\\Temp\\tmpauhdm8j2.glpk.glp'...\n",
      "32545 lines were written\n",
      "GLPK Simplex Optimizer 5.0\n",
      "6745 rows, 5425 columns, 13611 non-zeros\n",
      "Preprocessing...\n",
      "2932 rows, 2223 columns, 6597 non-zeros\n",
      "Scaling...\n",
      " A: min|aij| =  7.314e-05  max|aij| =  1.034e+00  ratio =  1.414e+04\n",
      "GM: min|aij| =  4.031e-01  max|aij| =  2.481e+00  ratio =  6.155e+00\n",
      "EQ: min|aij| =  1.625e-01  max|aij| =  1.000e+00  ratio =  6.155e+00\n",
      "Constructing initial basis...\n",
      "Size of triangular part is 2932\n",
      "      0: obj =   2.685909205e+14 inf =   6.991e+01 (733)\n",
      "    737: obj =   2.901175411e+14 inf =   0.000e+00 (0) 7\n",
      "*   833: obj =   2.702160814e+14 inf =   0.000e+00 (0)\n",
      "OPTIMAL LP SOLUTION FOUND\n",
      "Time used:   0.0 secs\n",
      "Memory used: 5.8 Mb (6049524 bytes)\n",
      "Writing basic solution to 'C:\\Users\\A0C9B~1.BUR\\AppData\\Local\\Temp\\tmp9m50kqb5.glpk.raw'...\n",
      "12179 lines were written\n",
      "\n",
      "Status: ok\n",
      "Termination condition: optimal\n",
      "Statistics: \n",
      "  Branch and bound: \n",
      "    Number of bounded subproblems: 0\n",
      "    Number of created subproblems: 0\n",
      "Error rc: 0\n",
      "Time: 0.1194453239440918\n",
      "\n",
      "\n",
      "Name: unknown\n",
      "Lower bound: 270216081420778.0\n",
      "Upper bound: 270216081420778.0\n",
      "Number of objectives: 1\n",
      "Number of constraints: 6745\n",
      "Number of variables: 5425\n",
      "Number of nonzeros: 13611\n",
      "Sense: minimize\n",
      "\n",
      "Solve time: 0.42576074600219727 sec.\n",
      "\n",
      "Processing optimization output...\n",
      "for SourceSinkModel ...  (0.2492sec)\n",
      "\t\t(0.2562 sec)\n",
      "\n",
      "Optimization done!\n"
     ]
    }
   ],
   "source": [
    "#Optimize the model:\n",
    "print('Optimize')\n",
    "esM.optimize(\n",
    "    timeSeriesAggregation=True,\n",
    "    optimizationSpecs=\"\",\n",
    "    solver=\"glpk\"\n",
    ")\n",
    "print('Optimization done!')"
   ]
  },
  {
   "cell_type": "markdown",
   "metadata": {},
   "source": [
    "### Results:"
   ]
  },
  {
   "cell_type": "code",
   "execution_count": 13,
   "metadata": {},
   "outputs": [
    {
     "data": {
      "text/html": [
       "<div>\n",
       "<style scoped>\n",
       "    .dataframe tbody tr th:only-of-type {\n",
       "        vertical-align: middle;\n",
       "    }\n",
       "\n",
       "    .dataframe tbody tr th {\n",
       "        vertical-align: top;\n",
       "    }\n",
       "\n",
       "    .dataframe thead th {\n",
       "        text-align: right;\n",
       "    }\n",
       "</style>\n",
       "<table border=\"1\" class=\"dataframe\">\n",
       "  <thead>\n",
       "    <tr style=\"text-align: right;\">\n",
       "      <th></th>\n",
       "      <th></th>\n",
       "      <th></th>\n",
       "      <th>NER.1_1</th>\n",
       "      <th>NER.2_1</th>\n",
       "      <th>NER.3_1</th>\n",
       "      <th>NER.4_1</th>\n",
       "      <th>NER.5_1</th>\n",
       "      <th>NER.6_1</th>\n",
       "      <th>NER.7_1</th>\n",
       "      <th>NER.8_1</th>\n",
       "    </tr>\n",
       "    <tr>\n",
       "      <th>Component</th>\n",
       "      <th>Property</th>\n",
       "      <th>Unit</th>\n",
       "      <th></th>\n",
       "      <th></th>\n",
       "      <th></th>\n",
       "      <th></th>\n",
       "      <th></th>\n",
       "      <th></th>\n",
       "      <th></th>\n",
       "      <th></th>\n",
       "    </tr>\n",
       "  </thead>\n",
       "  <tbody>\n",
       "    <tr>\n",
       "      <th rowspan=\"7\" valign=\"top\">Onshore</th>\n",
       "      <th>TAC</th>\n",
       "      <th>[1e9 Euro/a]</th>\n",
       "      <td>0.0</td>\n",
       "      <td>0.0</td>\n",
       "      <td>31.004369</td>\n",
       "      <td>0.0</td>\n",
       "      <td>0.122758</td>\n",
       "      <td>258.390137</td>\n",
       "      <td>0.0</td>\n",
       "      <td>0.0</td>\n",
       "    </tr>\n",
       "    <tr>\n",
       "      <th>capacity</th>\n",
       "      <th>[GW$_{el}$]</th>\n",
       "      <td>0.0</td>\n",
       "      <td>0.0</td>\n",
       "      <td>216.294967</td>\n",
       "      <td>0.0</td>\n",
       "      <td>0.85639</td>\n",
       "      <td>1802.600367</td>\n",
       "      <td>0.0</td>\n",
       "      <td>0.0</td>\n",
       "    </tr>\n",
       "    <tr>\n",
       "      <th>capexCap</th>\n",
       "      <th>[1e9 Euro/a]</th>\n",
       "      <td>0.0</td>\n",
       "      <td>0.0</td>\n",
       "      <td>24.894036</td>\n",
       "      <td>0.0</td>\n",
       "      <td>0.098565</td>\n",
       "      <td>207.466677</td>\n",
       "      <td>0.0</td>\n",
       "      <td>0.0</td>\n",
       "    </tr>\n",
       "    <tr>\n",
       "      <th>invest</th>\n",
       "      <th>[1e9 Euro]</th>\n",
       "      <td>0.0</td>\n",
       "      <td>0.0</td>\n",
       "      <td>244.413313</td>\n",
       "      <td>0.0</td>\n",
       "      <td>0.967721</td>\n",
       "      <td>2036.938415</td>\n",
       "      <td>0.0</td>\n",
       "      <td>0.0</td>\n",
       "    </tr>\n",
       "    <tr>\n",
       "      <th rowspan=\"2\" valign=\"top\">operation</th>\n",
       "      <th>[GW$_{el}$*h/a]</th>\n",
       "      <td>0.0</td>\n",
       "      <td>0.0</td>\n",
       "      <td>32.39211</td>\n",
       "      <td>0.0</td>\n",
       "      <td>1.35983</td>\n",
       "      <td>58.613818</td>\n",
       "      <td>0.0</td>\n",
       "      <td>0.0</td>\n",
       "    </tr>\n",
       "    <tr>\n",
       "      <th>[GW$_{el}$*h]</th>\n",
       "      <td>0.0</td>\n",
       "      <td>0.0</td>\n",
       "      <td>32.39211</td>\n",
       "      <td>0.0</td>\n",
       "      <td>1.35983</td>\n",
       "      <td>58.613818</td>\n",
       "      <td>0.0</td>\n",
       "      <td>0.0</td>\n",
       "    </tr>\n",
       "    <tr>\n",
       "      <th>opexCap</th>\n",
       "      <th>[1e9 Euro/a]</th>\n",
       "      <td>0.0</td>\n",
       "      <td>0.0</td>\n",
       "      <td>6.110333</td>\n",
       "      <td>0.0</td>\n",
       "      <td>0.024193</td>\n",
       "      <td>50.92346</td>\n",
       "      <td>0.0</td>\n",
       "      <td>0.0</td>\n",
       "    </tr>\n",
       "    <tr>\n",
       "      <th rowspan=\"7\" valign=\"top\">PV</th>\n",
       "      <th>TAC</th>\n",
       "      <th>[1e9 Euro/a]</th>\n",
       "      <td>10.754806</td>\n",
       "      <td>1.372702</td>\n",
       "      <td>8.63012</td>\n",
       "      <td>1.810819</td>\n",
       "      <td>0.110673</td>\n",
       "      <td>28.917766</td>\n",
       "      <td>7.34323</td>\n",
       "      <td>18.34594</td>\n",
       "    </tr>\n",
       "    <tr>\n",
       "      <th>capacity</th>\n",
       "      <th>[GW$_{el}$]</th>\n",
       "      <td>201.086451</td>\n",
       "      <td>25.665908</td>\n",
       "      <td>161.360438</td>\n",
       "      <td>33.857531</td>\n",
       "      <td>2.069288</td>\n",
       "      <td>540.685801</td>\n",
       "      <td>137.298986</td>\n",
       "      <td>343.020589</td>\n",
       "    </tr>\n",
       "    <tr>\n",
       "      <th>capexCap</th>\n",
       "      <th>[1e9 Euro/a]</th>\n",
       "      <td>9.216495</td>\n",
       "      <td>1.176358</td>\n",
       "      <td>7.395713</td>\n",
       "      <td>1.551809</td>\n",
       "      <td>0.094843</td>\n",
       "      <td>24.781519</td>\n",
       "      <td>6.292892</td>\n",
       "      <td>15.721832</td>\n",
       "    </tr>\n",
       "    <tr>\n",
       "      <th>invest</th>\n",
       "      <th>[1e9 Euro]</th>\n",
       "      <td>90.488903</td>\n",
       "      <td>11.549659</td>\n",
       "      <td>72.612197</td>\n",
       "      <td>15.235889</td>\n",
       "      <td>0.93118</td>\n",
       "      <td>243.308611</td>\n",
       "      <td>61.784544</td>\n",
       "      <td>154.359265</td>\n",
       "    </tr>\n",
       "    <tr>\n",
       "      <th rowspan=\"2\" valign=\"top\">operation</th>\n",
       "      <th>[GW$_{el}$*h/a]</th>\n",
       "      <td>90.592377</td>\n",
       "      <td>120.825154</td>\n",
       "      <td>341.967011</td>\n",
       "      <td>616.893936</td>\n",
       "      <td>153.406385</td>\n",
       "      <td>648.873723</td>\n",
       "      <td>525.740596</td>\n",
       "      <td>708.696315</td>\n",
       "    </tr>\n",
       "    <tr>\n",
       "      <th>[GW$_{el}$*h]</th>\n",
       "      <td>90.592377</td>\n",
       "      <td>120.825154</td>\n",
       "      <td>341.967011</td>\n",
       "      <td>616.893936</td>\n",
       "      <td>153.406385</td>\n",
       "      <td>648.873723</td>\n",
       "      <td>525.740596</td>\n",
       "      <td>708.696315</td>\n",
       "    </tr>\n",
       "    <tr>\n",
       "      <th>opexCap</th>\n",
       "      <th>[1e9 Euro/a]</th>\n",
       "      <td>1.538311</td>\n",
       "      <td>0.196344</td>\n",
       "      <td>1.234407</td>\n",
       "      <td>0.25901</td>\n",
       "      <td>0.01583</td>\n",
       "      <td>4.136246</td>\n",
       "      <td>1.050337</td>\n",
       "      <td>2.624108</td>\n",
       "    </tr>\n",
       "    <tr>\n",
       "      <th rowspan=\"8\" valign=\"top\">SuperExpensiveElectricity</th>\n",
       "      <th>TAC</th>\n",
       "      <th>[1e9 Euro/a]</th>\n",
       "      <td>7800200808660.318359</td>\n",
       "      <td>10403308743747.896484</td>\n",
       "      <td>28229805434938.699219</td>\n",
       "      <td>54372467402321.875</td>\n",
       "      <td>14521333711374.974609</td>\n",
       "      <td>53350471491988.296875</td>\n",
       "      <td>41735631261598.15625</td>\n",
       "      <td>59802862565785.140625</td>\n",
       "    </tr>\n",
       "    <tr>\n",
       "      <th>capacity</th>\n",
       "      <th>[GW$_{el}$]</th>\n",
       "      <td>0.038805</td>\n",
       "      <td>0.051756</td>\n",
       "      <td>0.151143</td>\n",
       "      <td>0.26714</td>\n",
       "      <td>0.069046</td>\n",
       "      <td>0.28564</td>\n",
       "      <td>0.217073</td>\n",
       "      <td>0.30077</td>\n",
       "    </tr>\n",
       "    <tr>\n",
       "      <th>capexCap</th>\n",
       "      <th>[1e9 Euro/a]</th>\n",
       "      <td>395242440.755487</td>\n",
       "      <td>527144010.86272</td>\n",
       "      <td>1539427218.483087</td>\n",
       "      <td>2720883809.756363</td>\n",
       "      <td>703253852.343038</td>\n",
       "      <td>2909306906.9482</td>\n",
       "      <td>2210939139.047348</td>\n",
       "      <td>3063406620.882905</td>\n",
       "    </tr>\n",
       "    <tr>\n",
       "      <th>invest</th>\n",
       "      <th>[1e9 Euro]</th>\n",
       "      <td>3880548545.01742</td>\n",
       "      <td>5175577603.60424</td>\n",
       "      <td>15114323354.106602</td>\n",
       "      <td>26714038322.730198</td>\n",
       "      <td>6904649987.16053</td>\n",
       "      <td>28564004065.927799</td>\n",
       "      <td>21707326376.065899</td>\n",
       "      <td>30076977772.784504</td>\n",
       "    </tr>\n",
       "    <tr>\n",
       "      <th rowspan=\"2\" valign=\"top\">operation</th>\n",
       "      <th>[GW$_{el}$*h/a]</th>\n",
       "      <td>77.95925</td>\n",
       "      <td>103.97606</td>\n",
       "      <td>282.131517</td>\n",
       "      <td>543.430325</td>\n",
       "      <td>145.137258</td>\n",
       "      <td>533.189982</td>\n",
       "      <td>417.11713</td>\n",
       "      <td>597.697222</td>\n",
       "    </tr>\n",
       "    <tr>\n",
       "      <th>[GW$_{el}$*h]</th>\n",
       "      <td>77.95925</td>\n",
       "      <td>103.97606</td>\n",
       "      <td>282.131517</td>\n",
       "      <td>543.430325</td>\n",
       "      <td>145.137258</td>\n",
       "      <td>533.189982</td>\n",
       "      <td>417.11713</td>\n",
       "      <td>597.697222</td>\n",
       "    </tr>\n",
       "    <tr>\n",
       "      <th>opexCap</th>\n",
       "      <th>[1e9 Euro/a]</th>\n",
       "      <td>3880548545.01742</td>\n",
       "      <td>5175577603.60424</td>\n",
       "      <td>15114323354.106602</td>\n",
       "      <td>26714038322.730198</td>\n",
       "      <td>6904649987.16053</td>\n",
       "      <td>28564004065.927799</td>\n",
       "      <td>21707326376.065899</td>\n",
       "      <td>30076977772.784504</td>\n",
       "    </tr>\n",
       "    <tr>\n",
       "      <th>opexOp</th>\n",
       "      <th>[1e9 Euro/a]</th>\n",
       "      <td>7795925017674.545898</td>\n",
       "      <td>10397606022133.429688</td>\n",
       "      <td>28213151684366.109375</td>\n",
       "      <td>54343032480189.390625</td>\n",
       "      <td>14513725807535.470703</td>\n",
       "      <td>53318998181015.421875</td>\n",
       "      <td>41711712996083.046875</td>\n",
       "      <td>59769722181391.476562</td>\n",
       "    </tr>\n",
       "    <tr>\n",
       "      <th rowspan=\"2\" valign=\"top\">electricity_demand</th>\n",
       "      <th rowspan=\"2\" valign=\"top\">operation</th>\n",
       "      <th>[GW$_{el}$*h/a]</th>\n",
       "      <td>168.551627</td>\n",
       "      <td>224.801214</td>\n",
       "      <td>656.490638</td>\n",
       "      <td>1160.324261</td>\n",
       "      <td>299.903474</td>\n",
       "      <td>1240.677523</td>\n",
       "      <td>942.857726</td>\n",
       "      <td>1306.393536</td>\n",
       "    </tr>\n",
       "    <tr>\n",
       "      <th>[GW$_{el}$*h]</th>\n",
       "      <td>168.551627</td>\n",
       "      <td>224.801214</td>\n",
       "      <td>656.490638</td>\n",
       "      <td>1160.324261</td>\n",
       "      <td>299.903474</td>\n",
       "      <td>1240.677523</td>\n",
       "      <td>942.857726</td>\n",
       "      <td>1306.393536</td>\n",
       "    </tr>\n",
       "  </tbody>\n",
       "</table>\n",
       "</div>"
      ],
      "text/plain": [
       "                                                                  NER.1_1  \\\n",
       "Component                 Property  Unit                                    \n",
       "Onshore                   TAC       [1e9 Euro/a]                      0.0   \n",
       "                          capacity  [GW$_{el}$]                       0.0   \n",
       "                          capexCap  [1e9 Euro/a]                      0.0   \n",
       "                          invest    [1e9 Euro]                        0.0   \n",
       "                          operation [GW$_{el}$*h/a]                   0.0   \n",
       "                                    [GW$_{el}$*h]                     0.0   \n",
       "                          opexCap   [1e9 Euro/a]                      0.0   \n",
       "PV                        TAC       [1e9 Euro/a]                10.754806   \n",
       "                          capacity  [GW$_{el}$]                201.086451   \n",
       "                          capexCap  [1e9 Euro/a]                 9.216495   \n",
       "                          invest    [1e9 Euro]                  90.488903   \n",
       "                          operation [GW$_{el}$*h/a]             90.592377   \n",
       "                                    [GW$_{el}$*h]               90.592377   \n",
       "                          opexCap   [1e9 Euro/a]                 1.538311   \n",
       "SuperExpensiveElectricity TAC       [1e9 Euro/a]     7800200808660.318359   \n",
       "                          capacity  [GW$_{el}$]                  0.038805   \n",
       "                          capexCap  [1e9 Euro/a]         395242440.755487   \n",
       "                          invest    [1e9 Euro]           3880548545.01742   \n",
       "                          operation [GW$_{el}$*h/a]              77.95925   \n",
       "                                    [GW$_{el}$*h]                77.95925   \n",
       "                          opexCap   [1e9 Euro/a]         3880548545.01742   \n",
       "                          opexOp    [1e9 Euro/a]     7795925017674.545898   \n",
       "electricity_demand        operation [GW$_{el}$*h/a]            168.551627   \n",
       "                                    [GW$_{el}$*h]              168.551627   \n",
       "\n",
       "                                                                   NER.2_1  \\\n",
       "Component                 Property  Unit                                     \n",
       "Onshore                   TAC       [1e9 Euro/a]                       0.0   \n",
       "                          capacity  [GW$_{el}$]                        0.0   \n",
       "                          capexCap  [1e9 Euro/a]                       0.0   \n",
       "                          invest    [1e9 Euro]                         0.0   \n",
       "                          operation [GW$_{el}$*h/a]                    0.0   \n",
       "                                    [GW$_{el}$*h]                      0.0   \n",
       "                          opexCap   [1e9 Euro/a]                       0.0   \n",
       "PV                        TAC       [1e9 Euro/a]                  1.372702   \n",
       "                          capacity  [GW$_{el}$]                  25.665908   \n",
       "                          capexCap  [1e9 Euro/a]                  1.176358   \n",
       "                          invest    [1e9 Euro]                   11.549659   \n",
       "                          operation [GW$_{el}$*h/a]             120.825154   \n",
       "                                    [GW$_{el}$*h]               120.825154   \n",
       "                          opexCap   [1e9 Euro/a]                  0.196344   \n",
       "SuperExpensiveElectricity TAC       [1e9 Euro/a]     10403308743747.896484   \n",
       "                          capacity  [GW$_{el}$]                   0.051756   \n",
       "                          capexCap  [1e9 Euro/a]           527144010.86272   \n",
       "                          invest    [1e9 Euro]            5175577603.60424   \n",
       "                          operation [GW$_{el}$*h/a]              103.97606   \n",
       "                                    [GW$_{el}$*h]                103.97606   \n",
       "                          opexCap   [1e9 Euro/a]          5175577603.60424   \n",
       "                          opexOp    [1e9 Euro/a]     10397606022133.429688   \n",
       "electricity_demand        operation [GW$_{el}$*h/a]             224.801214   \n",
       "                                    [GW$_{el}$*h]               224.801214   \n",
       "\n",
       "                                                                   NER.3_1  \\\n",
       "Component                 Property  Unit                                     \n",
       "Onshore                   TAC       [1e9 Euro/a]                 31.004369   \n",
       "                          capacity  [GW$_{el}$]                 216.294967   \n",
       "                          capexCap  [1e9 Euro/a]                 24.894036   \n",
       "                          invest    [1e9 Euro]                  244.413313   \n",
       "                          operation [GW$_{el}$*h/a]               32.39211   \n",
       "                                    [GW$_{el}$*h]                 32.39211   \n",
       "                          opexCap   [1e9 Euro/a]                  6.110333   \n",
       "PV                        TAC       [1e9 Euro/a]                   8.63012   \n",
       "                          capacity  [GW$_{el}$]                 161.360438   \n",
       "                          capexCap  [1e9 Euro/a]                  7.395713   \n",
       "                          invest    [1e9 Euro]                   72.612197   \n",
       "                          operation [GW$_{el}$*h/a]             341.967011   \n",
       "                                    [GW$_{el}$*h]               341.967011   \n",
       "                          opexCap   [1e9 Euro/a]                  1.234407   \n",
       "SuperExpensiveElectricity TAC       [1e9 Euro/a]     28229805434938.699219   \n",
       "                          capacity  [GW$_{el}$]                   0.151143   \n",
       "                          capexCap  [1e9 Euro/a]         1539427218.483087   \n",
       "                          invest    [1e9 Euro]          15114323354.106602   \n",
       "                          operation [GW$_{el}$*h/a]             282.131517   \n",
       "                                    [GW$_{el}$*h]               282.131517   \n",
       "                          opexCap   [1e9 Euro/a]        15114323354.106602   \n",
       "                          opexOp    [1e9 Euro/a]     28213151684366.109375   \n",
       "electricity_demand        operation [GW$_{el}$*h/a]             656.490638   \n",
       "                                    [GW$_{el}$*h]               656.490638   \n",
       "\n",
       "                                                                   NER.4_1  \\\n",
       "Component                 Property  Unit                                     \n",
       "Onshore                   TAC       [1e9 Euro/a]                       0.0   \n",
       "                          capacity  [GW$_{el}$]                        0.0   \n",
       "                          capexCap  [1e9 Euro/a]                       0.0   \n",
       "                          invest    [1e9 Euro]                         0.0   \n",
       "                          operation [GW$_{el}$*h/a]                    0.0   \n",
       "                                    [GW$_{el}$*h]                      0.0   \n",
       "                          opexCap   [1e9 Euro/a]                       0.0   \n",
       "PV                        TAC       [1e9 Euro/a]                  1.810819   \n",
       "                          capacity  [GW$_{el}$]                  33.857531   \n",
       "                          capexCap  [1e9 Euro/a]                  1.551809   \n",
       "                          invest    [1e9 Euro]                   15.235889   \n",
       "                          operation [GW$_{el}$*h/a]             616.893936   \n",
       "                                    [GW$_{el}$*h]               616.893936   \n",
       "                          opexCap   [1e9 Euro/a]                   0.25901   \n",
       "SuperExpensiveElectricity TAC       [1e9 Euro/a]        54372467402321.875   \n",
       "                          capacity  [GW$_{el}$]                    0.26714   \n",
       "                          capexCap  [1e9 Euro/a]         2720883809.756363   \n",
       "                          invest    [1e9 Euro]          26714038322.730198   \n",
       "                          operation [GW$_{el}$*h/a]             543.430325   \n",
       "                                    [GW$_{el}$*h]               543.430325   \n",
       "                          opexCap   [1e9 Euro/a]        26714038322.730198   \n",
       "                          opexOp    [1e9 Euro/a]     54343032480189.390625   \n",
       "electricity_demand        operation [GW$_{el}$*h/a]            1160.324261   \n",
       "                                    [GW$_{el}$*h]              1160.324261   \n",
       "\n",
       "                                                                   NER.5_1  \\\n",
       "Component                 Property  Unit                                     \n",
       "Onshore                   TAC       [1e9 Euro/a]                  0.122758   \n",
       "                          capacity  [GW$_{el}$]                    0.85639   \n",
       "                          capexCap  [1e9 Euro/a]                  0.098565   \n",
       "                          invest    [1e9 Euro]                    0.967721   \n",
       "                          operation [GW$_{el}$*h/a]                1.35983   \n",
       "                                    [GW$_{el}$*h]                  1.35983   \n",
       "                          opexCap   [1e9 Euro/a]                  0.024193   \n",
       "PV                        TAC       [1e9 Euro/a]                  0.110673   \n",
       "                          capacity  [GW$_{el}$]                   2.069288   \n",
       "                          capexCap  [1e9 Euro/a]                  0.094843   \n",
       "                          invest    [1e9 Euro]                     0.93118   \n",
       "                          operation [GW$_{el}$*h/a]             153.406385   \n",
       "                                    [GW$_{el}$*h]               153.406385   \n",
       "                          opexCap   [1e9 Euro/a]                   0.01583   \n",
       "SuperExpensiveElectricity TAC       [1e9 Euro/a]     14521333711374.974609   \n",
       "                          capacity  [GW$_{el}$]                   0.069046   \n",
       "                          capexCap  [1e9 Euro/a]          703253852.343038   \n",
       "                          invest    [1e9 Euro]            6904649987.16053   \n",
       "                          operation [GW$_{el}$*h/a]             145.137258   \n",
       "                                    [GW$_{el}$*h]               145.137258   \n",
       "                          opexCap   [1e9 Euro/a]          6904649987.16053   \n",
       "                          opexOp    [1e9 Euro/a]     14513725807535.470703   \n",
       "electricity_demand        operation [GW$_{el}$*h/a]             299.903474   \n",
       "                                    [GW$_{el}$*h]               299.903474   \n",
       "\n",
       "                                                                   NER.6_1  \\\n",
       "Component                 Property  Unit                                     \n",
       "Onshore                   TAC       [1e9 Euro/a]                258.390137   \n",
       "                          capacity  [GW$_{el}$]                1802.600367   \n",
       "                          capexCap  [1e9 Euro/a]                207.466677   \n",
       "                          invest    [1e9 Euro]                 2036.938415   \n",
       "                          operation [GW$_{el}$*h/a]              58.613818   \n",
       "                                    [GW$_{el}$*h]                58.613818   \n",
       "                          opexCap   [1e9 Euro/a]                  50.92346   \n",
       "PV                        TAC       [1e9 Euro/a]                 28.917766   \n",
       "                          capacity  [GW$_{el}$]                 540.685801   \n",
       "                          capexCap  [1e9 Euro/a]                 24.781519   \n",
       "                          invest    [1e9 Euro]                  243.308611   \n",
       "                          operation [GW$_{el}$*h/a]             648.873723   \n",
       "                                    [GW$_{el}$*h]               648.873723   \n",
       "                          opexCap   [1e9 Euro/a]                  4.136246   \n",
       "SuperExpensiveElectricity TAC       [1e9 Euro/a]     53350471491988.296875   \n",
       "                          capacity  [GW$_{el}$]                    0.28564   \n",
       "                          capexCap  [1e9 Euro/a]           2909306906.9482   \n",
       "                          invest    [1e9 Euro]          28564004065.927799   \n",
       "                          operation [GW$_{el}$*h/a]             533.189982   \n",
       "                                    [GW$_{el}$*h]               533.189982   \n",
       "                          opexCap   [1e9 Euro/a]        28564004065.927799   \n",
       "                          opexOp    [1e9 Euro/a]     53318998181015.421875   \n",
       "electricity_demand        operation [GW$_{el}$*h/a]            1240.677523   \n",
       "                                    [GW$_{el}$*h]              1240.677523   \n",
       "\n",
       "                                                                   NER.7_1  \\\n",
       "Component                 Property  Unit                                     \n",
       "Onshore                   TAC       [1e9 Euro/a]                       0.0   \n",
       "                          capacity  [GW$_{el}$]                        0.0   \n",
       "                          capexCap  [1e9 Euro/a]                       0.0   \n",
       "                          invest    [1e9 Euro]                         0.0   \n",
       "                          operation [GW$_{el}$*h/a]                    0.0   \n",
       "                                    [GW$_{el}$*h]                      0.0   \n",
       "                          opexCap   [1e9 Euro/a]                       0.0   \n",
       "PV                        TAC       [1e9 Euro/a]                   7.34323   \n",
       "                          capacity  [GW$_{el}$]                 137.298986   \n",
       "                          capexCap  [1e9 Euro/a]                  6.292892   \n",
       "                          invest    [1e9 Euro]                   61.784544   \n",
       "                          operation [GW$_{el}$*h/a]             525.740596   \n",
       "                                    [GW$_{el}$*h]               525.740596   \n",
       "                          opexCap   [1e9 Euro/a]                  1.050337   \n",
       "SuperExpensiveElectricity TAC       [1e9 Euro/a]      41735631261598.15625   \n",
       "                          capacity  [GW$_{el}$]                   0.217073   \n",
       "                          capexCap  [1e9 Euro/a]         2210939139.047348   \n",
       "                          invest    [1e9 Euro]          21707326376.065899   \n",
       "                          operation [GW$_{el}$*h/a]              417.11713   \n",
       "                                    [GW$_{el}$*h]                417.11713   \n",
       "                          opexCap   [1e9 Euro/a]        21707326376.065899   \n",
       "                          opexOp    [1e9 Euro/a]     41711712996083.046875   \n",
       "electricity_demand        operation [GW$_{el}$*h/a]             942.857726   \n",
       "                                    [GW$_{el}$*h]               942.857726   \n",
       "\n",
       "                                                                   NER.8_1  \n",
       "Component                 Property  Unit                                    \n",
       "Onshore                   TAC       [1e9 Euro/a]                       0.0  \n",
       "                          capacity  [GW$_{el}$]                        0.0  \n",
       "                          capexCap  [1e9 Euro/a]                       0.0  \n",
       "                          invest    [1e9 Euro]                         0.0  \n",
       "                          operation [GW$_{el}$*h/a]                    0.0  \n",
       "                                    [GW$_{el}$*h]                      0.0  \n",
       "                          opexCap   [1e9 Euro/a]                       0.0  \n",
       "PV                        TAC       [1e9 Euro/a]                  18.34594  \n",
       "                          capacity  [GW$_{el}$]                 343.020589  \n",
       "                          capexCap  [1e9 Euro/a]                 15.721832  \n",
       "                          invest    [1e9 Euro]                  154.359265  \n",
       "                          operation [GW$_{el}$*h/a]             708.696315  \n",
       "                                    [GW$_{el}$*h]               708.696315  \n",
       "                          opexCap   [1e9 Euro/a]                  2.624108  \n",
       "SuperExpensiveElectricity TAC       [1e9 Euro/a]     59802862565785.140625  \n",
       "                          capacity  [GW$_{el}$]                    0.30077  \n",
       "                          capexCap  [1e9 Euro/a]         3063406620.882905  \n",
       "                          invest    [1e9 Euro]          30076977772.784504  \n",
       "                          operation [GW$_{el}$*h/a]             597.697222  \n",
       "                                    [GW$_{el}$*h]               597.697222  \n",
       "                          opexCap   [1e9 Euro/a]        30076977772.784504  \n",
       "                          opexOp    [1e9 Euro/a]     59769722181391.476562  \n",
       "electricity_demand        operation [GW$_{el}$*h/a]            1306.393536  \n",
       "                                    [GW$_{el}$*h]              1306.393536  "
      ]
     },
     "execution_count": 13,
     "metadata": {},
     "output_type": "execute_result"
    }
   ],
   "source": [
    "esM.getOptimizationSummary(\"SourceSinkModel\", outputLevel=2)"
   ]
  },
  {
   "cell_type": "markdown",
   "metadata": {},
   "source": [
    "## Plots"
   ]
  },
  {
   "cell_type": "code",
   "execution_count": 14,
   "metadata": {},
   "outputs": [
    {
     "data": {
      "text/plain": [
       "(<Figure size 600x600 with 1 Axes>, <AxesSubplot:>)"
      ]
     },
     "execution_count": 14,
     "metadata": {},
     "output_type": "execute_result"
    },
    {
     "data": {
      "image/png": "[encoded data removed]",
      "text/plain": [
       "<Figure size 600x600 with 1 Axes>"
      ]
     },
     "metadata": {},
     "output_type": "display_data"
    }
   ],
   "source": [
    "## Show GID_1 Regions in Niger\n",
    "fn.plotLocations(path_to_regions, plotLocNames=True, indexColumn=\"GID_1\")"
   ]
  },
  {
   "cell_type": "markdown",
   "metadata": {},
   "source": [
    "#### 1) Wind Onshore installed capacity"
   ]
  },
  {
   "cell_type": "code",
   "execution_count": 15,
   "metadata": {},
   "outputs": [
    {
     "data": {
      "text/plain": [
       "(<Figure size 600x600 with 2 Axes>, <AxesSubplot:>)"
      ]
     },
     "execution_count": 15,
     "metadata": {},
     "output_type": "execute_result"
    },
    {
     "data": {
      "image/png": "[encoded data removed]",
      "text/plain": [
       "<Figure size 600x600 with 2 Axes>"
      ]
     },
     "metadata": {},
     "output_type": "display_data"
    }
   ],
   "source": [
    "fn.plotLocationalColorMap(\n",
    "    esM, \"Onshore\", path_to_regions, \"GID_1\", perArea=False\n",
    ")"
   ]
  },
  {
   "cell_type": "markdown",
   "metadata": {},
   "source": [
    "#### 2. PV installed capacity"
   ]
  },
  {
   "cell_type": "code",
   "execution_count": 16,
   "metadata": {},
   "outputs": [
    {
     "data": {
      "text/plain": [
       "(<Figure size 600x600 with 2 Axes>, <AxesSubplot:>)"
      ]
     },
     "execution_count": 16,
     "metadata": {},
     "output_type": "execute_result"
    },
    {
     "data": {
      "image/png": "[encoded data removed]",
      "text/plain": [
       "<Figure size 600x600 with 2 Axes>"
      ]
     },
     "metadata": {},
     "output_type": "display_data"
    }
   ],
   "source": [
    "fn.plotLocationalColorMap(\n",
    "    esM, \"PV\", path_to_regions, \"GID_1\", perArea=False\n",
    ")"
   ]
  },
  {
   "cell_type": "markdown",
   "metadata": {},
   "source": [
    "#### 3. Electricity demand"
   ]
  },
  {
   "cell_type": "code",
   "execution_count": 17,
   "metadata": {},
   "outputs": [
    {
     "data": {
      "text/plain": [
       "(<Figure size 1200x400 with 2 Axes>,\n",
       " <AxesSubplot:xlabel='period', ylabel='timestep per period'>)"
      ]
     },
     "execution_count": 17,
     "metadata": {},
     "output_type": "execute_result"
    },
    {
     "data": {
      "image/png": "[encoded data removed]",
      "text/plain": [
       "<Figure size 1200x400 with 2 Axes>"
      ]
     },
     "metadata": {},
     "output_type": "display_data"
    }
   ],
   "source": [
    "fn.plotOperationColorMap(esM, \"electricity_demand\", \"NER.8_1\")"
   ]
  },
  {
   "cell_type": "code",
   "execution_count": 19,
   "metadata": {},
   "outputs": [
    {
     "data": {
      "text/plain": [
       "(<Figure size 1200x400 with 1 Axes>,\n",
       " <AxesSubplot:xlabel='time step', ylabel='operation time series'>)"
      ]
     },
     "execution_count": 19,
     "metadata": {},
     "output_type": "execute_result"
    },
    {
     "data": {
      "image/png": "[encoded data removed]",
      "text/plain": [
       "<Figure size 1200x400 with 1 Axes>"
      ]
     },
     "metadata": {},
     "output_type": "display_data"
    }
   ],
   "source": [
    "fn.plotOperation(esM, \"electricity_demand\", \"NER.8_1\",tMax=24)"
   ]
  },
  {
   "cell_type": "code",
   "execution_count": null,
   "metadata": {},
   "outputs": [],
   "source": []
  }
 ],
 "metadata": {
  "kernelspec": {
   "display_name": "Python 3.7.12 ('GradSchoolESM': conda)",
   "language": "python",
   "name": "python3"
  },
  "language_info": {
   "codemirror_mode": {
    "name": "ipython",
    "version": 3
   },
   "file_extension": ".py",
   "mimetype": "text/x-python",
   "name": "python",
   "nbconvert_exporter": "python",
   "pygments_lexer": "ipython3",
   "version": "3.7.12"
  },
  "orig_nbformat": 4,
  "vscode": {
   "interpreter": {
    "hash": "defe49f51b51adc37815d90a4d184ba112c3830d9d945089da1a3edcf54b815e"
   }
  }
 },
 "nbformat": 4,
 "nbformat_minor": 2
}
