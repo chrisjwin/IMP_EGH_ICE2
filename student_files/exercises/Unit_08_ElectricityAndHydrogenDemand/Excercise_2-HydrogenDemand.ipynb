{
 "cells": [
  {
   "cell_type": "markdown",
   "metadata": {},
   "source": [
    "### Unit 08: Final Energy Demands\n",
    "## Welcome to your 8-Region-Renewable-Energy System Model of Niger\n",
    "\n",
    "#### Exercise 2 - Adding and changing hydrogen demands:\n",
    "\n",
    "Based on the ESM of Execise 1.1 let us model an energy system where Niger's regions have seen the first industries using green hydrogen for fertilizer production, and the first pilot projects using hydrogen in the transportation sector are underway.\n",
    "\n",
    "a) Add the perepared hydrogen demand excel: \"hydrogen_dem2030_NER.xlsx\" as an input to the model \n",
    "\n",
    "b) Finally adding the hydrogen demand as a \"sink\" something went wrong. Can you help to add the commodity that is missing?\n",
    "Hint: You can find all commodities earlier in the code!\n",
    "\n",
    "c) Run the model! \n",
    "What happens to the sources after adding hydrogen in comparison of before adding the hydrogen demand? Check the optimization summary."
   ]
  },
  {
   "cell_type": "markdown",
   "metadata": {},
   "source": [
    "#### 1. Import FINE and further modules to run the model "
   ]
  },
  {
   "cell_type": "code",
   "execution_count": null,
   "metadata": {},
   "outputs": [],
   "source": [
    "import FINE as fn\n",
    "import geopandas as gpd\n",
    "import pandas as pd\n",
    "import numpy as np\n",
    "import geokit as gk\n",
    "from os.path import dirname, abspath, join\n",
    "import matplotlib.pyplot as plt\n",
    "import os\n",
    "\n",
    "%matplotlib inline\n",
    "%load_ext autoreload\n",
    "%autoreload 2\n",
    "\n"
   ]
  },
  {
   "cell_type": "markdown",
   "metadata": {},
   "source": [
    "#### 2. Set paths as input data for the model "
   ]
  },
  {
   "cell_type": "code",
   "execution_count": null,
   "metadata": {},
   "outputs": [],
   "source": [
    "#set paths\n",
    "cwd = os.getcwd()\n",
    "data_dir = join(cwd, \"data\")\n",
    "\n",
    "path_to_regions = join(data_dir, \"regions\", \"region_shape_NER.shp\")\n",
    "\n",
    "path_to_pv_ts = join(data_dir, \"sources\", \"solar_ts_NER.csv\")\n",
    "path_to_onshore_ts = join(data_dir, \"sources\", \"onshore_ts_NER.csv\")\n",
    "\n",
    "path_to_pv_cap = join(data_dir, \"sources\", \"solar_cap_NER.csv\")\n",
    "path_to_onshore_cap = join(data_dir, \"sources\", \"onshore_cap_NER.csv\")\n",
    "\n",
    "path_to_el_dem = join(data_dir, \"sinks\", \"electricity_dem_NER.xlsx\")\n",
    "path_to_h2_dem = join(data_dir, \"sinks\", \"?.xlsx\")"
   ]
  },
  {
   "cell_type": "markdown",
   "metadata": {},
   "source": [
    "#### Hint: Where is the \"data\" folder? "
   ]
  },
  {
   "cell_type": "code",
   "execution_count": null,
   "metadata": {},
   "outputs": [],
   "source": [
    "## Show path to data folder\n",
    "data_dir"
   ]
  },
  {
   "cell_type": "markdown",
   "metadata": {},
   "source": [
    "#### 2.1 Set up the regions and the commodities of the model"
   ]
  },
  {
   "cell_type": "code",
   "execution_count": null,
   "metadata": {},
   "outputs": [],
   "source": [
    "locations_shape = gpd.read_file(path_to_regions)\n",
    "locations = locations_shape.GID_1.to_list() #will be [\"NER.1_1\", \"NER.2_1\", ... \"NER.8_1\"]\n",
    "\n",
    "commodities = {\"electricity\", \"hydrogen_gas\"}\n",
    "commodityUnitsDict = {\n",
    "                \"electricity\": r\"GW$_{el}$\",\n",
    "                \"hydrogen_gas\": r\"GW$_{H_{2},LHV}$\",\n",
    "            }\n",
    "            "
   ]
  },
  {
   "cell_type": "markdown",
   "metadata": {},
   "source": [
    "#### 3 Set up the energy system model class"
   ]
  },
  {
   "cell_type": "code",
   "execution_count": null,
   "metadata": {},
   "outputs": [],
   "source": [
    "#Set up esm Model\n",
    "\n",
    "esM = fn.EnergySystemModel(\n",
    "    locations=set(locations),\n",
    "    commodities=commodities,\n",
    "    numberOfTimeSteps=8760, #hours per year\n",
    "    commodityUnitsDict=commodityUnitsDict,\n",
    "    hoursPerTimeStep=1, #time step is one hour\n",
    "    costUnit=\"1e9 Euro\",\n",
    "    lengthUnit=\"km\",\n",
    "    verboseLogLevel=0, #what is printed, just keep it\n",
    ")\n"
   ]
  },
  {
   "cell_type": "markdown",
   "metadata": {},
   "source": [
    "#### 4 Add the electricity \"sources\" to the model"
   ]
  },
  {
   "cell_type": "markdown",
   "metadata": {},
   "source": [
    "Wind Onshore"
   ]
  },
  {
   "cell_type": "code",
   "execution_count": null,
   "metadata": {},
   "outputs": [],
   "source": [
    "# to add pv, the maximum capacity and the time series of each region must first be loaded as input data\n",
    "pv_time_series=pd.read_csv(path_to_pv_ts, index_col=[0]).reset_index(drop=True) #capacity factor [1]\n",
    "pv_capacity_max=pd.read_csv(path_to_pv_cap, index_col=[0])['capacity_kW'] / 1e6 #capacity [GW]\n",
    "# add PV\n",
    "esM.add(\n",
    "    fn.Source(\n",
    "        esM=esM, \n",
    "        name=\"PV\", \n",
    "        commodity=\"electricity\", \n",
    "        hasCapacityVariable=True,\n",
    "        operationRateMax=pv_time_series,\n",
    "        capacityMax=pv_capacity_max,\n",
    "        investPerCapacity=0.45, #1e9EUR/GW, 2030\n",
    "        opexPerCapacity=0.017*0.45, #1e9EUR/a\n",
    "        interestRate=0.08,  #1\n",
    "        economicLifetime=20, #a\n",
    "        ),\n",
    ")\n"
   ]
  },
  {
   "cell_type": "markdown",
   "metadata": {},
   "source": [
    "Solar PV"
   ]
  },
  {
   "cell_type": "code",
   "execution_count": null,
   "metadata": {},
   "outputs": [],
   "source": [
    "# to add wind, the maximum capacity and the time series of each region must first be loaded as input data\n",
    "onshore_time_series=pd.read_csv(path_to_onshore_ts, index_col=[0]).reset_index(drop=True) #capacity factor [1]\n",
    "onshore_capacity_max=pd.read_csv(path_to_onshore_cap, index_col=[0])['capacity_kW'] / 1e6 #capacity [GW]\n",
    "#add Wind Onshore\n",
    "esM.add(\n",
    "    fn.Source(\n",
    "        esM=esM, \n",
    "        name=\"Onshore\", \n",
    "        commodity=\"electricity\", \n",
    "        hasCapacityVariable=True,\n",
    "        operationRateMax=onshore_time_series,\n",
    "        capacityMax=onshore_capacity_max,\n",
    "        investPerCapacity=1.13, #1e9EUR/GW, 2030\n",
    "        opexPerCapacity=0.025*1.13, #1e9EUR/a\n",
    "        interestRate=0.08, #1\n",
    "        economicLifetime=20, #years\n",
    "        ),\n",
    ")"
   ]
  },
  {
   "cell_type": "markdown",
   "metadata": {},
   "source": [
    "4.1 Add super expensive power source, so that the electricity demand also can be compensated when the sun is not shining and the wind is not blowing. If you would not add this, the model would not be solveable! "
   ]
  },
  {
   "cell_type": "code",
   "execution_count": null,
   "metadata": {},
   "outputs": [],
   "source": [
    "# Add SuperExpensiveElectricity\n",
    "esM.add(\n",
    "    fn.Source(\n",
    "        esM=esM, \n",
    "        name=\"SuperExpensiveElectricity\", \n",
    "        commodity=\"electricity\", \n",
    "        hasCapacityVariable=True,\n",
    "        investPerCapacity=10e10, \n",
    "        opexPerCapacity=10e10,\n",
    "        opexPerOperation=10e10, \n",
    "        interestRate=0.08, \n",
    "        economicLifetime=20, #years\n",
    "        ),\n",
    ")"
   ]
  },
  {
   "cell_type": "markdown",
   "metadata": {},
   "source": [
    "#### 5 Add the \"Conversion\" class electrolyzer"
   ]
  },
  {
   "cell_type": "code",
   "execution_count": null,
   "metadata": {},
   "outputs": [],
   "source": [
    "#add Electrolyzer\n",
    "esM.add(\n",
    "fn.Conversion(\n",
    "    esM=esM,\n",
    "    name=\"electrolyzer\",\n",
    "    physicalUnit=r\"GW$_{el}$\",\n",
    "    commodityConversionFactors={\"electricity\": -1, \"hydrogen_gas\": 0.7},\n",
    "    hasCapacityVariable=True,\n",
    "    investPerCapacity=0.5,\n",
    "    opexPerCapacity=0.025,\n",
    "    interestRate=0.08,\n",
    "    economicLifetime=10,\n",
    "    )\n",
    ")"
   ]
  },
  {
   "cell_type": "markdown",
   "metadata": {},
   "source": [
    "#### 6 Add the Demand"
   ]
  },
  {
   "cell_type": "markdown",
   "metadata": {},
   "source": [
    "Electricity Demand"
   ]
  },
  {
   "cell_type": "code",
   "execution_count": null,
   "metadata": {},
   "outputs": [],
   "source": [
    "#add electricity Demands\n",
    "electricity_demand_operationRateFix=pd.read_excel(path_to_el_dem, index_col=[0], engine=\"openpyxl\")*3 #elec demand GW\n",
    "\n",
    "esM.add(\n",
    "    fn.Sink(\n",
    "        esM=esM, \n",
    "        name=\"electricity_demand\", \n",
    "        commodity=\"electricity\",\n",
    "        hasCapacityVariable=False, \n",
    "        operationRateFix=electricity_demand_operationRateFix, #GW\n",
    "    ),\n",
    ")\n",
    "\n",
    "# Hint\n",
    "print(f\"Here you can find the electricity demands: {path_to_el_dem}\") "
   ]
  },
  {
   "cell_type": "markdown",
   "metadata": {},
   "source": [
    "Hydrogen Demand"
   ]
  },
  {
   "cell_type": "code",
   "execution_count": null,
   "metadata": {},
   "outputs": [],
   "source": [
    "#add hydrogen Demands\n",
    "hydrogen_demand_operationRateFix=pd.read_excel(path_to_h2_dem, index_col=[0], engine=\"openpyxl\")*3 #elec demand GW\n",
    "\n",
    "esM.add(\n",
    "    fn.Sink(\n",
    "        esM=esM, \n",
    "        name=\"hydrogen_demand\", \n",
    "        commodity=\"?\",\n",
    "        hasCapacityVariable=False, \n",
    "        operationRateFix=hydrogen_demand_operationRateFix, #GW\n",
    "    )\n",
    ")\n",
    "\n",
    "# Hint\n",
    "print(f\"Here you can find the hydrogen demands: {path_to_h2_dem}\") "
   ]
  },
  {
   "cell_type": "markdown",
   "metadata": {},
   "source": [
    "#### 7 Right now you have 8760 time steps. Aggregation to 7 typical time periods with the \"aggregateTemporally\" method"
   ]
  },
  {
   "cell_type": "code",
   "execution_count": null,
   "metadata": {},
   "outputs": [],
   "source": [
    "# use time aggregation tool to reduce the calculation time to 7 typical time periods\n",
    "esM.aggregateTemporally(numberOfTypicalPeriods=7, segmentation=True)"
   ]
  },
  {
   "cell_type": "markdown",
   "metadata": {},
   "source": [
    "#### 8 Start the optimization"
   ]
  },
  {
   "cell_type": "code",
   "execution_count": null,
   "metadata": {},
   "outputs": [],
   "source": [
    "#Optimize the model:\n",
    "print('Optimize')\n",
    "esM.optimize(\n",
    "    timeSeriesAggregation=True,\n",
    "    optimizationSpecs=\"\",\n",
    "    solver=\"glpk\"\n",
    ")\n",
    "print('Optimization done!')"
   ]
  },
  {
   "cell_type": "markdown",
   "metadata": {},
   "source": [
    "### Results:"
   ]
  },
  {
   "cell_type": "code",
   "execution_count": null,
   "metadata": {},
   "outputs": [],
   "source": [
    "esM.getOptimizationSummary(\"SourceSinkModel\", outputLevel=2)"
   ]
  },
  {
   "cell_type": "code",
   "execution_count": null,
   "metadata": {},
   "outputs": [],
   "source": [
    "esM.getOptimizationSummary(\"ConversionModel\", 2)"
   ]
  },
  {
   "cell_type": "markdown",
   "metadata": {},
   "source": [
    "## Plots"
   ]
  },
  {
   "cell_type": "code",
   "execution_count": null,
   "metadata": {},
   "outputs": [],
   "source": [
    "## Show GID_1 Regions in Niger\n",
    "fn.plotLocations(path_to_regions, plotLocNames=True, indexColumn=\"GID_1\")"
   ]
  },
  {
   "cell_type": "markdown",
   "metadata": {},
   "source": [
    "#### 1 Installed electrolyzer capacity"
   ]
  },
  {
   "cell_type": "code",
   "execution_count": null,
   "metadata": {},
   "outputs": [],
   "source": [
    "fn.plotLocationalColorMap(\n",
    "    esM, \"electrolyzer\", path_to_regions, \"GID_1\", perArea=False\n",
    ")"
   ]
  }
 ],
 "metadata": {
  "kernelspec": {
   "display_name": "Python 3.7.12 ('GradSchoolESM': conda)",
   "language": "python",
   "name": "python3"
  },
  "language_info": {
   "codemirror_mode": {
    "name": "ipython",
    "version": 3
   },
   "file_extension": ".py",
   "mimetype": "text/x-python",
   "name": "python",
   "nbconvert_exporter": "python",
   "pygments_lexer": "ipython3",
   "version": "3.7.12"
  },
  "orig_nbformat": 4,
  "vscode": {
   "interpreter": {
    "hash": "defe49f51b51adc37815d90a4d184ba112c3830d9d945089da1a3edcf54b815e"
   }
  }
 },
 "nbformat": 4,
 "nbformat_minor": 2
}
