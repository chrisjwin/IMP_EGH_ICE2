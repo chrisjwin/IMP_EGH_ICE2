{
 "cells": [
  {
   "cell_type": "markdown",
   "metadata": {},
   "source": [
    "### Unit 08: Final Energy Demands\n",
    "## Welcome to your 8-Region-Renewable-Energy System Model of Niger\n",
    "\n",
    "#### Solution exercise 1 - Adding and changing electricity demands 2030"
   ]
  },
  {
   "cell_type": "markdown",
   "metadata": {},
   "source": [
    "#### 1. Import FINE and further modules to run the model "
   ]
  },
  {
   "cell_type": "code",
   "execution_count": 11,
   "metadata": {},
   "outputs": [
    {
     "name": "stdout",
     "output_type": "stream",
     "text": [
      "The autoreload extension is already loaded. To reload it, use:\n",
      "  %reload_ext autoreload\n"
     ]
    }
   ],
   "source": [
    "import FINE as fn\n",
    "import geopandas as gpd\n",
    "import pandas as pd\n",
    "import numpy as np\n",
    "import geokit as gk\n",
    "from os.path import dirname, abspath, join\n",
    "import matplotlib.pyplot as plt\n",
    "import os\n",
    "\n",
    "%matplotlib inline\n",
    "%load_ext autoreload\n",
    "%autoreload 2\n",
    "\n"
   ]
  },
  {
   "cell_type": "markdown",
   "metadata": {},
   "source": [
    "#### 2. Set paths as input data for the model "
   ]
  },
  {
   "cell_type": "code",
   "execution_count": 12,
   "metadata": {},
   "outputs": [],
   "source": [
    "#set paths\n",
    "cwd = os.getcwd()\n",
    "data_dir = join(cwd, \"data\")\n",
    "\n",
    "path_to_regions = join(data_dir, \"regions\", \"region_shape_NER.shp\")\n",
    "\n",
    "path_to_pv_ts = join(data_dir, \"sources\", \"solar_ts_NER.csv\")\n",
    "path_to_onshore_ts = join(data_dir, \"sources\", \"onshore_ts_NER.csv\")\n",
    "\n",
    "path_to_pv_cap = join(data_dir, \"sources\", \"solar_cap_NER.csv\")\n",
    "path_to_onshore_cap = join(data_dir, \"sources\", \"onshore_cap_NER.csv\")\n",
    "\n",
    "path_to_el_dem = join(data_dir, \"sinks\", \"electricity_dem2030_NER.xlsx\")\n",
    "path_to_h2_dem = join(data_dir, \"sinks\", \"hydrogen_dem_NER.xlsx\")"
   ]
  },
  {
   "cell_type": "markdown",
   "metadata": {},
   "source": [
    "#### Hint: Where is the \"data\" folder? "
   ]
  },
  {
   "cell_type": "code",
   "execution_count": 13,
   "metadata": {},
   "outputs": [
    {
     "data": {
      "text/plain": [
       "'c:\\\\Programming\\\\GradSchool2022\\\\wascal_graduate_school\\\\student_files\\\\exercises\\\\Unit_08_ElectricityAndHydrogenDemand\\\\data'"
      ]
     },
     "execution_count": 13,
     "metadata": {},
     "output_type": "execute_result"
    }
   ],
   "source": [
    "## Show path to data folder\n",
    "data_dir"
   ]
  },
  {
   "cell_type": "markdown",
   "metadata": {},
   "source": [
    "#### 2.1 Set up the regions and the commodities of the model"
   ]
  },
  {
   "cell_type": "code",
   "execution_count": 14,
   "metadata": {},
   "outputs": [],
   "source": [
    "locations_shape = gpd.read_file(path_to_regions)\n",
    "locations = locations_shape.GID_1.to_list() #will be [\"NER.1_1\", \"NER.2_1\", ... \"NER.8_1\"]\n",
    "\n",
    "commodities = {\"electricity\", \"hydrogen_gas\"}\n",
    "commodityUnitsDict = {\n",
    "                \"electricity\": r\"GW$_{el}$\",\n",
    "                \"hydrogen_gas\": r\"GW$_{H_{2},LHV}$\",\n",
    "            }\n",
    "            "
   ]
  },
  {
   "cell_type": "markdown",
   "metadata": {},
   "source": [
    "#### 3 Set up the energy system model class"
   ]
  },
  {
   "cell_type": "code",
   "execution_count": 15,
   "metadata": {},
   "outputs": [],
   "source": [
    "#Set up esm Model\n",
    "\n",
    "esM = fn.EnergySystemModel(\n",
    "    locations=set(locations),\n",
    "    commodities=commodities,\n",
    "    numberOfTimeSteps=8760, #hours per year\n",
    "    commodityUnitsDict=commodityUnitsDict,\n",
    "    hoursPerTimeStep=1, #time step is one hour\n",
    "    costUnit=\"1e9 Euro\",\n",
    "    lengthUnit=\"km\",\n",
    "    verboseLogLevel=0, #what is printed, just keep it\n",
    ")\n"
   ]
  },
  {
   "cell_type": "markdown",
   "metadata": {},
   "source": [
    "#### 4 Add the electricity \"sources\" to the model"
   ]
  },
  {
   "cell_type": "markdown",
   "metadata": {},
   "source": [
    "Wind Onshore"
   ]
  },
  {
   "cell_type": "code",
   "execution_count": 16,
   "metadata": {},
   "outputs": [],
   "source": [
    "# to add pv, the maximum capacity and the time series of each region must first be loaded as input data\n",
    "pv_time_series=pd.read_csv(path_to_pv_ts, index_col=[0]).reset_index(drop=True) #capacity factor [1]\n",
    "pv_capacity_max=pd.read_csv(path_to_pv_cap, index_col=[0])['capacity_kW'] / 1e6 #capacity [GW]\n",
    "# add PV\n",
    "esM.add(\n",
    "    fn.Source(\n",
    "        esM=esM, \n",
    "        name=\"PV\", \n",
    "        commodity=\"electricity\", \n",
    "        hasCapacityVariable=True,\n",
    "        operationRateMax=pv_time_series,\n",
    "        capacityMax=pv_capacity_max,\n",
    "        investPerCapacity=0.45, #1e9EUR/GW, 2030\n",
    "        opexPerCapacity=0.017*0.45, #1e9EUR/a\n",
    "        interestRate=0.08,  #1\n",
    "        economicLifetime=20, #a\n",
    "        ),\n",
    ")\n"
   ]
  },
  {
   "cell_type": "markdown",
   "metadata": {},
   "source": [
    "Solar PV"
   ]
  },
  {
   "cell_type": "code",
   "execution_count": 17,
   "metadata": {},
   "outputs": [],
   "source": [
    "# to add wind, the maximum capacity and the time series of each region must first be loaded as input data\n",
    "onshore_time_series=pd.read_csv(path_to_onshore_ts, index_col=[0]).reset_index(drop=True) #capacity factor [1]\n",
    "onshore_capacity_max=pd.read_csv(path_to_onshore_cap, index_col=[0])['capacity_kW'] / 1e6 #capacity [GW]\n",
    "#add Wind Onshore\n",
    "esM.add(\n",
    "    fn.Source(\n",
    "        esM=esM, \n",
    "        name=\"Onshore\", \n",
    "        commodity=\"electricity\", \n",
    "        hasCapacityVariable=True,\n",
    "        operationRateMax=onshore_time_series,\n",
    "        capacityMax=onshore_capacity_max,\n",
    "        investPerCapacity=1.13, #1e9EUR/GW, 2030\n",
    "        opexPerCapacity=0.025*1.13, #1e9EUR/a\n",
    "        interestRate=0.08, #1\n",
    "        economicLifetime=20, #years\n",
    "        ),\n",
    ")"
   ]
  },
  {
   "cell_type": "markdown",
   "metadata": {},
   "source": [
    "4.1 Add super expensive power source, so that the electricity demand also can be compensated when the sun is not shining and the wind is not blowing. If you would not add this, the model would not be solveable! "
   ]
  },
  {
   "cell_type": "code",
   "execution_count": 18,
   "metadata": {},
   "outputs": [],
   "source": [
    "# Add SuperExpensiveElectricity\n",
    "esM.add(\n",
    "    fn.Source(\n",
    "        esM=esM, \n",
    "        name=\"SuperExpensiveElectricity\", \n",
    "        commodity=\"electricity\", \n",
    "        hasCapacityVariable=True,\n",
    "        investPerCapacity=10e10, \n",
    "        opexPerCapacity=10e10,\n",
    "        opexPerOperation=10e10, \n",
    "        interestRate=0.08, \n",
    "        economicLifetime=20, #years\n",
    "        ),\n",
    ")"
   ]
  },
  {
   "cell_type": "markdown",
   "metadata": {},
   "source": [
    "#### 6 Add the Demand"
   ]
  },
  {
   "cell_type": "markdown",
   "metadata": {},
   "source": [
    "Electricity Demand"
   ]
  },
  {
   "cell_type": "code",
   "execution_count": 19,
   "metadata": {},
   "outputs": [
    {
     "name": "stdout",
     "output_type": "stream",
     "text": [
      "Here you can find the electricity demands: c:\\Programming\\GradSchool2022\\wascal_graduate_school\\student_files\\exercises\\Unit_08_ElectricityAndHydrogenDemand\\data\\sinks\\electricity_dem2030_NER.xlsx\n"
     ]
    }
   ],
   "source": [
    "#add electricity Demands\n",
    "electricity_demand_operationRateFix=pd.read_excel(path_to_el_dem, index_col=[0], engine=\"openpyxl\")*3 #elec demand GW\n",
    "\n",
    "esM.add(\n",
    "    fn.Sink(\n",
    "        esM=esM, \n",
    "        name=\"electricity_demand\", \n",
    "        commodity=\"electricity\",\n",
    "        hasCapacityVariable=False, \n",
    "        operationRateFix=electricity_demand_operationRateFix, #GW\n",
    "    ),\n",
    ")\n",
    "\n",
    "# Hint\n",
    "print(f\"Here you can find the electricity demands: {path_to_el_dem}\") "
   ]
  },
  {
   "cell_type": "markdown",
   "metadata": {},
   "source": [
    "#### 7 Right now you have 8760 time steps. Aggregation to 7 typical time periods with the \"aggregateTemporally\" method"
   ]
  },
  {
   "cell_type": "code",
   "execution_count": 20,
   "metadata": {},
   "outputs": [
    {
     "name": "stdout",
     "output_type": "stream",
     "text": [
      "\n",
      "Clustering time series data with 7 typical periods and 24 time steps per period \n",
      "further clustered to 24 segments per period...\n",
      "\t\t(0.2849 sec)\n",
      "\n"
     ]
    },
    {
     "name": "stderr",
     "output_type": "stream",
     "text": [
      " c:\\Users\\a.burdack\\Anaconda3\\envs\\GradSchoolESM\\lib\\site-packages\\tsam\\timeseriesaggregation.py:1070: UserWarning:Something went wrong: At least one maximal value of the aggregated time series exceeds the maximal value the input time series\n"
     ]
    }
   ],
   "source": [
    "# use time aggregation tool to reduce the calculation time to 7 typical time periods\n",
    "esM.aggregateTemporally(numberOfTypicalPeriods=7, segmentation=True)"
   ]
  },
  {
   "cell_type": "markdown",
   "metadata": {},
   "source": [
    "#### 8 Start the optimization"
   ]
  },
  {
   "cell_type": "code",
   "execution_count": 21,
   "metadata": {},
   "outputs": [
    {
     "name": "stdout",
     "output_type": "stream",
     "text": [
      "Optimize\n",
      "Time series aggregation specifications:\n",
      "Number of typical periods:7, number of time steps per period:24, number of segments per period:24\n",
      "\n",
      "Declaring sets, variables and constraints for SourceSinkModel\n",
      "\tdeclaring sets... \n",
      "\tdeclaring variables... \n",
      "\tdeclaring constraints... \n",
      "\t\t(0.3279 sec)\n",
      "\n",
      "Declaring shared potential constraint...\n",
      "\t\t(0.0000 sec)\n",
      "\n",
      "Declaring linked component quantity constraint...\n",
      "\t\t(0.0000 sec)\n",
      "\n",
      "Declaring commodity balances...\n",
      "\t\t(0.0269 sec)\n",
      "\n",
      "\t\t(0.0000 sec)\n",
      "\n",
      "Declaring objective function...\n",
      "\t\t(0.0538 sec)\n",
      "\n",
      "GLPSOL--GLPK LP/MIP Solver 5.0\n",
      "Parameter(s) specified in the command line:\n",
      " --write C:\\Users\\A0C9B~1.BUR\\AppData\\Local\\Temp\\tmpfu2f0f7_.glpk.raw --wglp\n",
      " C:\\Users\\A0C9B~1.BUR\\AppData\\Local\\Temp\\tmp6extdub0.glpk.glp --cpxlp C:\\Users\\A0C9B~1.BUR\\AppData\\Local\\Temp\\tmp0klw1w9w.pyomo.lp\n",
      "Reading problem data from 'C:\\Users\\A0C9B~1.BUR\\AppData\\Local\\Temp\\tmp0klw1w9w.pyomo.lp'...\n",
      "6745 rows, 5425 columns, 13611 non-zeros\n",
      "40646 lines were read\n",
      "Writing problem data to 'C:\\Users\\A0C9B~1.BUR\\AppData\\Local\\Temp\\tmp6extdub0.glpk.glp'...\n",
      "32545 lines were written\n",
      "GLPK Simplex Optimizer 5.0\n",
      "6745 rows, 5425 columns, 13611 non-zeros\n",
      "Preprocessing...\n",
      "2932 rows, 2223 columns, 6597 non-zeros\n",
      "Scaling...\n",
      " A: min|aij| =  7.314e-05  max|aij| =  1.034e+00  ratio =  1.414e+04\n",
      "GM: min|aij| =  4.031e-01  max|aij| =  2.481e+00  ratio =  6.155e+00\n",
      "EQ: min|aij| =  1.625e-01  max|aij| =  1.000e+00  ratio =  6.155e+00\n",
      "Constructing initial basis...\n",
      "Size of triangular part is 2932\n",
      "      0: obj =   1.342954603e+15 inf =   3.496e+02 (733)\n",
      "    747: obj =   1.454509155e+15 inf =   0.000e+00 (0) 7\n",
      "*   840: obj =   1.355597739e+15 inf =   0.000e+00 (0)\n",
      "OPTIMAL LP SOLUTION FOUND\n",
      "Time used:   0.0 secs\n",
      "Memory used: 5.8 Mb (6049524 bytes)\n",
      "Writing basic solution to 'C:\\Users\\A0C9B~1.BUR\\AppData\\Local\\Temp\\tmpfu2f0f7_.glpk.raw'...\n",
      "12179 lines were written\n",
      "\n",
      "Status: ok\n",
      "Termination condition: optimal\n",
      "Statistics: \n",
      "  Branch and bound: \n",
      "    Number of bounded subproblems: 0\n",
      "    Number of created subproblems: 0\n",
      "Error rc: 0\n",
      "Time: 0.11003661155700684\n",
      "\n",
      "\n",
      "Name: unknown\n",
      "Lower bound: 1355597738616800.0\n",
      "Upper bound: 1355597738616800.0\n",
      "Number of objectives: 1\n",
      "Number of constraints: 6745\n",
      "Number of variables: 5425\n",
      "Number of nonzeros: 13611\n",
      "Sense: minimize\n",
      "\n",
      "Solve time: 0.46793055534362793 sec.\n",
      "\n",
      "Processing optimization output...\n",
      "for SourceSinkModel ...  (0.2944sec)\n",
      "\t\t(0.2994 sec)\n",
      "\n",
      "Optimization done!\n"
     ]
    }
   ],
   "source": [
    "#Optimize the model:\n",
    "print('Optimize')\n",
    "esM.optimize(\n",
    "    timeSeriesAggregation=True,\n",
    "    optimizationSpecs=\"\",\n",
    "    solver=\"glpk\"\n",
    ")\n",
    "print('Optimization done!')"
   ]
  },
  {
   "cell_type": "markdown",
   "metadata": {},
   "source": [
    "### Results:"
   ]
  },
  {
   "cell_type": "code",
   "execution_count": 22,
   "metadata": {},
   "outputs": [
    {
     "data": {
      "text/html": [
       "<div>\n",
       "<style scoped>\n",
       "    .dataframe tbody tr th:only-of-type {\n",
       "        vertical-align: middle;\n",
       "    }\n",
       "\n",
       "    .dataframe tbody tr th {\n",
       "        vertical-align: top;\n",
       "    }\n",
       "\n",
       "    .dataframe thead th {\n",
       "        text-align: right;\n",
       "    }\n",
       "</style>\n",
       "<table border=\"1\" class=\"dataframe\">\n",
       "  <thead>\n",
       "    <tr style=\"text-align: right;\">\n",
       "      <th></th>\n",
       "      <th></th>\n",
       "      <th></th>\n",
       "      <th>NER.1_1</th>\n",
       "      <th>NER.2_1</th>\n",
       "      <th>NER.3_1</th>\n",
       "      <th>NER.4_1</th>\n",
       "      <th>NER.5_1</th>\n",
       "      <th>NER.6_1</th>\n",
       "      <th>NER.7_1</th>\n",
       "      <th>NER.8_1</th>\n",
       "    </tr>\n",
       "    <tr>\n",
       "      <th>Component</th>\n",
       "      <th>Property</th>\n",
       "      <th>Unit</th>\n",
       "      <th></th>\n",
       "      <th></th>\n",
       "      <th></th>\n",
       "      <th></th>\n",
       "      <th></th>\n",
       "      <th></th>\n",
       "      <th></th>\n",
       "      <th></th>\n",
       "    </tr>\n",
       "  </thead>\n",
       "  <tbody>\n",
       "    <tr>\n",
       "      <th rowspan=\"7\" valign=\"top\">Onshore</th>\n",
       "      <th>TAC</th>\n",
       "      <th>[1e9 Euro/a]</th>\n",
       "      <td>0.0</td>\n",
       "      <td>0.0</td>\n",
       "      <td>247.541397</td>\n",
       "      <td>0.0</td>\n",
       "      <td>0.122758</td>\n",
       "      <td>1601.964777</td>\n",
       "      <td>31.251535</td>\n",
       "      <td>141.171098</td>\n",
       "    </tr>\n",
       "    <tr>\n",
       "      <th>capacity</th>\n",
       "      <th>[GW$_{el}$]</th>\n",
       "      <td>0.0</td>\n",
       "      <td>0.0</td>\n",
       "      <td>1726.916586</td>\n",
       "      <td>0.0</td>\n",
       "      <td>0.85639</td>\n",
       "      <td>11175.745042</td>\n",
       "      <td>218.019268</td>\n",
       "      <td>984.848248</td>\n",
       "    </tr>\n",
       "    <tr>\n",
       "      <th>capexCap</th>\n",
       "      <th>[1e9 Euro/a]</th>\n",
       "      <td>0.0</td>\n",
       "      <td>0.0</td>\n",
       "      <td>198.756004</td>\n",
       "      <td>0.0</td>\n",
       "      <td>0.098565</td>\n",
       "      <td>1286.249979</td>\n",
       "      <td>25.092491</td>\n",
       "      <td>113.349135</td>\n",
       "    </tr>\n",
       "    <tr>\n",
       "      <th>invest</th>\n",
       "      <th>[1e9 Euro]</th>\n",
       "      <td>0.0</td>\n",
       "      <td>0.0</td>\n",
       "      <td>1951.415742</td>\n",
       "      <td>0.0</td>\n",
       "      <td>0.967721</td>\n",
       "      <td>12628.591898</td>\n",
       "      <td>246.361772</td>\n",
       "      <td>1112.87852</td>\n",
       "    </tr>\n",
       "    <tr>\n",
       "      <th rowspan=\"2\" valign=\"top\">operation</th>\n",
       "      <th>[GW$_{el}$*h/a]</th>\n",
       "      <td>0.0</td>\n",
       "      <td>0.0</td>\n",
       "      <td>137.248987</td>\n",
       "      <td>0.0</td>\n",
       "      <td>13.854957</td>\n",
       "      <td>315.627117</td>\n",
       "      <td>118.199103</td>\n",
       "      <td>119.701309</td>\n",
       "    </tr>\n",
       "    <tr>\n",
       "      <th>[GW$_{el}$*h]</th>\n",
       "      <td>0.0</td>\n",
       "      <td>0.0</td>\n",
       "      <td>137.248987</td>\n",
       "      <td>0.0</td>\n",
       "      <td>13.854957</td>\n",
       "      <td>315.627117</td>\n",
       "      <td>118.199103</td>\n",
       "      <td>119.701309</td>\n",
       "    </tr>\n",
       "    <tr>\n",
       "      <th>opexCap</th>\n",
       "      <th>[1e9 Euro/a]</th>\n",
       "      <td>0.0</td>\n",
       "      <td>0.0</td>\n",
       "      <td>48.785394</td>\n",
       "      <td>0.0</td>\n",
       "      <td>0.024193</td>\n",
       "      <td>315.714797</td>\n",
       "      <td>6.159044</td>\n",
       "      <td>27.821963</td>\n",
       "    </tr>\n",
       "    <tr>\n",
       "      <th rowspan=\"7\" valign=\"top\">PV</th>\n",
       "      <th>TAC</th>\n",
       "      <th>[1e9 Euro/a]</th>\n",
       "      <td>53.77403</td>\n",
       "      <td>6.863512</td>\n",
       "      <td>8.63012</td>\n",
       "      <td>9.054095</td>\n",
       "      <td>0.110673</td>\n",
       "      <td>28.917766</td>\n",
       "      <td>25.055715</td>\n",
       "      <td>39.056573</td>\n",
       "    </tr>\n",
       "    <tr>\n",
       "      <th>capacity</th>\n",
       "      <th>[GW$_{el}$]</th>\n",
       "      <td>1005.432254</td>\n",
       "      <td>128.329541</td>\n",
       "      <td>161.360438</td>\n",
       "      <td>169.287655</td>\n",
       "      <td>2.069288</td>\n",
       "      <td>540.685801</td>\n",
       "      <td>468.475664</td>\n",
       "      <td>730.254699</td>\n",
       "    </tr>\n",
       "    <tr>\n",
       "      <th>capexCap</th>\n",
       "      <th>[1e9 Euro/a]</th>\n",
       "      <td>46.082473</td>\n",
       "      <td>5.881791</td>\n",
       "      <td>7.395713</td>\n",
       "      <td>7.759045</td>\n",
       "      <td>0.094843</td>\n",
       "      <td>24.781519</td>\n",
       "      <td>21.471877</td>\n",
       "      <td>33.470124</td>\n",
       "    </tr>\n",
       "    <tr>\n",
       "      <th>invest</th>\n",
       "      <th>[1e9 Euro]</th>\n",
       "      <td>452.444514</td>\n",
       "      <td>57.748293</td>\n",
       "      <td>72.612197</td>\n",
       "      <td>76.179445</td>\n",
       "      <td>0.93118</td>\n",
       "      <td>243.308611</td>\n",
       "      <td>210.814049</td>\n",
       "      <td>328.614614</td>\n",
       "    </tr>\n",
       "    <tr>\n",
       "      <th rowspan=\"2\" valign=\"top\">operation</th>\n",
       "      <th>[GW$_{el}$*h/a]</th>\n",
       "      <td>452.961884</td>\n",
       "      <td>604.125771</td>\n",
       "      <td>1734.54662</td>\n",
       "      <td>3084.469679</td>\n",
       "      <td>714.802806</td>\n",
       "      <td>3221.81059</td>\n",
       "      <td>2510.503878</td>\n",
       "      <td>3423.780264</td>\n",
       "    </tr>\n",
       "    <tr>\n",
       "      <th>[GW$_{el}$*h]</th>\n",
       "      <td>452.961884</td>\n",
       "      <td>604.125771</td>\n",
       "      <td>1734.54662</td>\n",
       "      <td>3084.469679</td>\n",
       "      <td>714.802806</td>\n",
       "      <td>3221.81059</td>\n",
       "      <td>2510.503878</td>\n",
       "      <td>3423.780264</td>\n",
       "    </tr>\n",
       "    <tr>\n",
       "      <th>opexCap</th>\n",
       "      <th>[1e9 Euro/a]</th>\n",
       "      <td>7.691557</td>\n",
       "      <td>0.981721</td>\n",
       "      <td>1.234407</td>\n",
       "      <td>1.295051</td>\n",
       "      <td>0.01583</td>\n",
       "      <td>4.136246</td>\n",
       "      <td>3.583839</td>\n",
       "      <td>5.586448</td>\n",
       "    </tr>\n",
       "    <tr>\n",
       "      <th rowspan=\"8\" valign=\"top\">SuperExpensiveElectricity</th>\n",
       "      <th>TAC</th>\n",
       "      <th>[1e9 Euro/a]</th>\n",
       "      <td>39001004043301.40625</td>\n",
       "      <td>52016543718737.554688</td>\n",
       "      <td>141149027174689.71875</td>\n",
       "      <td>271862337011590.34375</td>\n",
       "      <td>77124000069427.03125</td>\n",
       "      <td>266752357459941.8125</td>\n",
       "      <td>208678156307998.09375</td>\n",
       "      <td>299014312828926.5</td>\n",
       "    </tr>\n",
       "    <tr>\n",
       "      <th>capacity</th>\n",
       "      <th>[GW$_{el}$]</th>\n",
       "      <td>0.194027</td>\n",
       "      <td>0.258779</td>\n",
       "      <td>0.755716</td>\n",
       "      <td>1.335702</td>\n",
       "      <td>0.345232</td>\n",
       "      <td>1.4282</td>\n",
       "      <td>1.085366</td>\n",
       "      <td>1.503849</td>\n",
       "    </tr>\n",
       "    <tr>\n",
       "      <th>capexCap</th>\n",
       "      <th>[1e9 Euro/a]</th>\n",
       "      <td>1976212203.777437</td>\n",
       "      <td>2635720054.313601</td>\n",
       "      <td>7697136092.415444</td>\n",
       "      <td>13604419048.781816</td>\n",
       "      <td>3516269261.715186</td>\n",
       "      <td>14546534534.741001</td>\n",
       "      <td>11054695695.236794</td>\n",
       "      <td>15317033104.414576</td>\n",
       "    </tr>\n",
       "    <tr>\n",
       "      <th>invest</th>\n",
       "      <th>[1e9 Euro]</th>\n",
       "      <td>19402742725.087101</td>\n",
       "      <td>25877888018.021198</td>\n",
       "      <td>75571616770.533096</td>\n",
       "      <td>133570191613.651001</td>\n",
       "      <td>34523249935.802605</td>\n",
       "      <td>142820020329.639008</td>\n",
       "      <td>108536631880.330002</td>\n",
       "      <td>150384888863.923004</td>\n",
       "    </tr>\n",
       "    <tr>\n",
       "      <th rowspan=\"2\" valign=\"top\">operation</th>\n",
       "      <th>[GW$_{el}$*h/a]</th>\n",
       "      <td>389.796251</td>\n",
       "      <td>519.880301</td>\n",
       "      <td>1410.657584</td>\n",
       "      <td>2717.151624</td>\n",
       "      <td>770.859606</td>\n",
       "      <td>2665.949909</td>\n",
       "      <td>2085.58565</td>\n",
       "      <td>2988.486109</td>\n",
       "    </tr>\n",
       "    <tr>\n",
       "      <th>[GW$_{el}$*h]</th>\n",
       "      <td>389.796251</td>\n",
       "      <td>519.880301</td>\n",
       "      <td>1410.657584</td>\n",
       "      <td>2717.151624</td>\n",
       "      <td>770.859606</td>\n",
       "      <td>2665.949909</td>\n",
       "      <td>2085.58565</td>\n",
       "      <td>2988.486109</td>\n",
       "    </tr>\n",
       "    <tr>\n",
       "      <th>opexCap</th>\n",
       "      <th>[1e9 Euro/a]</th>\n",
       "      <td>19402742725.087101</td>\n",
       "      <td>25877888018.021198</td>\n",
       "      <td>75571616770.533096</td>\n",
       "      <td>133570191613.651001</td>\n",
       "      <td>34523249935.802605</td>\n",
       "      <td>142820020329.639008</td>\n",
       "      <td>108536631880.330002</td>\n",
       "      <td>150384888863.923004</td>\n",
       "    </tr>\n",
       "    <tr>\n",
       "      <th>opexOp</th>\n",
       "      <th>[1e9 Euro/a]</th>\n",
       "      <td>38979625088372.539062</td>\n",
       "      <td>51988030110665.21875</td>\n",
       "      <td>141065758421826.78125</td>\n",
       "      <td>271715162400927.90625</td>\n",
       "      <td>77085960550229.515625</td>\n",
       "      <td>266594990905077.4375</td>\n",
       "      <td>208558564980422.53125</td>\n",
       "      <td>298848610906958.1875</td>\n",
       "    </tr>\n",
       "    <tr>\n",
       "      <th rowspan=\"2\" valign=\"top\">electricity_demand</th>\n",
       "      <th rowspan=\"2\" valign=\"top\">operation</th>\n",
       "      <th>[GW$_{el}$*h/a]</th>\n",
       "      <td>842.758135</td>\n",
       "      <td>1124.006072</td>\n",
       "      <td>3282.453192</td>\n",
       "      <td>5801.621303</td>\n",
       "      <td>1499.517369</td>\n",
       "      <td>6203.387616</td>\n",
       "      <td>4714.288631</td>\n",
       "      <td>6531.967682</td>\n",
       "    </tr>\n",
       "    <tr>\n",
       "      <th>[GW$_{el}$*h]</th>\n",
       "      <td>842.758135</td>\n",
       "      <td>1124.006072</td>\n",
       "      <td>3282.453192</td>\n",
       "      <td>5801.621303</td>\n",
       "      <td>1499.517369</td>\n",
       "      <td>6203.387616</td>\n",
       "      <td>4714.288631</td>\n",
       "      <td>6531.967682</td>\n",
       "    </tr>\n",
       "  </tbody>\n",
       "</table>\n",
       "</div>"
      ],
      "text/plain": [
       "                                                                   NER.1_1  \\\n",
       "Component                 Property  Unit                                     \n",
       "Onshore                   TAC       [1e9 Euro/a]                       0.0   \n",
       "                          capacity  [GW$_{el}$]                        0.0   \n",
       "                          capexCap  [1e9 Euro/a]                       0.0   \n",
       "                          invest    [1e9 Euro]                         0.0   \n",
       "                          operation [GW$_{el}$*h/a]                    0.0   \n",
       "                                    [GW$_{el}$*h]                      0.0   \n",
       "                          opexCap   [1e9 Euro/a]                       0.0   \n",
       "PV                        TAC       [1e9 Euro/a]                  53.77403   \n",
       "                          capacity  [GW$_{el}$]                1005.432254   \n",
       "                          capexCap  [1e9 Euro/a]                 46.082473   \n",
       "                          invest    [1e9 Euro]                  452.444514   \n",
       "                          operation [GW$_{el}$*h/a]             452.961884   \n",
       "                                    [GW$_{el}$*h]               452.961884   \n",
       "                          opexCap   [1e9 Euro/a]                  7.691557   \n",
       "SuperExpensiveElectricity TAC       [1e9 Euro/a]      39001004043301.40625   \n",
       "                          capacity  [GW$_{el}$]                   0.194027   \n",
       "                          capexCap  [1e9 Euro/a]         1976212203.777437   \n",
       "                          invest    [1e9 Euro]          19402742725.087101   \n",
       "                          operation [GW$_{el}$*h/a]             389.796251   \n",
       "                                    [GW$_{el}$*h]               389.796251   \n",
       "                          opexCap   [1e9 Euro/a]        19402742725.087101   \n",
       "                          opexOp    [1e9 Euro/a]     38979625088372.539062   \n",
       "electricity_demand        operation [GW$_{el}$*h/a]             842.758135   \n",
       "                                    [GW$_{el}$*h]               842.758135   \n",
       "\n",
       "                                                                   NER.2_1  \\\n",
       "Component                 Property  Unit                                     \n",
       "Onshore                   TAC       [1e9 Euro/a]                       0.0   \n",
       "                          capacity  [GW$_{el}$]                        0.0   \n",
       "                          capexCap  [1e9 Euro/a]                       0.0   \n",
       "                          invest    [1e9 Euro]                         0.0   \n",
       "                          operation [GW$_{el}$*h/a]                    0.0   \n",
       "                                    [GW$_{el}$*h]                      0.0   \n",
       "                          opexCap   [1e9 Euro/a]                       0.0   \n",
       "PV                        TAC       [1e9 Euro/a]                  6.863512   \n",
       "                          capacity  [GW$_{el}$]                 128.329541   \n",
       "                          capexCap  [1e9 Euro/a]                  5.881791   \n",
       "                          invest    [1e9 Euro]                   57.748293   \n",
       "                          operation [GW$_{el}$*h/a]             604.125771   \n",
       "                                    [GW$_{el}$*h]               604.125771   \n",
       "                          opexCap   [1e9 Euro/a]                  0.981721   \n",
       "SuperExpensiveElectricity TAC       [1e9 Euro/a]     52016543718737.554688   \n",
       "                          capacity  [GW$_{el}$]                   0.258779   \n",
       "                          capexCap  [1e9 Euro/a]         2635720054.313601   \n",
       "                          invest    [1e9 Euro]          25877888018.021198   \n",
       "                          operation [GW$_{el}$*h/a]             519.880301   \n",
       "                                    [GW$_{el}$*h]               519.880301   \n",
       "                          opexCap   [1e9 Euro/a]        25877888018.021198   \n",
       "                          opexOp    [1e9 Euro/a]      51988030110665.21875   \n",
       "electricity_demand        operation [GW$_{el}$*h/a]            1124.006072   \n",
       "                                    [GW$_{el}$*h]              1124.006072   \n",
       "\n",
       "                                                                   NER.3_1  \\\n",
       "Component                 Property  Unit                                     \n",
       "Onshore                   TAC       [1e9 Euro/a]                247.541397   \n",
       "                          capacity  [GW$_{el}$]                1726.916586   \n",
       "                          capexCap  [1e9 Euro/a]                198.756004   \n",
       "                          invest    [1e9 Euro]                 1951.415742   \n",
       "                          operation [GW$_{el}$*h/a]             137.248987   \n",
       "                                    [GW$_{el}$*h]               137.248987   \n",
       "                          opexCap   [1e9 Euro/a]                 48.785394   \n",
       "PV                        TAC       [1e9 Euro/a]                   8.63012   \n",
       "                          capacity  [GW$_{el}$]                 161.360438   \n",
       "                          capexCap  [1e9 Euro/a]                  7.395713   \n",
       "                          invest    [1e9 Euro]                   72.612197   \n",
       "                          operation [GW$_{el}$*h/a]             1734.54662   \n",
       "                                    [GW$_{el}$*h]               1734.54662   \n",
       "                          opexCap   [1e9 Euro/a]                  1.234407   \n",
       "SuperExpensiveElectricity TAC       [1e9 Euro/a]     141149027174689.71875   \n",
       "                          capacity  [GW$_{el}$]                   0.755716   \n",
       "                          capexCap  [1e9 Euro/a]         7697136092.415444   \n",
       "                          invest    [1e9 Euro]          75571616770.533096   \n",
       "                          operation [GW$_{el}$*h/a]            1410.657584   \n",
       "                                    [GW$_{el}$*h]              1410.657584   \n",
       "                          opexCap   [1e9 Euro/a]        75571616770.533096   \n",
       "                          opexOp    [1e9 Euro/a]     141065758421826.78125   \n",
       "electricity_demand        operation [GW$_{el}$*h/a]            3282.453192   \n",
       "                                    [GW$_{el}$*h]              3282.453192   \n",
       "\n",
       "                                                                   NER.4_1  \\\n",
       "Component                 Property  Unit                                     \n",
       "Onshore                   TAC       [1e9 Euro/a]                       0.0   \n",
       "                          capacity  [GW$_{el}$]                        0.0   \n",
       "                          capexCap  [1e9 Euro/a]                       0.0   \n",
       "                          invest    [1e9 Euro]                         0.0   \n",
       "                          operation [GW$_{el}$*h/a]                    0.0   \n",
       "                                    [GW$_{el}$*h]                      0.0   \n",
       "                          opexCap   [1e9 Euro/a]                       0.0   \n",
       "PV                        TAC       [1e9 Euro/a]                  9.054095   \n",
       "                          capacity  [GW$_{el}$]                 169.287655   \n",
       "                          capexCap  [1e9 Euro/a]                  7.759045   \n",
       "                          invest    [1e9 Euro]                   76.179445   \n",
       "                          operation [GW$_{el}$*h/a]            3084.469679   \n",
       "                                    [GW$_{el}$*h]              3084.469679   \n",
       "                          opexCap   [1e9 Euro/a]                  1.295051   \n",
       "SuperExpensiveElectricity TAC       [1e9 Euro/a]     271862337011590.34375   \n",
       "                          capacity  [GW$_{el}$]                   1.335702   \n",
       "                          capexCap  [1e9 Euro/a]        13604419048.781816   \n",
       "                          invest    [1e9 Euro]         133570191613.651001   \n",
       "                          operation [GW$_{el}$*h/a]            2717.151624   \n",
       "                                    [GW$_{el}$*h]              2717.151624   \n",
       "                          opexCap   [1e9 Euro/a]       133570191613.651001   \n",
       "                          opexOp    [1e9 Euro/a]     271715162400927.90625   \n",
       "electricity_demand        operation [GW$_{el}$*h/a]            5801.621303   \n",
       "                                    [GW$_{el}$*h]              5801.621303   \n",
       "\n",
       "                                                                   NER.5_1  \\\n",
       "Component                 Property  Unit                                     \n",
       "Onshore                   TAC       [1e9 Euro/a]                  0.122758   \n",
       "                          capacity  [GW$_{el}$]                    0.85639   \n",
       "                          capexCap  [1e9 Euro/a]                  0.098565   \n",
       "                          invest    [1e9 Euro]                    0.967721   \n",
       "                          operation [GW$_{el}$*h/a]              13.854957   \n",
       "                                    [GW$_{el}$*h]                13.854957   \n",
       "                          opexCap   [1e9 Euro/a]                  0.024193   \n",
       "PV                        TAC       [1e9 Euro/a]                  0.110673   \n",
       "                          capacity  [GW$_{el}$]                   2.069288   \n",
       "                          capexCap  [1e9 Euro/a]                  0.094843   \n",
       "                          invest    [1e9 Euro]                     0.93118   \n",
       "                          operation [GW$_{el}$*h/a]             714.802806   \n",
       "                                    [GW$_{el}$*h]               714.802806   \n",
       "                          opexCap   [1e9 Euro/a]                   0.01583   \n",
       "SuperExpensiveElectricity TAC       [1e9 Euro/a]      77124000069427.03125   \n",
       "                          capacity  [GW$_{el}$]                   0.345232   \n",
       "                          capexCap  [1e9 Euro/a]         3516269261.715186   \n",
       "                          invest    [1e9 Euro]          34523249935.802605   \n",
       "                          operation [GW$_{el}$*h/a]             770.859606   \n",
       "                                    [GW$_{el}$*h]               770.859606   \n",
       "                          opexCap   [1e9 Euro/a]        34523249935.802605   \n",
       "                          opexOp    [1e9 Euro/a]     77085960550229.515625   \n",
       "electricity_demand        operation [GW$_{el}$*h/a]            1499.517369   \n",
       "                                    [GW$_{el}$*h]              1499.517369   \n",
       "\n",
       "                                                                  NER.6_1  \\\n",
       "Component                 Property  Unit                                    \n",
       "Onshore                   TAC       [1e9 Euro/a]              1601.964777   \n",
       "                          capacity  [GW$_{el}$]              11175.745042   \n",
       "                          capexCap  [1e9 Euro/a]              1286.249979   \n",
       "                          invest    [1e9 Euro]               12628.591898   \n",
       "                          operation [GW$_{el}$*h/a]            315.627117   \n",
       "                                    [GW$_{el}$*h]              315.627117   \n",
       "                          opexCap   [1e9 Euro/a]               315.714797   \n",
       "PV                        TAC       [1e9 Euro/a]                28.917766   \n",
       "                          capacity  [GW$_{el}$]                540.685801   \n",
       "                          capexCap  [1e9 Euro/a]                24.781519   \n",
       "                          invest    [1e9 Euro]                 243.308611   \n",
       "                          operation [GW$_{el}$*h/a]            3221.81059   \n",
       "                                    [GW$_{el}$*h]              3221.81059   \n",
       "                          opexCap   [1e9 Euro/a]                 4.136246   \n",
       "SuperExpensiveElectricity TAC       [1e9 Euro/a]     266752357459941.8125   \n",
       "                          capacity  [GW$_{el}$]                    1.4282   \n",
       "                          capexCap  [1e9 Euro/a]       14546534534.741001   \n",
       "                          invest    [1e9 Euro]        142820020329.639008   \n",
       "                          operation [GW$_{el}$*h/a]           2665.949909   \n",
       "                                    [GW$_{el}$*h]             2665.949909   \n",
       "                          opexCap   [1e9 Euro/a]      142820020329.639008   \n",
       "                          opexOp    [1e9 Euro/a]     266594990905077.4375   \n",
       "electricity_demand        operation [GW$_{el}$*h/a]           6203.387616   \n",
       "                                    [GW$_{el}$*h]             6203.387616   \n",
       "\n",
       "                                                                   NER.7_1  \\\n",
       "Component                 Property  Unit                                     \n",
       "Onshore                   TAC       [1e9 Euro/a]                 31.251535   \n",
       "                          capacity  [GW$_{el}$]                 218.019268   \n",
       "                          capexCap  [1e9 Euro/a]                 25.092491   \n",
       "                          invest    [1e9 Euro]                  246.361772   \n",
       "                          operation [GW$_{el}$*h/a]             118.199103   \n",
       "                                    [GW$_{el}$*h]               118.199103   \n",
       "                          opexCap   [1e9 Euro/a]                  6.159044   \n",
       "PV                        TAC       [1e9 Euro/a]                 25.055715   \n",
       "                          capacity  [GW$_{el}$]                 468.475664   \n",
       "                          capexCap  [1e9 Euro/a]                 21.471877   \n",
       "                          invest    [1e9 Euro]                  210.814049   \n",
       "                          operation [GW$_{el}$*h/a]            2510.503878   \n",
       "                                    [GW$_{el}$*h]              2510.503878   \n",
       "                          opexCap   [1e9 Euro/a]                  3.583839   \n",
       "SuperExpensiveElectricity TAC       [1e9 Euro/a]     208678156307998.09375   \n",
       "                          capacity  [GW$_{el}$]                   1.085366   \n",
       "                          capexCap  [1e9 Euro/a]        11054695695.236794   \n",
       "                          invest    [1e9 Euro]         108536631880.330002   \n",
       "                          operation [GW$_{el}$*h/a]             2085.58565   \n",
       "                                    [GW$_{el}$*h]               2085.58565   \n",
       "                          opexCap   [1e9 Euro/a]       108536631880.330002   \n",
       "                          opexOp    [1e9 Euro/a]     208558564980422.53125   \n",
       "electricity_demand        operation [GW$_{el}$*h/a]            4714.288631   \n",
       "                                    [GW$_{el}$*h]              4714.288631   \n",
       "\n",
       "                                                                  NER.8_1  \n",
       "Component                 Property  Unit                                   \n",
       "Onshore                   TAC       [1e9 Euro/a]               141.171098  \n",
       "                          capacity  [GW$_{el}$]                984.848248  \n",
       "                          capexCap  [1e9 Euro/a]               113.349135  \n",
       "                          invest    [1e9 Euro]                 1112.87852  \n",
       "                          operation [GW$_{el}$*h/a]            119.701309  \n",
       "                                    [GW$_{el}$*h]              119.701309  \n",
       "                          opexCap   [1e9 Euro/a]                27.821963  \n",
       "PV                        TAC       [1e9 Euro/a]                39.056573  \n",
       "                          capacity  [GW$_{el}$]                730.254699  \n",
       "                          capexCap  [1e9 Euro/a]                33.470124  \n",
       "                          invest    [1e9 Euro]                 328.614614  \n",
       "                          operation [GW$_{el}$*h/a]           3423.780264  \n",
       "                                    [GW$_{el}$*h]             3423.780264  \n",
       "                          opexCap   [1e9 Euro/a]                 5.586448  \n",
       "SuperExpensiveElectricity TAC       [1e9 Euro/a]        299014312828926.5  \n",
       "                          capacity  [GW$_{el}$]                  1.503849  \n",
       "                          capexCap  [1e9 Euro/a]       15317033104.414576  \n",
       "                          invest    [1e9 Euro]        150384888863.923004  \n",
       "                          operation [GW$_{el}$*h/a]           2988.486109  \n",
       "                                    [GW$_{el}$*h]             2988.486109  \n",
       "                          opexCap   [1e9 Euro/a]      150384888863.923004  \n",
       "                          opexOp    [1e9 Euro/a]     298848610906958.1875  \n",
       "electricity_demand        operation [GW$_{el}$*h/a]           6531.967682  \n",
       "                                    [GW$_{el}$*h]             6531.967682  "
      ]
     },
     "execution_count": 22,
     "metadata": {},
     "output_type": "execute_result"
    }
   ],
   "source": [
    "esM.getOptimizationSummary(\"SourceSinkModel\", outputLevel=2)"
   ]
  },
  {
   "cell_type": "markdown",
   "metadata": {},
   "source": [
    "## Plots"
   ]
  },
  {
   "cell_type": "code",
   "execution_count": 23,
   "metadata": {},
   "outputs": [
    {
     "data": {
      "text/plain": [
       "(<Figure size 600x600 with 1 Axes>, <AxesSubplot:>)"
      ]
     },
     "execution_count": 23,
     "metadata": {},
     "output_type": "execute_result"
    },
    {
     "data": {
      "image/png": "[encoded data removed]",
      "text/plain": [
       "<Figure size 600x600 with 1 Axes>"
      ]
     },
     "metadata": {},
     "output_type": "display_data"
    }
   ],
   "source": [
    "## Show GID_1 Regions in Niger\n",
    "fn.plotLocations(path_to_regions, plotLocNames=True, indexColumn=\"GID_1\")"
   ]
  },
  {
   "cell_type": "markdown",
   "metadata": {},
   "source": [
    "#### 1) Wind Onshore installed capacity"
   ]
  },
  {
   "cell_type": "code",
   "execution_count": 24,
   "metadata": {},
   "outputs": [
    {
     "data": {
      "text/plain": [
       "(<Figure size 600x600 with 2 Axes>, <AxesSubplot:>)"
      ]
     },
     "execution_count": 24,
     "metadata": {},
     "output_type": "execute_result"
    },
    {
     "data": {
      "image/png": "[encoded data removed]",
      "text/plain": [
       "<Figure size 600x600 with 2 Axes>"
      ]
     },
     "metadata": {},
     "output_type": "display_data"
    }
   ],
   "source": [
    "fn.plotLocationalColorMap(\n",
    "    esM, \"Onshore\", path_to_regions, \"GID_1\", perArea=False\n",
    ")"
   ]
  },
  {
   "cell_type": "markdown",
   "metadata": {},
   "source": [
    "#### 2. PV installed capacity"
   ]
  },
  {
   "cell_type": "code",
   "execution_count": 25,
   "metadata": {},
   "outputs": [
    {
     "data": {
      "text/plain": [
       "(<Figure size 600x600 with 2 Axes>, <AxesSubplot:>)"
      ]
     },
     "execution_count": 25,
     "metadata": {},
     "output_type": "execute_result"
    },
    {
     "data": {
      "image/png": "[encoded data removed]",
      "text/plain": [
       "<Figure size 600x600 with 2 Axes>"
      ]
     },
     "metadata": {},
     "output_type": "display_data"
    }
   ],
   "source": [
    "fn.plotLocationalColorMap(\n",
    "    esM, \"PV\", path_to_regions, \"GID_1\", perArea=False\n",
    ")"
   ]
  }
 ],
 "metadata": {
  "kernelspec": {
   "display_name": "Python 3.7.12 ('GradSchoolESM': conda)",
   "language": "python",
   "name": "python3"
  },
  "language_info": {
   "codemirror_mode": {
    "name": "ipython",
    "version": 3
   },
   "file_extension": ".py",
   "mimetype": "text/x-python",
   "name": "python",
   "nbconvert_exporter": "python",
   "pygments_lexer": "ipython3",
   "version": "3.7.12"
  },
  "orig_nbformat": 4,
  "vscode": {
   "interpreter": {
    "hash": "defe49f51b51adc37815d90a4d184ba112c3830d9d945089da1a3edcf54b815e"
   }
  }
 },
 "nbformat": 4,
 "nbformat_minor": 2
}
