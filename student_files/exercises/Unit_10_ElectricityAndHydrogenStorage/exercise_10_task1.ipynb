{
 "cells": [
  {
   "cell_type": "markdown",
   "metadata": {},
   "source": [
    "Exercise 10 task 2: (task 1 is in the exercise slides)\n",
    "Below there is the base code for a renewable energy system in Niger. Add Batteries!"
   ]
  },
  {
   "cell_type": "code",
   "execution_count": null,
   "metadata": {},
   "outputs": [],
   "source": [
    "import FINE as fn\n",
    "import geopandas as gpd\n",
    "import pandas as pd\n",
    "from os.path import dirname, abspath, join\n",
    "\n",
    "\n",
    "#general data\n",
    "path_to_data = join(dirname(abspath(\"\")), \"Unit_10_ElectricityAndHydrogenStorage\\data\")\n",
    "path_to_regions = join(path_to_data, \"region_shape_NER.shp\")\n",
    "path_to_transmissions = join(path_to_data, \"transmissions.shp\")\n",
    "\n",
    "\n",
    "locations_shape = gpd.read_file(path_to_regions)\n",
    "locations = locations_shape.GID_1.to_list() #will be [\"NER.1_1\", \"NER.2_1\", ... \"NER.8_1\"]\n",
    "\n",
    "commodities = {\"electricity\", \"hydrogen_gas\"}\n",
    "commodityUnitsDict = {\n",
    "                \"electricity\": r\"GW$_{el}$\",\n",
    "                \"hydrogen_gas\": r\"GW$_{H_{2},LHV}$\",\n",
    "            }\n",
    "\n",
    "#Set up esm Model\n",
    "\n",
    "esM = fn.EnergySystemModel(\n",
    "    locations=set(locations),\n",
    "    commodities=commodities,\n",
    "    numberOfTimeSteps=8760, #hours per year\n",
    "    commodityUnitsDict=commodityUnitsDict,\n",
    "    hoursPerTimeStep=1, #time step is one hour\n",
    "    costUnit=\"1e9 Euro\",\n",
    "    lengthUnit=\"km\",\n",
    "    verboseLogLevel=0, #what is printed, just keep it\n",
    ")\n",
    "\n",
    "#add PV\n",
    "pv_time_series=pd.read_csv(join(path_to_data, \"solar_ts_NER.csv\"), index_col=[0]).reset_index(drop=True) #capacity factor [1]\n",
    "pv_capacity_max=pd.read_csv(join(path_to_data, \"solar_cap_NER.csv\"), index_col=[0])['capacity_kW']/1E6 #capacity [GW]\n",
    "\n",
    "esM.add(\n",
    "    fn.Source(\n",
    "        esM=esM, \n",
    "        name=\"PV\", \n",
    "        commodity=\"electricity\", \n",
    "        hasCapacityVariable=True,\n",
    "        operationRateMax=pv_time_series,\n",
    "        capacityMax=pv_capacity_max,\n",
    "        investPerCapacity=0.450, #1e9EUR/GW, 2030\n",
    "        opexPerCapacity=0.017 * 0.450, #1e9EUR/a\n",
    "        interestRate=0.08,  #1\n",
    "        economicLifetime=20, #a\n",
    "        ),\n",
    ")\n",
    "\n",
    "#add Wind Onshore\n",
    "onshore_time_series=pd.read_csv(join(path_to_data, \"onshore_ts_NER.csv\"), index_col=[0]).reset_index(drop=True) #capacity factor [1]\n",
    "onshore_capacity_max=pd.read_csv(join(path_to_data, \"onshore_cap_NER.csv\"), index_col=[0])['capacity_kW']/1E6 #capacity [GW]\n",
    "\n",
    "esM.add(\n",
    "    fn.Source(\n",
    "        esM=esM, \n",
    "        name=\"Onshore\", \n",
    "        commodity=\"electricity\", \n",
    "        hasCapacityVariable=True,\n",
    "        operationRateMax=onshore_time_series,\n",
    "        capacityMax=onshore_capacity_max,\n",
    "        investPerCapacity=1.130, #1e9EUR/GW, 2030\n",
    "        opexPerCapacity=0.025 * 1.130, #1e9EUR/a\n",
    "        interestRate=0.08, #1\n",
    "        economicLifetime=20, #y\n",
    "        ),\n",
    ")\n",
    "\n",
    "#add Demands\n",
    "electricity_demand_operationRateFix=pd.read_csv(join(path_to_data, \"elec_demand_NER.csv\"), index_col=[0]) #elec demand GW\n",
    "\n",
    "esM.add(\n",
    "    fn.Sink(\n",
    "        esM=esM, \n",
    "        name=\"electricity_demand\", \n",
    "        commodity=\"electricity\",\n",
    "        hasCapacityVariable=False, \n",
    "        operationRateFix=electricity_demand_operationRateFix, #GW\n",
    "    ),\n",
    ")\n",
    "        \n",
    "## Model should be running by now, but adding storages might help:\n",
    "\n",
    "esM.add(\n",
    "    fn.Storage(\n",
    "        esM= esM,\n",
    "        name= \"Batteries\", \n",
    "        commodity=\"\",\n",
    "        hasCapacityVariable= True, \n",
    "        chargeEfficiency=???, #1\n",
    "        dischargeEfficiency=???, #1\n",
    "        cyclicLifetime=10000, #1\n",
    "        selfDischarge=???, #1\n",
    "        chargeRate=???, #C-Rate: 1/h\n",
    "        dischargeRate=???, #C-Rate: 1/h\n",
    "        doPreciseTsaModeling= False,\n",
    "        investPerCapacity=???, #1e9EUR/GW, 2030\n",
    "        opexPerCapacity=???, #1e9EUR/a\n",
    "        interestRate=???, #1\n",
    "        economicLifetime=???    , #a\n",
    "    ),\n",
    ")\n",
    "\n",
    "#temporal aggregation \n",
    "esM.aggregateTemporally(numberOfTypicalPeriods=30)\n",
    "#RUN the model:\n",
    "print('Optimize')\n",
    "esM.optimize(\n",
    "    solver=\"glpk\",\n",
    "    timeSeriesAggregation=True,\n",
    ")\n",
    "\n",
    "print('Optimization done!')"
   ]
  },
  {
   "cell_type": "markdown",
   "metadata": {},
   "source": [
    "Plot the results"
   ]
  },
  {
   "cell_type": "code",
   "execution_count": null,
   "metadata": {},
   "outputs": [],
   "source": [
    "fig, ax = fn.plotLocationalColorMap(\n",
    "    esM, \"PV\", path_to_regions, \"GID_1\", perArea=False\n",
    ")"
   ]
  },
  {
   "cell_type": "code",
   "execution_count": null,
   "metadata": {},
   "outputs": [],
   "source": [
    "fig, ax = fn.plotLocationalColorMap(\n",
    "    esM, \"Onshore\", path_to_regions, \"GID_1\", perArea=False\n",
    ")"
   ]
  },
  {
   "cell_type": "code",
   "execution_count": null,
   "metadata": {},
   "outputs": [],
   "source": [
    "fig, ax = fn.plotLocationalColorMap(\n",
    "    esM, \"Batteries\", path_to_regions, \"GID_1\", perArea=False\n",
    ")"
   ]
  },
  {
   "cell_type": "code",
   "execution_count": null,
   "metadata": {},
   "outputs": [],
   "source": [
    "fig, ax = fn.plotOperationColorMap(\n",
    "    esM,\n",
    "    \"Batteries\",\n",
    "    \"NER.1_1\",\n",
    "    variableName=\"stateOfChargeOperationVariablesOptimum\",\n",
    ")"
   ]
  },
  {
   "cell_type": "code",
   "execution_count": null,
   "metadata": {},
   "outputs": [],
   "source": []
  }
 ],
 "metadata": {
  "kernelspec": {
   "display_name": "Python 3.7.12 ('GradSchoolESM')",
   "language": "python",
   "name": "python3"
  },
  "language_info": {
   "codemirror_mode": {
    "name": "ipython",
    "version": 3
   },
   "file_extension": ".py",
   "mimetype": "text/x-python",
   "name": "python",
   "nbconvert_exporter": "python",
   "pygments_lexer": "ipython3",
   "version": "3.7.12"
  },
  "orig_nbformat": 4,
  "vscode": {
   "interpreter": {
    "hash": "d159cd70c5f3fc1b85c388030ab727faac4c0adc937c179ffc2e4982dc85e772"
   }
  }
 },
 "nbformat": 4,
 "nbformat_minor": 2
}
