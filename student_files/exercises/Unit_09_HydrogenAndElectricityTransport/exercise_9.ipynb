{
 "cells": [
  {
   "cell_type": "markdown",
   "id": "23200da9",
   "metadata": {},
   "source": [
    "### Unit 09: Hydrogen and Electricity Transport\n",
    "\n",
    "#### See the exercises below"
   ]
  },
  {
   "cell_type": "markdown",
   "id": "efdf0d79",
   "metadata": {},
   "source": [
    "#### 1. Import FINE and further modules to run the model "
   ]
  },
  {
   "cell_type": "code",
   "execution_count": 1,
   "id": "ad982f5b",
   "metadata": {},
   "outputs": [],
   "source": [
    "import FINE as fn\n",
    "import geopandas as gpd\n",
    "import pandas as pd\n",
    "from os.path import dirname, abspath, join\n",
    "import matplotlib.pyplot as plt\n",
    "import os\n",
    "\n",
    "%matplotlib inline\n",
    "%load_ext autoreload\n",
    "%autoreload 2"
   ]
  },
  {
   "cell_type": "markdown",
   "id": "5874c76e",
   "metadata": {},
   "source": [
    "#### 2. Set paths as input data for the model "
   ]
  },
  {
   "cell_type": "code",
   "execution_count": 2,
   "id": "527386ea",
   "metadata": {},
   "outputs": [],
   "source": [
    "#set paths\n",
    "cwd = os.getcwd()\n",
    "data_dir = join(cwd, \"data\")\n",
    "\n",
    "path_to_regions = join(data_dir, \"regions\", \"region_shape_NER.shp\")\n",
    "\n",
    "path_to_pv_ts = join(data_dir, \"sources\", \"solar_ts_NER.csv\")\n",
    "path_to_onshore_ts = join(data_dir, \"sources\", \"onshore_ts_NER.csv\")\n",
    "\n",
    "path_to_pv_cap = join(data_dir, \"sources\", \"solar_cap_NER.csv\")\n",
    "path_to_onshore_cap = join(data_dir, \"sources\", \"onshore_cap_NER.csv\")\n",
    "\n",
    "path_to_el_dem = join(data_dir, \"sinks\", \"electricity_dem_NER.xlsx\")\n",
    "path_to_h2_dem = join(data_dir, \"sinks\", \"hydrogen_dem_NER.xlsx\")\n",
    "\n",
    "path_to_transmission_shp = join(data_dir, \"transmission\", \"transmissions_NER.shp\")\n",
    "path_to_incidence_matrix = join(data_dir, \"transmission\", \"incidence_matrix_NER.csv\")\n",
    "path_to_distance_matrix = join(data_dir, \"transmission\", \"euclidean_distance_matrix_NER.csv\")"
   ]
  },
  {
   "cell_type": "markdown",
   "id": "9e4c5fcf",
   "metadata": {},
   "source": [
    "#### 2.1 Set up the regions and the commodities of the model"
   ]
  },
  {
   "cell_type": "code",
   "execution_count": 3,
   "id": "dbf6bad2",
   "metadata": {},
   "outputs": [],
   "source": [
    "locations_shape = gpd.read_file(path_to_regions)\n",
    "locations = locations_shape.GID_1.to_list() #will be [\"NER.1_1\", \"NER.2_1\", ... \"NER.8_1\"]\n",
    "\n",
    "commodities = {\"electricity\", \"hydrogen_gas\"}\n",
    "commodityUnitsDict = {\n",
    "                \"electricity\": r\"GW$_{el}$\",\n",
    "                \"hydrogen_gas\": r\"GW$_{H_{2},LHV}$\",\n",
    "            }"
   ]
  },
  {
   "cell_type": "markdown",
   "id": "f642cdfe",
   "metadata": {},
   "source": [
    "#### 3 Set up the energy system model class"
   ]
  },
  {
   "cell_type": "code",
   "execution_count": 4,
   "id": "9728754c",
   "metadata": {},
   "outputs": [],
   "source": [
    "#Set up esm Model\n",
    "\n",
    "esM = fn.EnergySystemModel(\n",
    "    locations=set(locations),\n",
    "    commodities=commodities,\n",
    "    numberOfTimeSteps=8760, #hours per year\n",
    "    commodityUnitsDict=commodityUnitsDict,\n",
    "    hoursPerTimeStep=1, #time step is one hour\n",
    "    costUnit=\"1e9 Euro\",\n",
    "    lengthUnit=\"km\",\n",
    "    verboseLogLevel=0, #what is printed, just keep it\n",
    ")\n"
   ]
  },
  {
   "cell_type": "markdown",
   "id": "48b83a82",
   "metadata": {},
   "source": [
    "#### 4 Add the electricity \"sources\" to the model"
   ]
  },
  {
   "cell_type": "code",
   "execution_count": 50,
   "id": "7db00f73",
   "metadata": {},
   "outputs": [
    {
     "name": "stderr",
     "output_type": "stream",
     "text": [
      " /storage/internal/home/s-ishmam/repos/fine/FINE/component.py:475: UserWarning:Component identifier PV already exists. Data will be overwritten.\n",
      " /storage/internal/home/s-ishmam/repos/fine/FINE/component.py:475: UserWarning:Component identifier Onshore already exists. Data will be overwritten.\n",
      " /storage/internal/home/s-ishmam/repos/fine/FINE/component.py:475: UserWarning:Component identifier electricity_demand already exists. Data will be overwritten.\n",
      " /storage/internal/home/s-ishmam/repos/fine/FINE/component.py:475: UserWarning:Component identifier hydrogen_demand already exists. Data will be overwritten.\n",
      " /storage/internal/home/s-ishmam/repos/fine/FINE/component.py:475: UserWarning:Component identifier electrolyzer already exists. Data will be overwritten.\n",
      " /storage/internal/home/s-ishmam/repos/fine/FINE/component.py:475: UserWarning:Component identifier Batteries already exists. Data will be overwritten.\n",
      " /storage/internal/home/s-ishmam/repos/fine/FINE/component.py:475: UserWarning:Component identifier hydrogen_storage already exists. Data will be overwritten.\n"
     ]
    }
   ],
   "source": [
    "#add PV\n",
    "pv_time_series=pd.read_csv(path_to_pv_ts, index_col=[0]).reset_index(drop=True) #capacity factor [1]\n",
    "pv_capacity_max=pd.read_csv(path_to_pv_cap, index_col=[0])['capacity_kW'] / 1e6 #capacity [GW]\n",
    "\n",
    "esM.add(\n",
    "    fn.Source(\n",
    "        esM=esM, \n",
    "        name=\"PV\", \n",
    "        commodity=\"electricity\", \n",
    "        hasCapacityVariable=True,\n",
    "        operationRateMax=pv_time_series,\n",
    "        capacityMax=pv_capacity_max,\n",
    "        investPerCapacity=0.450, #1e9EUR/GW, 2030\n",
    "        opexPerCapacity=0.017 * 0.450, #1e9EUR/a\n",
    "        interestRate=0.08,  #1\n",
    "        economicLifetime=20, #a\n",
    "        ),\n",
    ")\n",
    "\n",
    "\n",
    "#add Wind Onshore\n",
    "onshore_time_series=pd.read_csv(path_to_onshore_ts, index_col=[0]).reset_index(drop=True) #capacity factor [1]\n",
    "onshore_capacity_max=pd.read_csv(path_to_onshore_cap, index_col=[0])['capacity_kW'] / 1e6 #capacity [GW]\n",
    "\n",
    "esM.add(\n",
    "    fn.Source(\n",
    "        esM=esM, \n",
    "        name=\"Onshore\", \n",
    "        commodity=\"electricity\", \n",
    "        hasCapacityVariable=True,\n",
    "        operationRateMax=onshore_time_series,\n",
    "        capacityMax=onshore_capacity_max,\n",
    "        investPerCapacity=1.130, #1e9EUR/GW, 2030\n",
    "        opexPerCapacity=0.025 * 1.130, #1e9EUR/a\n",
    "        interestRate=0.08, #1\n",
    "        economicLifetime=20, #y\n",
    "        ),\n",
    ")"
   ]
  },
  {
   "cell_type": "markdown",
   "id": "160b49d2",
   "metadata": {},
   "source": [
    "#### 5 Add electrolyzer as conversion class "
   ]
  },
  {
   "cell_type": "code",
   "execution_count": null,
   "id": "e1807326",
   "metadata": {},
   "outputs": [],
   "source": [
    "esM.add(\n",
    "fn.Conversion(\n",
    "    esM=esM,\n",
    "    name=\"electrolyzer\",\n",
    "    physicalUnit=r\"GW$_{el}$\",\n",
    "    commodityConversionFactors={\"electricity\": -1, \"hydrogen_gas\": 0.7},\n",
    "    hasCapacityVariable=True,\n",
    "    investPerCapacity=0.5,\n",
    "    opexPerCapacity=0.5 * 0.025,\n",
    "    interestRate=0.08,\n",
    "    economicLifetime=10,\n",
    ")\n",
    ")\n"
   ]
  },
  {
   "cell_type": "markdown",
   "id": "123efaca",
   "metadata": {},
   "source": [
    "#### 6 Add Demand"
   ]
  },
  {
   "cell_type": "markdown",
   "id": "9399e828",
   "metadata": {},
   "source": [
    "Electricity & Hydrogen Demand"
   ]
  },
  {
   "cell_type": "code",
   "execution_count": null,
   "id": "439977f8",
   "metadata": {},
   "outputs": [],
   "source": [
    "#add Demands\n",
    "electricity_demand_operationRateFix=pd.read_excel(path_to_el_dem, index_col=[0], engine=\"openpyxl\")*3 #elec demand GW\n",
    "\n",
    "esM.add(\n",
    "    fn.Sink(\n",
    "        esM=esM, \n",
    "        name=\"electricity_demand\", \n",
    "        commodity=\"electricity\",\n",
    "        hasCapacityVariable=False, \n",
    "        operationRateFix=electricity_demand_operationRateFix, #GW\n",
    "    ),\n",
    ")\n",
    "\n",
    "#add Demands\n",
    "hydrogen_demand_operationRateFix=pd.read_excel(path_to_h2_dem, index_col=[0], engine=\"openpyxl\")*3 #elec demand GW\n",
    "\n",
    "esM.add(\n",
    "    fn.Sink(\n",
    "        esM=esM, \n",
    "        name=\"hydrogen_demand\", \n",
    "        commodity=\"hydrogen_gas\",\n",
    "        hasCapacityVariable=False, \n",
    "        operationRateFix=hydrogen_demand_operationRateFix, #GW\n",
    "    ),\n",
    ")"
   ]
  },
  {
   "cell_type": "markdown",
   "id": "55aceee7",
   "metadata": {},
   "source": [
    "#### 7 Add storage"
   ]
  },
  {
   "cell_type": "markdown",
   "id": "a199e24d",
   "metadata": {},
   "source": [
    "Batteries"
   ]
  },
  {
   "cell_type": "code",
   "execution_count": null,
   "id": "bdfb9b9d",
   "metadata": {},
   "outputs": [],
   "source": [
    "# add batteries\n",
    "esM.add(\n",
    "    fn.Storage(\n",
    "        esM= esM,\n",
    "        name= \"Batteries\", \n",
    "        commodity=\"electricity\",\n",
    "        hasCapacityVariable= True, \n",
    "        chargeEfficiency=0.95, #1\n",
    "        dischargeEfficiency=0.95, #1\n",
    "        cyclicLifetime=10000, #1\n",
    "        selfDischarge=4.230E-05, #1\n",
    "        chargeRate=1, #C-Rate: 1/h\n",
    "        dischargeRate=1, #C-Rate: 1/h\n",
    "        doPreciseTsaModeling= False,\n",
    "        investPerCapacity=0.17511, #1e9EUR/GW, 2030\n",
    "        opexPerCapacity= 0.02 * 0.17511, #1e9EUR/a\n",
    "        interestRate=0.08, #1\n",
    "        economicLifetime=20, #a\n",
    "    ),\n",
    ")"
   ]
  },
  {
   "cell_type": "markdown",
   "id": "1e07b04d",
   "metadata": {},
   "source": [
    "Hydrogen"
   ]
  },
  {
   "cell_type": "code",
   "execution_count": null,
   "id": "d77f286e",
   "metadata": {},
   "outputs": [],
   "source": [
    "#add hydrogen storage\n",
    "esM.add(\n",
    "    fn.Storage(\n",
    "        esM=esM,\n",
    "        name=f\"hydrogen_storage\",\n",
    "        commodity=f\"hydrogen_gas\",\n",
    "        hasCapacityVariable=True,\n",
    "        chargeEfficiency=1,\n",
    "        cyclicLifetime=10000,\n",
    "        dischargeEfficiency=1,\n",
    "        selfDischarge=0, # 1% per day\n",
    "        chargeRate=1,\n",
    "        dischargeRate=1,\n",
    "        doPreciseTsaModeling=False,\n",
    "        investPerCapacity=0.0007, #0.70EUR/kWh = 0.0007 BEUR/GWh\n",
    "        opexPerCapacity=0.02 * 0.0007,\n",
    "        interestRate=0.08,\n",
    "        economicLifetime=40,\n",
    "    )\n",
    ")"
   ]
  },
  {
   "cell_type": "markdown",
   "id": "9195c60a",
   "metadata": {},
   "source": [
    "#### Task 1: Load the distance and incidence matrices"
   ]
  },
  {
   "cell_type": "code",
   "execution_count": 46,
   "id": "e11b89d1",
   "metadata": {},
   "outputs": [],
   "source": [
    "# distance_matrix = ...\n",
    "# incidence_matrix = ...\n",
    "\n"
   ]
  },
  {
   "cell_type": "markdown",
   "id": "f8f02162",
   "metadata": {},
   "source": [
    "#### Task 2 (a) : Add hydrogen pipelines as a transmission component to the model"
   ]
  },
  {
   "cell_type": "code",
   "execution_count": 47,
   "id": "41f92ba9",
   "metadata": {},
   "outputs": [],
   "source": [
    "# esM.add(\n",
    "# fn.Transmission(\n",
    "#    name=\"hydrogen_pipelines\"\n",
    "#    ...\n",
    "#     )\n",
    "# )"
   ]
  },
  {
   "cell_type": "markdown",
   "id": "852e6195",
   "metadata": {},
   "source": [
    "#### Task 2 (b) : Add electricity grid as a transmission component to the model"
   ]
  },
  {
   "cell_type": "code",
   "execution_count": 49,
   "id": "4f9633ff",
   "metadata": {},
   "outputs": [],
   "source": [
    "# esM.add(\n",
    "# fn.Transmission(\n",
    "#    name=\"electricity_grid\",\n",
    "#     ...\n",
    "#     )\n",
    "# )"
   ]
  },
  {
   "cell_type": "code",
   "execution_count": 18,
   "id": "621dbc13",
   "metadata": {},
   "outputs": [
    {
     "name": "stdout",
     "output_type": "stream",
     "text": [
      "\n",
      "Clustering time series data with 7 typical periods and 24 time steps per period \n",
      "further clustered to 8 segments per period...\n",
      "\t\t(0.6410 sec)\n",
      "\n"
     ]
    }
   ],
   "source": [
    "# Temporal Aggregation\n",
    "esM.aggregateTemporally(numberOfTypicalPeriods=7, \n",
    "                        segmentation=True,\n",
    "                        numberOfSegmentsPerPeriod=8)"
   ]
  },
  {
   "cell_type": "code",
   "execution_count": 34,
   "id": "fc30fa95",
   "metadata": {},
   "outputs": [
    {
     "name": "stdout",
     "output_type": "stream",
     "text": [
      "Optimize\n",
      "Time series aggregation specifications:\n",
      "Number of typical periods:7, number of time steps per period:24, number of segments per period:8\n",
      "\n",
      "Declaring sets, variables and constraints for SourceSinkModel\n",
      "\tdeclaring sets... \n",
      "\tdeclaring variables... \n",
      "\tdeclaring constraints... \n",
      "\t\t(0.1091 sec)\n",
      "\n",
      "Declaring sets, variables and constraints for ConversionModel\n",
      "\tdeclaring sets... \n",
      "\tdeclaring variables... \n",
      "\tdeclaring constraints... \n",
      "\t\t(0.0173 sec)\n",
      "\n",
      "Declaring sets, variables and constraints for TransmissionModel\n",
      "\tdeclaring sets... \n",
      "\tdeclaring variables... \n",
      "\tdeclaring constraints... \n",
      "\t\t(0.1226 sec)\n",
      "\n",
      "Declaring sets, variables and constraints for StorageModel\n",
      "\tdeclaring sets... \n",
      "\tdeclaring variables... \n",
      "\tdeclaring constraints... \n",
      "\t\t(1.0601 sec)\n",
      "\n",
      "Declaring shared potential constraint...\n",
      "\t\t(0.0003 sec)\n",
      "\n",
      "Declaring linked component quantity constraint...\n",
      "\t\t(0.0000 sec)\n",
      "\n",
      "Declaring commodity balances...\n",
      "\t\t(0.0933 sec)\n",
      "\n",
      "\t\t(0.0004 sec)\n",
      "\n",
      "Declaring objective function...\n",
      "\t\t(0.0446 sec)\n",
      "\n",
      "GLPSOL: GLPK LP/MIP Solver, v4.65\n",
      "Parameter(s) specified in the command line:\n",
      " --write /tmp/tmpp3jdb0wr.glpk.raw --wglp /tmp/tmp5ber6jch.glpk.glp --cpxlp\n",
      " /tmp/tmpro_2j_vv.pyomo.lp\n",
      "Reading problem data from '/tmp/tmpro_2j_vv.pyomo.lp'...\n",
      "27873 rows, 13753 columns, 78843 non-zeros\n",
      "177538 lines were read\n",
      "Writing problem data to '/tmp/tmp5ber6jch.glpk.glp'...\n",
      "143021 lines were written\n",
      "GLPK Simplex Optimizer, v4.65\n",
      "27873 rows, 13753 columns, 78843 non-zeros\n",
      "Preprocessing...\n",
      "26230 rows, 12334 columns, 75558 non-zeros\n",
      "Scaling...\n",
      " A: min|aij| =  1.265e-04  max|aij| =  5.000e+02  ratio =  3.954e+06\n",
      "GM: min|aij| =  2.730e-01  max|aij| =  3.663e+00  ratio =  1.342e+01\n",
      "EQ: min|aij| =  7.792e-02  max|aij| =  1.000e+00  ratio =  1.283e+01\n",
      "Constructing initial basis...\n",
      "Size of triangular part is 26080\n",
      "      0: obj =   0.000000000e+00 inf =   2.250e+02 (1666)\n",
      "   4801: obj =   2.389898388e+00 inf =   3.738e-12 (0) 44\n",
      "Perturbing LP to avoid instability [5408]...\n",
      "*  8756: obj =   4.663527462e-01 inf =   3.656e-06 (1473) 35\n",
      "* 12470: obj =   4.198433269e-01 inf =   6.426e-06 (1199) 35\n",
      "* 16377: obj =   4.147158911e-01 inf =   7.537e-06 (435) 35\n",
      "Removing LP perturbation [18553]...\n",
      "* 18553: obj =   4.146512639e-01 inf =   6.804e-12 (0) 16\n",
      "OPTIMAL LP SOLUTION FOUND\n",
      "Time used:   22.2 secs\n",
      "Memory used: 32.8 Mb (34400487 bytes)\n",
      "Writing basic solution to '/tmp/tmpp3jdb0wr.glpk.raw'...\n",
      "41635 lines were written\n",
      "\n",
      "Status: ok\n",
      "Termination condition: optimal\n",
      "Statistics: \n",
      "  Branch and bound: \n",
      "    Number of bounded subproblems: 0\n",
      "    Number of created subproblems: 0\n",
      "Error rc: 0\n",
      "Time: 22.33135151863098\n",
      "\n",
      "\n",
      "Name: unknown\n",
      "Lower bound: 0.414651263889841\n",
      "Upper bound: 0.414651263889841\n",
      "Number of objectives: 1\n",
      "Number of constraints: 27873\n",
      "Number of variables: 13753\n",
      "Number of nonzeros: 78843\n",
      "Sense: minimize\n",
      "\n",
      "Solve time: 24.230462551116943 sec.\n",
      "\n",
      "Processing optimization output...\n",
      "for SourceSinkModel ...    (0.4307sec)\n",
      "for ConversionModel ...    (0.3043sec)\n",
      "for TransmissionModel ...  (1.0414sec)\n"
     ]
    },
    {
     "name": "stderr",
     "output_type": "stream",
     "text": [
      " /storage/internal/home/s-ishmam/repos/fine/FINE/storage.py:1771: UserWarning:Charge and discharge at the same time for component Batteries\n",
      " /storage/internal/home/s-ishmam/repos/fine/FINE/storage.py:1771: UserWarning:Charge and discharge at the same time for component hydrogen_storage\n"
     ]
    },
    {
     "name": "stdout",
     "output_type": "stream",
     "text": [
      "for StorageModel ...       (1.7062sec)\n",
      "\t\t(3.4898 sec)\n",
      "\n",
      "Optimization done!\n"
     ]
    }
   ],
   "source": [
    "#RUN the model:\n",
    "print('Optimize')\n",
    "esM.optimize(\n",
    "    timeSeriesAggregation=True,\n",
    "    optimizationSpecs=\"\",\n",
    "    solver=\"glpk\"\n",
    ")\n",
    "print('Optimization done!')"
   ]
  },
  {
   "cell_type": "markdown",
   "id": "56b00135",
   "metadata": {},
   "source": [
    "#### Task 3 (a) : Get the optimization summary of the TransmissionModel"
   ]
  },
  {
   "cell_type": "code",
   "execution_count": 52,
   "id": "6a5b035a",
   "metadata": {},
   "outputs": [],
   "source": [
    "# esM.getOptimizationSummary(.......) "
   ]
  },
  {
   "cell_type": "markdown",
   "id": "41288257",
   "metadata": {},
   "source": [
    "#### Task 3 (b) : Display the total optimal capacity of the electricity grid and the hydrogen grid"
   ]
  },
  {
   "cell_type": "code",
   "execution_count": 61,
   "id": "3af7ed5c",
   "metadata": {},
   "outputs": [],
   "source": [
    "# esM.getOptimizationSummary(.......).loc[('electricity_grid', .............)]"
   ]
  },
  {
   "cell_type": "code",
   "execution_count": 69,
   "id": "9b349e3a",
   "metadata": {},
   "outputs": [],
   "source": [
    "# esM.getOptimizationSummary(.......).loc[('hydrogen_pipelines', .............)]"
   ]
  },
  {
   "cell_type": "markdown",
   "id": "cecdc93c",
   "metadata": {},
   "source": [
    "#### Task 3 (c) : Display the total annual cost (TAC) of the electricity grid and the hydrogen grid"
   ]
  },
  {
   "cell_type": "code",
   "execution_count": 62,
   "id": "af3508dc",
   "metadata": {},
   "outputs": [],
   "source": [
    "# esM.getOptimizationSummary(.......).loc[('electricity_grid', .............)]"
   ]
  },
  {
   "cell_type": "code",
   "execution_count": 70,
   "id": "a296271c",
   "metadata": {},
   "outputs": [],
   "source": [
    "# esM.getOptimizationSummary(.......).loc[('hydrogen_pipelines', .............)]"
   ]
  },
  {
   "cell_type": "markdown",
   "id": "5d0079e5",
   "metadata": {},
   "source": [
    "#### Task 4 (a) : Plot the optimal capacities of the electricity grid"
   ]
  },
  {
   "cell_type": "code",
   "execution_count": 67,
   "id": "0e1fd0b0",
   "metadata": {},
   "outputs": [],
   "source": [
    "# fig, ax = fn.plotLocations(path_to_regions, indexColumn=\"index\", crs='epsg:3857')\n",
    "# fig, ax = fn.plotTransmission(\n",
    "#     esM, \"electricity_grid\", .....\n",
    "# )"
   ]
  },
  {
   "cell_type": "markdown",
   "id": "d9f260f5",
   "metadata": {},
   "source": [
    "#### Task 4 (b) : Plot the optimal capacities of the hydrogen grid¶\n"
   ]
  },
  {
   "cell_type": "code",
   "execution_count": 68,
   "id": "5edce86b",
   "metadata": {},
   "outputs": [],
   "source": [
    "# fig, ax = fn.plotLocations(path_to_regions, indexColumn=\"index\", crs='epsg:3857')\n",
    "# fig, ax = fn.plotTransmission(\n",
    "#     esM, \"hydrogen_pipelines\", .....\n",
    "# )"
   ]
  }
 ],
 "metadata": {
  "kernelspec": {
   "display_name": "Python 3 (ipykernel)",
   "language": "python",
   "name": "python3"
  },
  "language_info": {
   "codemirror_mode": {
    "name": "ipython",
    "version": 3
   },
   "file_extension": ".py",
   "mimetype": "text/x-python",
   "name": "python",
   "nbconvert_exporter": "python",
   "pygments_lexer": "ipython3",
   "version": "3.9.7"
  }
 },
 "nbformat": 4,
 "nbformat_minor": 5
}
