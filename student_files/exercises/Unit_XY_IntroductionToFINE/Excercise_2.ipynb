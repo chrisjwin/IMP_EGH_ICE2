{
 "cells": [
  {
   "cell_type": "markdown",
   "metadata": {},
   "source": [
    "# Workflow for your first single-node energy system model \n",
    "\n",
    "In this application, FINE framework is applied, and a energy system model is optimized in terms of minimal system costs.\n",
    "\n",
    "\n",
    "All classes which are suitable for your first FINE energy system are introduced. Please run the model cell by cell and try to understand the workflow. \n",
    "Finally: Try to answer the Questions that are given in the related Power-Point sheet (Slide 7).\n",
    "\n",
    "The workflow is structures as follows:\n",
    "1. Required packages are imported and the input data path is set\n",
    "2. An energy system model instance is created\n",
    "3. Commodity sources are added to the energy system model\n",
    "7. Commodity sinks are added to the energy system model\n",
    "8. The energy system model is optimized\n",
    "9. Selected optimization results are presented\n"
   ]
  },
  {
   "cell_type": "markdown",
   "metadata": {},
   "source": [
    "# 1. Import required packages and set input data path\n",
    "\n",
    "The FINE framework is imported which provides the required classes and functions for modeling the energy system."
   ]
  },
  {
   "cell_type": "code",
   "execution_count": 15,
   "metadata": {
    "scrolled": true
   },
   "outputs": [
    {
     "name": "stdout",
     "output_type": "stream",
     "text": [
      "The autoreload extension is already loaded. To reload it, use:\n",
      "  %reload_ext autoreload\n"
     ]
    }
   ],
   "source": [
    "import FINE as fn\n",
    "from getData import getData\n",
    "\n",
    "# import pandas as pd\n",
    "import os\n",
    "\n",
    "cwd = os.getcwd()\n",
    "data = getData()\n",
    "\n",
    "%matplotlib inline\n",
    "%load_ext autoreload\n",
    "%autoreload 2"
   ]
  },
  {
   "cell_type": "markdown",
   "metadata": {},
   "source": [
    "# 2. Create an energy system model instance \n",
    "\n",
    "The structure of the energy system model is given by the considered locations, commodities, the number of time steps as well as the hours per time step.\n",
    "\n",
    "The commodities are specified by a unit (i.e. 'GW_electric', 'GW_H2lowerHeatingValue', 'Mio. t CO2/h') which can be given as an energy or mass unit per hour. Furthermore, the cost unit and length unit are specified.\n",
    "\n",
    "Your first model consist only of elecrticity as a commodity. You are simulating a full year or respectively 8760 timesteps, each with a duration of 1 hour (1 year == 8760 hours)."
   ]
  },
  {
   "cell_type": "code",
   "execution_count": 16,
   "metadata": {},
   "outputs": [],
   "source": [
    "locations = {\"Excercise_Land\"}\n",
    "commodityUnitDict = {\"electricity\": r\"GW$_{el}$\"}\n",
    "commodities = {\"electricity\"}\n",
    "numberOfTimeSteps = 8760\n",
    "hoursPerTimeStep = 1"
   ]
  },
  {
   "cell_type": "code",
   "execution_count": 17,
   "metadata": {},
   "outputs": [],
   "source": [
    "esM = fn.EnergySystemModel(\n",
    "    locations=locations,\n",
    "    commodities=commodities,\n",
    "    numberOfTimeSteps=8760,\n",
    "    commodityUnitsDict=commodityUnitDict,\n",
    "    hoursPerTimeStep=1,\n",
    "    costUnit=\"1e9 Euro\",\n",
    "    lengthUnit=\"km\",\n",
    "    verboseLogLevel=0,\n",
    ")"
   ]
  },
  {
   "cell_type": "markdown",
   "metadata": {},
   "source": [
    "# 3. Add commodity sources to the energy system model\n",
    "\n",
    "Commodity sources are added to your model to generate the desired energy. In your case, two sources are modelled. \n",
    "The first electricity source generates elecrtcity by operating a onshore wind power plant. The power plant is initailized with corrsponding paramters.\n",
    "Those parameters are no real data."
   ]
  },
  {
   "cell_type": "markdown",
   "metadata": {},
   "source": [
    "### Wind onshore\n",
    "\n",
    "An Onshore Wind Power Plant is added to the model.  The Operation Rate is limited by the "
   ]
  },
  {
   "cell_type": "code",
   "execution_count": 18,
   "metadata": {
    "scrolled": true
   },
   "outputs": [],
   "source": [
    "esM.add(\n",
    "    fn.Source(\n",
    "        esM=esM,\n",
    "        name=\"Wind (onshore)\",\n",
    "        commodity=\"electricity\",\n",
    "        hasCapacityVariable=True,\n",
    "        operationRateMax=data[\"Wind (onshore), operationRateMax\"],\n",
    "        capacityMax=data[\"Wind (onshore), capacityMax\"],\n",
    "        investPerCapacity=1.1,\n",
    "        opexPerCapacity=1.1 * 0.02,\n",
    "        interestRate=0.08,\n",
    "        economicLifetime=20,\n",
    "    )\n",
    ")"
   ]
  },
  {
   "cell_type": "markdown",
   "metadata": {},
   "source": [
    "### Magic power source\n"
   ]
  },
  {
   "cell_type": "code",
   "execution_count": 19,
   "metadata": {},
   "outputs": [],
   "source": [
    "esM.add(\n",
    "    fn.Source(\n",
    "        esM=esM,\n",
    "        name=\"Magic power source\",\n",
    "        commodity=\"electricity\",\n",
    "        hasCapacityVariable=True,\n",
    "\n",
    "        investPerCapacity=100000000000000,\n",
    "        opexPerCapacity=10000000000000 * 2,\n",
    "        interestRate=0,\n",
    "        economicLifetime=20,\n",
    "\n",
    "    )\n",
    ")    "
   ]
  },
  {
   "cell_type": "markdown",
   "metadata": {},
   "source": [
    "# 4. Add commodity storages to your energy system model \n",
    "\n",
    "To balance the gap between commodity supply and demand, commodity storages can be applied in your model. DEspite the sources and sinks, storages componets require more paramters for initialisation."
   ]
  },
  {
   "cell_type": "code",
   "execution_count": 20,
   "metadata": {},
   "outputs": [],
   "source": [
    "esM.add(\n",
    "    fn.Storage(\n",
    "        esM=esM,\n",
    "        name=\"Li-ion batteries\",\n",
    "        commodity=\"electricity\",\n",
    "        hasCapacityVariable=True,\n",
    "        chargeEfficiency=0.95,\n",
    "        cyclicLifetime=10000,\n",
    "        dischargeEfficiency=0.95,\n",
    "        selfDischarge=1 - (1 - 0.03) ** (1 / (30 * 24)),\n",
    "        chargeRate=1,\n",
    "        dischargeRate=1,\n",
    "        doPreciseTsaModeling=False,\n",
    "        investPerCapacity=0.151,\n",
    "        opexPerCapacity=0.002,\n",
    "        interestRate=0.08,\n",
    "        economicLifetime=22,\n",
    "    )\n",
    ")"
   ]
  },
  {
   "cell_type": "markdown",
   "metadata": {},
   "source": [
    "# 5. Add commodity sinks to the energy system model\n",
    "\n",
    "An electricity demand is added to your model. The demand causes  the installation of source-components. The major objective of your model is to balance demand and supply of your commidities in each timestep. "
   ]
  },
  {
   "cell_type": "markdown",
   "metadata": {},
   "source": [
    "### Electricity demand"
   ]
  },
  {
   "cell_type": "code",
   "execution_count": 21,
   "metadata": {},
   "outputs": [],
   "source": [
    "esM.add(\n",
    "    fn.Sink(\n",
    "        esM=esM,\n",
    "        name=\"Electricity demand\",\n",
    "        commodity=\"electricity\",\n",
    "        hasCapacityVariable=False,\n",
    "        operationRateFix=data[\"Electricity demand, operationRateFix\"],\n",
    "    )\n",
    ")"
   ]
  },
  {
   "cell_type": "markdown",
   "metadata": {},
   "source": [
    "# 6. Optimize energy system model"
   ]
  },
  {
   "cell_type": "markdown",
   "metadata": {},
   "source": [
    "All components are now added to the model and the model can be optimized. If the computational complexity of the optimization should be reduced, the time series data of the specified components can be clustered before the optimization and the parameter timeSeriesAggregation is set to True in the optimize call.\n",
    "\n",
    "Clustering of your timeseries will save  computational time. In this case, you only simulate 30 days (24 hours each). \n",
    "\n",
    "It is not mandatory to apply this function. However, especially if you are using your own computer, time series aggregation will help you to get results in time and, also, will protect your computer against material damage. \n"
   ]
  },
  {
   "cell_type": "code",
   "execution_count": 22,
   "metadata": {},
   "outputs": [
    {
     "name": "stdout",
     "output_type": "stream",
     "text": [
      "\n",
      "Clustering time series data with 30 typical periods and 24 time steps per period...\n",
      "\t\t(0.1609 sec)\n",
      "\n"
     ]
    },
    {
     "name": "stderr",
     "output_type": "stream",
     "text": [
      " c:\\Users\\m.stargardt\\Anaconda3\\envs\\GradSchoolESM\\lib\\site-packages\\tsam\\timeseriesaggregation.py:1070: UserWarning:Something went wrong: At least one maximal value of the aggregated time series exceeds the maximal value the input time series\n"
     ]
    }
   ],
   "source": [
    "esM.aggregateTemporally(numberOfTypicalPeriods=30)"
   ]
  },
  {
   "cell_type": "markdown",
   "metadata": {
    "scrolled": true
   },
   "source": [
    "This command will start your optimization. After the calculation is started, you can't change any input parameters anymore. "
   ]
  },
  {
   "cell_type": "code",
   "execution_count": 23,
   "metadata": {},
   "outputs": [
    {
     "name": "stdout",
     "output_type": "stream",
     "text": [
      "Time series aggregation specifications:\n",
      "Number of typical periods:30, number of time steps per period:24\n",
      "\n",
      "Declaring sets, variables and constraints for SourceSinkModel\n",
      "\tdeclaring sets... \n",
      "\tdeclaring variables... \n",
      "\tdeclaring constraints... \n",
      "\t\t(0.1780 sec)\n",
      "\n",
      "Declaring sets, variables and constraints for StorageModel\n",
      "\tdeclaring sets... \n",
      "\tdeclaring variables... \n",
      "\tdeclaring constraints... \n",
      "\t\t(0.4215 sec)\n",
      "\n",
      "Declaring shared potential constraint...\n",
      "\t\t(0.0000 sec)\n",
      "\n",
      "Declaring linked component quantity constraint...\n",
      "\t\t(0.0000 sec)\n",
      "\n",
      "Declaring commodity balances...\n",
      "\t\t(0.0527 sec)\n",
      "\n",
      "\t\t(0.0010 sec)\n",
      "\n",
      "Declaring objective function...\n",
      "\t\t(0.0540 sec)\n",
      "\n",
      "GLPSOL--GLPK LP/MIP Solver 5.0\n",
      "Parameter(s) specified in the command line:\n",
      " --write C:\\Users\\MA275~1.STA\\AppData\\Local\\Temp\\tmp8hzjk2hx.glpk.raw --wglp\n",
      " C:\\Users\\MA275~1.STA\\AppData\\Local\\Temp\\tmpo0qcpgx7.glpk.glp --cpxlp C:\\Users\\MA275~1.STA\\AppData\\Local\\Temp\\tmpjc2_5z3d.pyomo.lp\n",
      "Reading problem data from 'C:\\Users\\MA275~1.STA\\AppData\\Local\\Temp\\tmpjc2_5z3d.pyomo.lp'...\n",
      "7611 rows, 4783 columns, 19506 non-zeros\n",
      "47132 lines were read\n",
      "Writing problem data to 'C:\\Users\\MA275~1.STA\\AppData\\Local\\Temp\\tmpo0qcpgx7.glpk.glp'...\n",
      "38489 lines were written\n",
      "GLPK Simplex Optimizer 5.0\n",
      "7611 rows, 4783 columns, 19506 non-zeros\n",
      "Preprocessing...\n",
      "6783 rows, 4015 columns, 17851 non-zeros\n",
      "Scaling...\n",
      " A: min|aij| =  1.904e-03  max|aij| =  4.545e+02  ratio =  2.388e+05\n",
      "GM: min|aij| =  2.166e-01  max|aij| =  4.617e+00  ratio =  2.132e+01\n",
      "EQ: min|aij| =  4.690e-02  max|aij| =  1.000e+00  ratio =  2.132e+01\n",
      "Constructing initial basis...\n",
      "Size of triangular part is 6782\n",
      "      0: obj =   0.000000000e+00 inf =   5.465e+03 (720)\n",
      "    708: obj =   4.992714274e+14 inf =   0.000e+00 (0) 7\n",
      "*  1358: obj =   3.803186199e+01 inf =   5.500e-13 (0) 6\n",
      "OPTIMAL LP SOLUTION FOUND\n",
      "Time used:   0.3 secs\n",
      "Memory used: 8.7 Mb (9165761 bytes)\n",
      "Writing basic solution to 'C:\\Users\\MA275~1.STA\\AppData\\Local\\Temp\\tmp8hzjk2hx.glpk.raw'...\n",
      "12403 lines were written\n",
      "\n",
      "Status: ok\n",
      "Termination condition: optimal\n",
      "Statistics: \n",
      "  Branch and bound: \n",
      "    Number of bounded subproblems: 0\n",
      "    Number of created subproblems: 0\n",
      "Error rc: 0\n",
      "Time: 0.5566556453704834\n",
      "\n",
      "\n",
      "Name: unknown\n",
      "Lower bound: 38.0318619858648\n",
      "Upper bound: 38.0318619858648\n",
      "Number of objectives: 1\n",
      "Number of constraints: 7611\n",
      "Number of variables: 4783\n",
      "Number of nonzeros: 19506\n",
      "Sense: minimize\n",
      "\n",
      "Solve time: 1.3574891090393066 sec.\n",
      "\n",
      "Processing optimization output...\n",
      "for SourceSinkModel ...(0.4441sec)\n",
      "for StorageModel ...  (1.4263sec)\n",
      "\t\t(1.8703 sec)\n",
      "\n"
     ]
    }
   ],
   "source": [
    "esM.optimize(timeSeriesAggregation=True, solver=\"glpk\")"
   ]
  },
  {
   "cell_type": "markdown",
   "metadata": {},
   "source": [
    "# 7. Selected results output\n",
    "You succesfully calculated your first energy system model by application of the FINE framework. \n",
    "Please make sure that you have understodd all steps above. \n",
    "If not, please ask the supervisor in time. \n",
    "\n",
    "Once, you have done your optimization. Fine offers various options to illustrate your results. \n",
    "Following, some options are applied. \n"
   ]
  },
  {
   "cell_type": "markdown",
   "metadata": {},
   "source": [
    "### Results for Sources and Sinks"
   ]
  },
  {
   "cell_type": "code",
   "execution_count": 24,
   "metadata": {
    "tags": [
     "nbval-check-output"
    ]
   },
   "outputs": [
    {
     "data": {
      "text/html": [
       "<div>\n",
       "<style scoped>\n",
       "    .dataframe tbody tr th:only-of-type {\n",
       "        vertical-align: middle;\n",
       "    }\n",
       "\n",
       "    .dataframe tbody tr th {\n",
       "        vertical-align: top;\n",
       "    }\n",
       "\n",
       "    .dataframe thead th {\n",
       "        text-align: right;\n",
       "    }\n",
       "</style>\n",
       "<table border=\"1\" class=\"dataframe\">\n",
       "  <thead>\n",
       "    <tr style=\"text-align: right;\">\n",
       "      <th></th>\n",
       "      <th></th>\n",
       "      <th></th>\n",
       "      <th>Excercise_Land</th>\n",
       "    </tr>\n",
       "    <tr>\n",
       "      <th>Component</th>\n",
       "      <th>Property</th>\n",
       "      <th>Unit</th>\n",
       "      <th></th>\n",
       "    </tr>\n",
       "  </thead>\n",
       "  <tbody>\n",
       "    <tr>\n",
       "      <th rowspan=\"2\" valign=\"top\">Electricity demand</th>\n",
       "      <th rowspan=\"2\" valign=\"top\">operation</th>\n",
       "      <th>[GW$_{el}$*h/a]</th>\n",
       "      <td>42179.243155</td>\n",
       "    </tr>\n",
       "    <tr>\n",
       "      <th>[GW$_{el}$*h]</th>\n",
       "      <td>42179.243155</td>\n",
       "    </tr>\n",
       "    <tr>\n",
       "      <th rowspan=\"7\" valign=\"top\">Magic power source</th>\n",
       "      <th>TAC</th>\n",
       "      <th>[1e9 Euro/a]</th>\n",
       "      <td>-0.013264</td>\n",
       "    </tr>\n",
       "    <tr>\n",
       "      <th>capacity</th>\n",
       "      <th>[GW$_{el}$]</th>\n",
       "      <td>-0.0</td>\n",
       "    </tr>\n",
       "    <tr>\n",
       "      <th>capexCap</th>\n",
       "      <th>[1e9 Euro/a]</th>\n",
       "      <td>-0.002653</td>\n",
       "    </tr>\n",
       "    <tr>\n",
       "      <th>invest</th>\n",
       "      <th>[1e9 Euro]</th>\n",
       "      <td>-0.053057</td>\n",
       "    </tr>\n",
       "    <tr>\n",
       "      <th rowspan=\"2\" valign=\"top\">operation</th>\n",
       "      <th>[GW$_{el}$*h/a]</th>\n",
       "      <td>-0.0</td>\n",
       "    </tr>\n",
       "    <tr>\n",
       "      <th>[GW$_{el}$*h]</th>\n",
       "      <td>-0.0</td>\n",
       "    </tr>\n",
       "    <tr>\n",
       "      <th>opexCap</th>\n",
       "      <th>[1e9 Euro/a]</th>\n",
       "      <td>-0.010611</td>\n",
       "    </tr>\n",
       "    <tr>\n",
       "      <th rowspan=\"7\" valign=\"top\">Wind (onshore)</th>\n",
       "      <th>TAC</th>\n",
       "      <th>[1e9 Euro/a]</th>\n",
       "      <td>7.796863</td>\n",
       "    </tr>\n",
       "    <tr>\n",
       "      <th>capacity</th>\n",
       "      <th>[GW$_{el}$]</th>\n",
       "      <td>58.1693</td>\n",
       "    </tr>\n",
       "    <tr>\n",
       "      <th>capexCap</th>\n",
       "      <th>[1e9 Euro/a]</th>\n",
       "      <td>6.517139</td>\n",
       "    </tr>\n",
       "    <tr>\n",
       "      <th>invest</th>\n",
       "      <th>[1e9 Euro]</th>\n",
       "      <td>63.98623</td>\n",
       "    </tr>\n",
       "    <tr>\n",
       "      <th rowspan=\"2\" valign=\"top\">operation</th>\n",
       "      <th>[GW$_{el}$*h/a]</th>\n",
       "      <td>43462.880034</td>\n",
       "    </tr>\n",
       "    <tr>\n",
       "      <th>[GW$_{el}$*h]</th>\n",
       "      <td>43462.880034</td>\n",
       "    </tr>\n",
       "    <tr>\n",
       "      <th>opexCap</th>\n",
       "      <th>[1e9 Euro/a]</th>\n",
       "      <td>1.279725</td>\n",
       "    </tr>\n",
       "  </tbody>\n",
       "</table>\n",
       "</div>"
      ],
      "text/plain": [
       "                                             Excercise_Land\n",
       "Component          Property  Unit                          \n",
       "Electricity demand operation [GW$_{el}$*h/a]   42179.243155\n",
       "                             [GW$_{el}$*h]     42179.243155\n",
       "Magic power source TAC       [1e9 Euro/a]         -0.013264\n",
       "                   capacity  [GW$_{el}$]               -0.0\n",
       "                   capexCap  [1e9 Euro/a]         -0.002653\n",
       "                   invest    [1e9 Euro]           -0.053057\n",
       "                   operation [GW$_{el}$*h/a]           -0.0\n",
       "                             [GW$_{el}$*h]             -0.0\n",
       "                   opexCap   [1e9 Euro/a]         -0.010611\n",
       "Wind (onshore)     TAC       [1e9 Euro/a]          7.796863\n",
       "                   capacity  [GW$_{el}$]            58.1693\n",
       "                   capexCap  [1e9 Euro/a]          6.517139\n",
       "                   invest    [1e9 Euro]            63.98623\n",
       "                   operation [GW$_{el}$*h/a]   43462.880034\n",
       "                             [GW$_{el}$*h]     43462.880034\n",
       "                   opexCap   [1e9 Euro/a]          1.279725"
      ]
     },
     "execution_count": 24,
     "metadata": {},
     "output_type": "execute_result"
    }
   ],
   "source": [
    "esM.getOptimizationSummary(\"SourceSinkModel\", outputLevel=2)"
   ]
  },
  {
   "cell_type": "markdown",
   "metadata": {},
   "source": [
    "Plot operation time series (either one or two dimensional)"
   ]
  },
  {
   "cell_type": "code",
   "execution_count": 25,
   "metadata": {
    "tags": [
     "nbval-check-output"
    ]
   },
   "outputs": [
    {
     "data": {
      "image/png": "[encoded data removed]",
      "text/plain": [
       "<Figure size 1200x400 with 1 Axes>"
      ]
     },
     "metadata": {},
     "output_type": "display_data"
    }
   ],
   "source": [
    "fig, ax = fn.plotOperation(esM, \"Electricity demand\", \"Excercise_Land\")"
   ]
  },
  {
   "cell_type": "code",
   "execution_count": null,
   "metadata": {
    "tags": [
     "nbval-check-output"
    ]
   },
   "outputs": [],
   "source": []
  },
  {
   "cell_type": "code",
   "execution_count": 26,
   "metadata": {},
   "outputs": [
    {
     "data": {
      "image/png": "[encoded data removed]",
      "text/plain": [
       "<Figure size 1200x400 with 2 Axes>"
      ]
     },
     "metadata": {},
     "output_type": "display_data"
    }
   ],
   "source": [
    "fig, ax = fn.plotOperationColorMap(esM, \"Electricity demand\", \"Excercise_Land\")"
   ]
  },
  {
   "cell_type": "markdown",
   "metadata": {},
   "source": [
    "### Results for Commodity Storages"
   ]
  },
  {
   "cell_type": "markdown",
   "metadata": {},
   "source": [
    "To analyze the impact of the sorages, the results have  to be displayed. The following comments display both a summarising table and a color map indicating the operatin of the storage."
   ]
  },
  {
   "cell_type": "code",
   "execution_count": 27,
   "metadata": {},
   "outputs": [
    {
     "data": {
      "text/html": [
       "<div>\n",
       "<style scoped>\n",
       "    .dataframe tbody tr th:only-of-type {\n",
       "        vertical-align: middle;\n",
       "    }\n",
       "\n",
       "    .dataframe tbody tr th {\n",
       "        vertical-align: top;\n",
       "    }\n",
       "\n",
       "    .dataframe thead th {\n",
       "        text-align: right;\n",
       "    }\n",
       "</style>\n",
       "<table border=\"1\" class=\"dataframe\">\n",
       "  <thead>\n",
       "    <tr style=\"text-align: right;\">\n",
       "      <th></th>\n",
       "      <th></th>\n",
       "      <th></th>\n",
       "      <th>Excercise_Land</th>\n",
       "    </tr>\n",
       "    <tr>\n",
       "      <th>Component</th>\n",
       "      <th>Property</th>\n",
       "      <th>Unit</th>\n",
       "      <th></th>\n",
       "    </tr>\n",
       "  </thead>\n",
       "  <tbody>\n",
       "    <tr>\n",
       "      <th rowspan=\"9\" valign=\"top\">Li-ion batteries</th>\n",
       "      <th>TAC</th>\n",
       "      <th>[1e9 Euro/a]</th>\n",
       "      <td>30.248263</td>\n",
       "    </tr>\n",
       "    <tr>\n",
       "      <th>capacity</th>\n",
       "      <th>[GW$_{el}$*h]</th>\n",
       "      <td>1800.187266</td>\n",
       "    </tr>\n",
       "    <tr>\n",
       "      <th>capexCap</th>\n",
       "      <th>[1e9 Euro/a]</th>\n",
       "      <td>26.647888</td>\n",
       "    </tr>\n",
       "    <tr>\n",
       "      <th>invest</th>\n",
       "      <th>[1e9 Euro]</th>\n",
       "      <td>271.828277</td>\n",
       "    </tr>\n",
       "    <tr>\n",
       "      <th rowspan=\"2\" valign=\"top\">operationCharge</th>\n",
       "      <th>[GW$_{el}$*h/a]</th>\n",
       "      <td>10376.52389</td>\n",
       "    </tr>\n",
       "    <tr>\n",
       "      <th>[GW$_{el}$*h]</th>\n",
       "      <td>10376.52389</td>\n",
       "    </tr>\n",
       "    <tr>\n",
       "      <th rowspan=\"2\" valign=\"top\">operationDischarge</th>\n",
       "      <th>[GW$_{el}$*h/a]</th>\n",
       "      <td>9092.88701</td>\n",
       "    </tr>\n",
       "    <tr>\n",
       "      <th>[GW$_{el}$*h]</th>\n",
       "      <td>9092.88701</td>\n",
       "    </tr>\n",
       "    <tr>\n",
       "      <th>opexCap</th>\n",
       "      <th>[1e9 Euro/a]</th>\n",
       "      <td>3.600375</td>\n",
       "    </tr>\n",
       "  </tbody>\n",
       "</table>\n",
       "</div>"
      ],
      "text/plain": [
       "                                                    Excercise_Land\n",
       "Component        Property           Unit                          \n",
       "Li-ion batteries TAC                [1e9 Euro/a]         30.248263\n",
       "                 capacity           [GW$_{el}$*h]      1800.187266\n",
       "                 capexCap           [1e9 Euro/a]         26.647888\n",
       "                 invest             [1e9 Euro]          271.828277\n",
       "                 operationCharge    [GW$_{el}$*h/a]    10376.52389\n",
       "                                    [GW$_{el}$*h]      10376.52389\n",
       "                 operationDischarge [GW$_{el}$*h/a]     9092.88701\n",
       "                                    [GW$_{el}$*h]       9092.88701\n",
       "                 opexCap            [1e9 Euro/a]          3.600375"
      ]
     },
     "execution_count": 27,
     "metadata": {},
     "output_type": "execute_result"
    }
   ],
   "source": [
    "esM.getOptimizationSummary(\"StorageModel\", outputLevel=2)"
   ]
  },
  {
   "cell_type": "code",
   "execution_count": 28,
   "metadata": {},
   "outputs": [
    {
     "data": {
      "image/png": "[encoded data removed]",
      "text/plain": [
       "<Figure size 1200x400 with 2 Axes>"
      ]
     },
     "metadata": {},
     "output_type": "display_data"
    }
   ],
   "source": [
    "fig, ax = fn.plotOperationColorMap(\n",
    "    esM,\n",
    "    \"Li-ion batteries\",\n",
    "    \"Excercise_Land\",\n",
    "    variableName=\"stateOfChargeOperationVariablesOptimum\",\n",
    ")"
   ]
  },
  {
   "cell_type": "markdown",
   "metadata": {},
   "source": [
    "## Well done! The Excercise is done!"
   ]
  }
 ],
 "metadata": {
  "anaconda-cloud": {},
  "jupytext": {
   "formats": "ipynb,py:percent",
   "notebook_metadata_filter": "-all"
  },
  "kernelspec": {
   "display_name": "Python 3.7.12 ('GradSchoolESM')",
   "language": "python",
   "name": "python3"
  },
  "language_info": {
   "codemirror_mode": {
    "name": "ipython",
    "version": 3
   },
   "file_extension": ".py",
   "mimetype": "text/x-python",
   "name": "python",
   "nbconvert_exporter": "python",
   "pygments_lexer": "ipython3",
   "version": "3.7.12"
  },
  "vscode": {
   "interpreter": {
    "hash": "d159cd70c5f3fc1b85c388030ab727faac4c0adc937c179ffc2e4982dc85e772"
   }
  }
 },
 "nbformat": 4,
 "nbformat_minor": 4
}
