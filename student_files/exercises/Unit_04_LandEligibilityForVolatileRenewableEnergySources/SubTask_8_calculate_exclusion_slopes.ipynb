{
 "cells": [
  {
   "cell_type": "markdown",
   "metadata": {},
   "source": [
    "# Calculate Exclusion Slopes over Buffer Variations"
   ]
  },
  {
   "cell_type": "markdown",
   "metadata": {},
   "source": [
    "### In this exercise, you will learn how to calculate exclusion slopes for different criteria. This allows you to better understand which exclusions are critical and which are particularly sensitive to buffer changes in certain ranges. It is an important information for policymaking!"
   ]
  },
  {
   "cell_type": "markdown",
   "metadata": {},
   "source": [
    "## Import required packages"
   ]
  },
  {
   "cell_type": "code",
   "execution_count": 1,
   "metadata": {},
   "outputs": [],
   "source": [
    "import glaes as gl\n",
    "import geokit as gk\n",
    "import os\n",
    "import pathlib\n",
    "from copy import copy"
   ]
  },
  {
   "cell_type": "markdown",
   "metadata": {},
   "source": [
    "## Define input and output paths and filenames"
   ]
  },
  {
   "cell_type": "code",
   "execution_count": 2,
   "metadata": {},
   "outputs": [
    {
     "name": "stdout",
     "output_type": "stream",
     "text": [
      "Current working directory: /storage_cluster/projects/2025_c-winkler_IMP-EGH/_01_course_repository/wascal_graduate_school/student_files/exercises/Unit_04_LandEligibilityForVolatileRenewableEnergySources\n",
      "Results folder: /storage_cluster/projects/2025_c-winkler_IMP-EGH/_01_course_repository/wascal_graduate_school/student_files/results\n"
     ]
    }
   ],
   "source": [
    "# NOTE: The results folder exists in your repo under /student_files/results/, but the files created therein will not be pushed back to git\n",
    "\n",
    "# this is the current working directory (\"student_files/exercises\")\n",
    "cwd = pathlib.Path().cwd()\n",
    "print(f\"Current working directory: {cwd}\")\n",
    "\n",
    "# the results folder is in \"student_files/results\", so go \"2 folders up\"\n",
    "results_folder = os.path.join(os.path.dirname(os.path.dirname(cwd)), 'results')\n",
    "# make sure folder exists\n",
    "assert os.path.isdir(results_folder), f\"results folder does not exist: '{results_folder}'\"\n",
    "\n",
    "print(f\"Results folder:\", results_folder)"
   ]
  },
  {
   "cell_type": "code",
   "execution_count": 3,
   "metadata": {},
   "outputs": [],
   "source": [
    "region_shp = r\"region_shapefiles//COUNTRY_gadm_shapes_GID_level_1.shp\"\n",
    "WSF2019_basepath = r\"exclusion_datasets//WSF2019//COUNTRY//COUNTRY_extract_WSF2019_resampled.tif\""
   ]
  },
  {
   "cell_type": "code",
   "execution_count": 4,
   "metadata": {},
   "outputs": [
    {
     "name": "stdout",
     "output_type": "stream",
     "text": [
      "/storage_cluster/projects/2025_c-winkler_IMP-EGH/_01_course_repository/wascal_graduate_school/student_files/data\n"
     ]
    }
   ],
   "source": [
    "# just like before, we determine our datafolder, here in a one liner\n",
    "data_basefolder = os.path.join(pathlib.Path().cwd().parent.parent, 'data')\n",
    "print(data_basefolder)"
   ]
  },
  {
   "cell_type": "markdown",
   "metadata": {},
   "source": [
    "## First understand how to fill a table with data iteratively"
   ]
  },
  {
   "cell_type": "code",
   "execution_count": 5,
   "metadata": {},
   "outputs": [
    {
     "data": {
      "text/html": [
       "<div>\n",
       "<style scoped>\n",
       "    .dataframe tbody tr th:only-of-type {\n",
       "        vertical-align: middle;\n",
       "    }\n",
       "\n",
       "    .dataframe tbody tr th {\n",
       "        vertical-align: top;\n",
       "    }\n",
       "\n",
       "    .dataframe thead th {\n",
       "        text-align: right;\n",
       "    }\n",
       "</style>\n",
       "<table border=\"1\" class=\"dataframe\">\n",
       "  <thead>\n",
       "    <tr style=\"text-align: right;\">\n",
       "      <th></th>\n",
       "    </tr>\n",
       "  </thead>\n",
       "  <tbody>\n",
       "  </tbody>\n",
       "</table>\n",
       "</div>"
      ],
      "text/plain": [
       "Empty DataFrame\n",
       "Columns: []\n",
       "Index: []"
      ]
     },
     "execution_count": 5,
     "metadata": {},
     "output_type": "execute_result"
    }
   ],
   "source": [
    "# import pandas - this should usually be done at the head of the script but is shown here since it is needed for this step\n",
    "# pandas is the main tool for dataframe handling, the equivalent of tables\n",
    "import pandas as pd\n",
    "\n",
    "# with pandas, we can create an empty dataframe which we call 'df'\n",
    "df = pd.DataFrame()\n",
    "\n",
    "# the dataframe looks very boring still, it is empty\n",
    "df"
   ]
  },
  {
   "cell_type": "code",
   "execution_count": 6,
   "metadata": {},
   "outputs": [
    {
     "data": {
      "text/html": [
       "<div>\n",
       "<style scoped>\n",
       "    .dataframe tbody tr th:only-of-type {\n",
       "        vertical-align: middle;\n",
       "    }\n",
       "\n",
       "    .dataframe tbody tr th {\n",
       "        vertical-align: top;\n",
       "    }\n",
       "\n",
       "    .dataframe thead th {\n",
       "        text-align: right;\n",
       "    }\n",
       "</style>\n",
       "<table border=\"1\" class=\"dataframe\">\n",
       "  <thead>\n",
       "    <tr style=\"text-align: right;\">\n",
       "      <th></th>\n",
       "      <th>first_column_name</th>\n",
       "      <th>second_column_name</th>\n",
       "    </tr>\n",
       "  </thead>\n",
       "  <tbody>\n",
       "    <tr>\n",
       "      <th>first_row_index</th>\n",
       "      <td>some_value</td>\n",
       "      <td>existing combination</td>\n",
       "    </tr>\n",
       "    <tr>\n",
       "      <th>second_row_index</th>\n",
       "      <td>NaN</td>\n",
       "      <td>also_some_value</td>\n",
       "    </tr>\n",
       "  </tbody>\n",
       "</table>\n",
       "</div>"
      ],
      "text/plain": [
       "                 first_column_name    second_column_name\n",
       "first_row_index         some_value  existing combination\n",
       "second_row_index               NaN       also_some_value"
      ]
     },
     "execution_count": 6,
     "metadata": {},
     "output_type": "execute_result"
    }
   ],
   "source": [
    "# we can set values in the above dataframe like this:\n",
    "df.loc['first_row_index','first_column_name']='some_value'\n",
    "# if the row or column indices do not exist, they will be created\n",
    "df.loc['second_row_index','second_column_name']='also_some_value'\n",
    "# but we can also set values into existing row/column combinations (we can even overwrite)\n",
    "df.loc['first_row_index','second_column_name']='existing combination'\n",
    "# you can see that these row/column combinations where no data has been set are NaN (Not a Number)\n",
    "df"
   ]
  },
  {
   "cell_type": "code",
   "execution_count": null,
   "metadata": {},
   "outputs": [],
   "source": []
  },
  {
   "cell_type": "code",
   "execution_count": 7,
   "metadata": {},
   "outputs": [
    {
     "name": "stdout",
     "output_type": "stream",
     "text": [
      "a\n",
      "b\n",
      "3\n",
      "d\n"
     ]
    }
   ],
   "source": [
    "# the for loop will iterate through an iterable of values and the iteration variable (e.g. here: var) will take the value of the respective entry in the iterable\n",
    "for var in ['a','b',3,'d']:\n",
    "    print(var) #this will print the value that var takes for each iteration"
   ]
  },
  {
   "cell_type": "code",
   "execution_count": 8,
   "metadata": {},
   "outputs": [
    {
     "data": {
      "text/html": [
       "<div>\n",
       "<style scoped>\n",
       "    .dataframe tbody tr th:only-of-type {\n",
       "        vertical-align: middle;\n",
       "    }\n",
       "\n",
       "    .dataframe tbody tr th {\n",
       "        vertical-align: top;\n",
       "    }\n",
       "\n",
       "    .dataframe thead th {\n",
       "        text-align: right;\n",
       "    }\n",
       "</style>\n",
       "<table border=\"1\" class=\"dataframe\">\n",
       "  <thead>\n",
       "    <tr style=\"text-align: right;\">\n",
       "      <th></th>\n",
       "      <th>some_usecase</th>\n",
       "      <th>some_other_usecase</th>\n",
       "    </tr>\n",
       "  </thead>\n",
       "  <tbody>\n",
       "    <tr>\n",
       "      <th>5</th>\n",
       "      <td>20.0</td>\n",
       "      <td>12.0</td>\n",
       "    </tr>\n",
       "    <tr>\n",
       "      <th>10</th>\n",
       "      <td>22.0</td>\n",
       "      <td>19.0</td>\n",
       "    </tr>\n",
       "    <tr>\n",
       "      <th>15</th>\n",
       "      <td>27.0</td>\n",
       "      <td>29.0</td>\n",
       "    </tr>\n",
       "  </tbody>\n",
       "</table>\n",
       "</div>"
      ],
      "text/plain": [
       "    some_usecase  some_other_usecase\n",
       "5           20.0                12.0\n",
       "10          22.0                19.0\n",
       "15          27.0                29.0"
      ]
     },
     "execution_count": 8,
     "metadata": {},
     "output_type": "execute_result"
    }
   ],
   "source": [
    "# instead of printing, we can do ANY task here\n",
    "df = pd.DataFrame()\n",
    "\n",
    "some_dict={5:20, 10:22, 15:27}\n",
    "some_otherdict={5:12, 10:19, 15:29}\n",
    "\n",
    "for var in [5,10,15]:\n",
    "    df.loc[var, 'some_usecase']=some_dict[var]\n",
    "\n",
    "# we can do that again for some other usecase\n",
    "# NOTE that the iterable (here the list [5, 10, 15]) is the same, meaning that no new rows need to be added\n",
    "for var in [5,10,15]:\n",
    "    df.loc[var, 'some_other_usecase']=some_otherdict[var]\n",
    "\n",
    "# we now have a pandas dataframe with some numbers - a small table!\n",
    "df"
   ]
  },
  {
   "cell_type": "code",
   "execution_count": 9,
   "metadata": {},
   "outputs": [
    {
     "data": {
      "text/plain": [
       "<Axes: >"
      ]
     },
     "execution_count": 9,
     "metadata": {},
     "output_type": "execute_result"
    },
    {
     "data": {
      "image/png": "[encoded data removed]",
      "text/plain": [
       "<Figure size 640x480 with 1 Axes>"
      ]
     },
     "metadata": {},
     "output_type": "display_data"
    }
   ],
   "source": [
    "# we can now plot the variations, you see that the index is shown on the x axis and the column values are the y values!\n",
    "# the legend shows the respective column names\n",
    "df.plot()"
   ]
  },
  {
   "cell_type": "markdown",
   "metadata": {},
   "source": [
    "# TASK: Plot the exclusion slope based on at least 5 value pairs, for an exclusion of water surfaces and forests. Use a basic exclusion buffer of 100m for both criteria."
   ]
  },
  {
   "cell_type": "markdown",
   "metadata": {},
   "source": [
    "### NOTE: You can use any method, but you may find some of the iteration and plotting approaches helpful that are shown here above. Exclusion calculation was introduced in the earlier exercises. (Please use the study region that we used in the earlier exercises as well)"
   ]
  },
  {
   "cell_type": "markdown",
   "metadata": {},
   "source": [
    "### NOTE: What information  do you draw from the resulting plot? Make some notes so we can discuss together afterwards!"
   ]
  }
 ],
 "metadata": {
  "kernelspec": {
   "display_name": "ethos_potentials",
   "language": "python",
   "name": "python3"
  },
  "language_info": {
   "codemirror_mode": {
    "name": "ipython",
    "version": 3
   },
   "file_extension": ".py",
   "mimetype": "text/x-python",
   "name": "python",
   "nbconvert_exporter": "python",
   "pygments_lexer": "ipython3",
   "version": "3.10.8"
  },
  "orig_nbformat": 4
 },
 "nbformat": 4,
 "nbformat_minor": 2
}
